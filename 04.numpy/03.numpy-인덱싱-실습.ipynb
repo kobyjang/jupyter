{
 "cells": [
  {
   "cell_type": "code",
   "execution_count": 2,
   "id": "5ccb73b6",
   "metadata": {},
   "outputs": [],
   "source": [
    "import numpy as np"
   ]
  },
  {
   "cell_type": "markdown",
   "id": "fedafd83",
   "metadata": {},
   "source": [
    "#### 인덱싱\n",
    "- 단일 값 : 인덱스를 이용하여 하나의 데이터에 접근 \n",
    "- 슬라이싱 : 연속된 인덱스를 이용하여 여러 데이터에 접근\n",
    "- 팬시 인덱싱 : 리스트 형태의 인덱스를 이용하여 여러 데이터에 접근\n",
    "- 불린 인덱싱 : 불링값의 리스트 형태의 인텍스를 이용하여 여러 데이터에 접근\n",
    "    - 인덱스를 주면 차원이 감소하고 슬라이싱을 하면 차원이 유지 됨\n",
    "    - https://darrengwon.tistory.com/657"
   ]
  },
  {
   "cell_type": "markdown",
   "id": "de3d3f3a",
   "metadata": {},
   "source": [
    "#### 단일 값\n",
    "- 1차원"
   ]
  },
  {
   "cell_type": "code",
   "execution_count": 5,
   "id": "701bb63f",
   "metadata": {},
   "outputs": [
    {
     "name": "stdout",
     "output_type": "stream",
     "text": [
      "[ 1  2  3  4  5  6  7  8  9 10]\n"
     ]
    }
   ],
   "source": [
    "arr = np.arange(1, 11)\n",
    "print(arr)"
   ]
  },
  {
   "cell_type": "code",
   "execution_count": 6,
   "id": "af548a84",
   "metadata": {},
   "outputs": [
    {
     "data": {
      "text/plain": [
       "1"
      ]
     },
     "execution_count": 6,
     "metadata": {},
     "output_type": "execute_result"
    }
   ],
   "source": [
    "arr[0]"
   ]
  },
  {
   "cell_type": "code",
   "execution_count": 7,
   "id": "6dba2723",
   "metadata": {},
   "outputs": [
    {
     "data": {
      "text/plain": [
       "4"
      ]
     },
     "execution_count": 7,
     "metadata": {},
     "output_type": "execute_result"
    }
   ],
   "source": [
    "arr[3]"
   ]
  },
  {
   "cell_type": "code",
   "execution_count": 8,
   "id": "251b2edb",
   "metadata": {},
   "outputs": [
    {
     "data": {
      "text/plain": [
       "10"
      ]
     },
     "execution_count": 8,
     "metadata": {},
     "output_type": "execute_result"
    }
   ],
   "source": [
    "arr[-1]"
   ]
  },
  {
   "cell_type": "code",
   "execution_count": 9,
   "id": "841f5c35",
   "metadata": {},
   "outputs": [
    {
     "data": {
      "text/plain": [
       "9"
      ]
     },
     "execution_count": 9,
     "metadata": {},
     "output_type": "execute_result"
    }
   ],
   "source": [
    "arr[-2]"
   ]
  },
  {
   "cell_type": "code",
   "execution_count": 10,
   "id": "afd70f0a",
   "metadata": {},
   "outputs": [
    {
     "data": {
      "text/plain": [
       "0"
      ]
     },
     "execution_count": 10,
     "metadata": {},
     "output_type": "execute_result"
    }
   ],
   "source": [
    "arr[-2].ndim"
   ]
  },
  {
   "cell_type": "code",
   "execution_count": 11,
   "id": "419272b0",
   "metadata": {},
   "outputs": [
    {
     "data": {
      "text/plain": [
       "1"
      ]
     },
     "execution_count": 11,
     "metadata": {},
     "output_type": "execute_result"
    }
   ],
   "source": [
    "arr.ndim"
   ]
  },
  {
   "cell_type": "markdown",
   "id": "d4628f9f",
   "metadata": {},
   "source": [
    "- 2차원"
   ]
  },
  {
   "cell_type": "code",
   "execution_count": 14,
   "id": "1d5c9103",
   "metadata": {},
   "outputs": [
    {
     "name": "stdout",
     "output_type": "stream",
     "text": [
      "[[1 2 3]\n",
      " [4 5 6]\n",
      " [7 8 9]]\n"
     ]
    }
   ],
   "source": [
    "arr = np.arange(1, 10).reshape(3, -1)\n",
    "print(arr)"
   ]
  },
  {
   "cell_type": "code",
   "execution_count": 16,
   "id": "d66d7e21",
   "metadata": {},
   "outputs": [
    {
     "name": "stdout",
     "output_type": "stream",
     "text": [
      "[1 2 3]\n"
     ]
    }
   ],
   "source": [
    "print(arr[0])"
   ]
  },
  {
   "cell_type": "code",
   "execution_count": 18,
   "id": "7b5cc5b2",
   "metadata": {},
   "outputs": [
    {
     "name": "stdout",
     "output_type": "stream",
     "text": [
      "(3,)\n",
      "1\n"
     ]
    }
   ],
   "source": [
    "print(arr[0].shape)\n",
    "print(arr[0].ndim)"
   ]
  },
  {
   "cell_type": "code",
   "execution_count": 19,
   "id": "75148b3d",
   "metadata": {},
   "outputs": [
    {
     "name": "stdout",
     "output_type": "stream",
     "text": [
      "3\n"
     ]
    }
   ],
   "source": [
    "print(arr[0, 2])"
   ]
  },
  {
   "cell_type": "code",
   "execution_count": 21,
   "id": "8212ef63",
   "metadata": {},
   "outputs": [
    {
     "name": "stdout",
     "output_type": "stream",
     "text": [
      "3\n"
     ]
    }
   ],
   "source": [
    "print(arr[0, -1])"
   ]
  },
  {
   "cell_type": "markdown",
   "id": "a9b57a79",
   "metadata": {},
   "source": [
    "- 3차원"
   ]
  },
  {
   "cell_type": "code",
   "execution_count": 24,
   "id": "7a506b1f",
   "metadata": {},
   "outputs": [
    {
     "name": "stdout",
     "output_type": "stream",
     "text": [
      "[[[1 2]\n",
      "  [3 4]]\n",
      "\n",
      " [[5 6]\n",
      "  [7 8]]]\n",
      "(2, 2, 2)\n"
     ]
    }
   ],
   "source": [
    "arr = np.arange(1, 9).reshape(2, 2, 2)\n",
    "print(arr)\n",
    "print(arr.shape)"
   ]
  },
  {
   "cell_type": "code",
   "execution_count": 26,
   "id": "2066c1a5",
   "metadata": {},
   "outputs": [
    {
     "name": "stdout",
     "output_type": "stream",
     "text": [
      "[[1 2]\n",
      " [3 4]]\n",
      "2\n"
     ]
    }
   ],
   "source": [
    "print(arr[0])\n",
    "print(arr[0].ndim)"
   ]
  },
  {
   "cell_type": "code",
   "execution_count": 28,
   "id": "be2193f1",
   "metadata": {},
   "outputs": [
    {
     "name": "stdout",
     "output_type": "stream",
     "text": [
      "[1 2]\n",
      "1\n"
     ]
    }
   ],
   "source": [
    "print(arr[0, 0])\n",
    "print(arr[0, 0].ndim)"
   ]
  },
  {
   "cell_type": "code",
   "execution_count": 29,
   "id": "04f46427",
   "metadata": {},
   "outputs": [
    {
     "name": "stdout",
     "output_type": "stream",
     "text": [
      "8\n"
     ]
    }
   ],
   "source": [
    "print(arr[1, 1, 1])"
   ]
  },
  {
   "cell_type": "markdown",
   "id": "8715c42f",
   "metadata": {},
   "source": [
    "#### 슬라이싱"
   ]
  },
  {
   "cell_type": "markdown",
   "id": "bb935742",
   "metadata": {},
   "source": [
    "- 1차원"
   ]
  },
  {
   "cell_type": "code",
   "execution_count": 30,
   "id": "ae729333",
   "metadata": {},
   "outputs": [
    {
     "name": "stdout",
     "output_type": "stream",
     "text": [
      "[ 1  2  3  4  5  6  7  8  9 10]\n"
     ]
    }
   ],
   "source": [
    "arr = np.arange(1, 11)\n",
    "print(arr)"
   ]
  },
  {
   "cell_type": "code",
   "execution_count": 31,
   "id": "0164f3cb",
   "metadata": {},
   "outputs": [
    {
     "name": "stdout",
     "output_type": "stream",
     "text": [
      "[2 3 4 5]\n"
     ]
    }
   ],
   "source": [
    "print(arr[1:5])"
   ]
  },
  {
   "cell_type": "code",
   "execution_count": 32,
   "id": "aab9b56c",
   "metadata": {},
   "outputs": [
    {
     "name": "stdout",
     "output_type": "stream",
     "text": [
      "[ 3  4  5  6  7  8  9 10]\n"
     ]
    }
   ],
   "source": [
    "print(arr[2:])"
   ]
  },
  {
   "cell_type": "code",
   "execution_count": 33,
   "id": "838838ae",
   "metadata": {},
   "outputs": [
    {
     "name": "stdout",
     "output_type": "stream",
     "text": [
      "[1 2 3 4 5 6 7 8]\n"
     ]
    }
   ],
   "source": [
    "print(arr[:8])"
   ]
  },
  {
   "cell_type": "code",
   "execution_count": 34,
   "id": "4b29d5df",
   "metadata": {},
   "outputs": [
    {
     "name": "stdout",
     "output_type": "stream",
     "text": [
      "[1 2 3 4 5 6 7 8]\n"
     ]
    }
   ],
   "source": [
    "print(arr[:-2])"
   ]
  },
  {
   "cell_type": "code",
   "execution_count": 35,
   "id": "1e706b62",
   "metadata": {},
   "outputs": [
    {
     "name": "stdout",
     "output_type": "stream",
     "text": [
      "1\n"
     ]
    }
   ],
   "source": [
    "print(arr[1:5].ndim)"
   ]
  },
  {
   "cell_type": "markdown",
   "id": "eb96dd40",
   "metadata": {},
   "source": [
    "- 2차원"
   ]
  },
  {
   "cell_type": "code",
   "execution_count": 52,
   "id": "67e7a8d2",
   "metadata": {},
   "outputs": [
    {
     "name": "stdout",
     "output_type": "stream",
     "text": [
      "[[ 0  1  2  3]\n",
      " [ 4  5  6  7]\n",
      " [ 8  9 10 11]\n",
      " [12 13 14 15]]\n"
     ]
    }
   ],
   "source": [
    "arr = np.arange(16).reshape(4, -1)\n",
    "print(arr)"
   ]
  },
  {
   "cell_type": "code",
   "execution_count": 56,
   "id": "d81fe6b6",
   "metadata": {},
   "outputs": [
    {
     "name": "stdout",
     "output_type": "stream",
     "text": [
      "[[ 5  6]\n",
      " [ 9 10]]\n",
      "(2, 2)\n",
      "2\n"
     ]
    }
   ],
   "source": [
    "print(arr[1:3, 1:3])\n",
    "print(arr[1:3, 1:3].shape)\n",
    "print(arr[1:3, 1:3].ndim)"
   ]
  },
  {
   "cell_type": "code",
   "execution_count": 57,
   "id": "3f28d3dd",
   "metadata": {},
   "outputs": [
    {
     "name": "stdout",
     "output_type": "stream",
     "text": [
      "[ 9 10]\n"
     ]
    }
   ],
   "source": [
    "print(arr[2, 1:3])"
   ]
  },
  {
   "cell_type": "markdown",
   "id": "b73a567e",
   "metadata": {},
   "source": [
    "10, 11, 14, 15 / 9, 10, 11 / 5, 9 / 4, 5, 6, 7"
   ]
  },
  {
   "cell_type": "markdown",
   "id": "ff6aeb63",
   "metadata": {},
   "source": [
    "- 3차원"
   ]
  },
  {
   "cell_type": "code",
   "execution_count": 58,
   "id": "19cc8ada",
   "metadata": {},
   "outputs": [
    {
     "name": "stdout",
     "output_type": "stream",
     "text": [
      "[[[ 0  1  2]\n",
      "  [ 3  4  5]\n",
      "  [ 6  7  8]]\n",
      "\n",
      " [[ 9 10 11]\n",
      "  [12 13 14]\n",
      "  [15 16 17]]\n",
      "\n",
      " [[18 19 20]\n",
      "  [21 22 23]\n",
      "  [24 25 26]]]\n"
     ]
    }
   ],
   "source": [
    "arr = np.arange(27).reshape(3, 3, 3)\n",
    "print(arr)"
   ]
  },
  {
   "cell_type": "code",
   "execution_count": 59,
   "id": "7ffdcf13",
   "metadata": {
    "scrolled": true
   },
   "outputs": [
    {
     "name": "stdout",
     "output_type": "stream",
     "text": [
      "[[[ 0  1]\n",
      "  [ 3  4]]\n",
      "\n",
      " [[ 9 10]\n",
      "  [12 13]]]\n"
     ]
    }
   ],
   "source": [
    "print(arr[0:2, 0:2, 0:2])"
   ]
  },
  {
   "cell_type": "code",
   "execution_count": 60,
   "id": "0db1fc84",
   "metadata": {},
   "outputs": [
    {
     "name": "stdout",
     "output_type": "stream",
     "text": [
      "[[18 19]\n",
      " [21 22]]\n"
     ]
    }
   ],
   "source": [
    "print(arr[2, 0:2, 0:2])"
   ]
  },
  {
   "cell_type": "code",
   "execution_count": 64,
   "id": "beb470e2",
   "metadata": {},
   "outputs": [
    {
     "name": "stdout",
     "output_type": "stream",
     "text": [
      "[[[ 0  1]\n",
      "  [ 3  4]\n",
      "  [ 6  7]]\n",
      "\n",
      " [[ 9 10]\n",
      "  [12 13]\n",
      "  [15 16]]\n",
      "\n",
      " [[18 19]\n",
      "  [21 22]\n",
      "  [24 25]]]\n"
     ]
    }
   ],
   "source": [
    "print(arr[:, :, :2])"
   ]
  },
  {
   "cell_type": "markdown",
   "id": "7d23e0ac",
   "metadata": {},
   "source": [
    "#### 팬시인덱싱"
   ]
  },
  {
   "cell_type": "markdown",
   "id": "973a566b",
   "metadata": {},
   "source": [
    "- 1차원"
   ]
  },
  {
   "cell_type": "code",
   "execution_count": 66,
   "id": "1874557b",
   "metadata": {},
   "outputs": [
    {
     "name": "stdout",
     "output_type": "stream",
     "text": [
      "[ 1  2  3  4  5  6  7  8  9 10]\n"
     ]
    }
   ],
   "source": [
    "arr = np.arange(1, 11)\n",
    "print(arr)"
   ]
  },
  {
   "cell_type": "code",
   "execution_count": 70,
   "id": "21a79a58",
   "metadata": {},
   "outputs": [
    {
     "data": {
      "text/plain": [
       "9"
      ]
     },
     "execution_count": 70,
     "metadata": {},
     "output_type": "execute_result"
    }
   ],
   "source": [
    "arr[8]"
   ]
  },
  {
   "cell_type": "code",
   "execution_count": 71,
   "id": "6b74ac70",
   "metadata": {},
   "outputs": [
    {
     "data": {
      "text/plain": [
       "array([2, 3, 4, 5])"
      ]
     },
     "execution_count": 71,
     "metadata": {},
     "output_type": "execute_result"
    }
   ],
   "source": [
    "arr[1:5]"
   ]
  },
  {
   "cell_type": "code",
   "execution_count": null,
   "id": "21e26e95",
   "metadata": {},
   "outputs": [],
   "source": [
    "arr[[2, 5, 8]]"
   ]
  },
  {
   "cell_type": "markdown",
   "id": "19a29d5e",
   "metadata": {},
   "source": [
    "- 2차원"
   ]
  },
  {
   "cell_type": "code",
   "execution_count": 72,
   "id": "2df52cb6",
   "metadata": {},
   "outputs": [
    {
     "name": "stdout",
     "output_type": "stream",
     "text": [
      "[[1 2 3]\n",
      " [4 5 6]\n",
      " [7 8 9]]\n"
     ]
    }
   ],
   "source": [
    "arr = np.arange(1, 10).reshape(3, -1)\n",
    "print(arr)"
   ]
  },
  {
   "cell_type": "code",
   "execution_count": 77,
   "id": "eb20cdc2",
   "metadata": {},
   "outputs": [
    {
     "name": "stdout",
     "output_type": "stream",
     "text": [
      "[3 9]\n"
     ]
    }
   ],
   "source": [
    "print(arr[[0, 2], 2])"
   ]
  },
  {
   "cell_type": "markdown",
   "id": "f7392847",
   "metadata": {},
   "source": [
    "#### 불린 인덱싱"
   ]
  },
  {
   "cell_type": "code",
   "execution_count": 78,
   "id": "98e9a1fc",
   "metadata": {},
   "outputs": [
    {
     "name": "stdout",
     "output_type": "stream",
     "text": [
      "[ 1  2  3  4  5  6  7  8  9 10]\n"
     ]
    }
   ],
   "source": [
    "arr = np.arange(1, 11)\n",
    "print(arr)"
   ]
  },
  {
   "cell_type": "code",
   "execution_count": 79,
   "id": "1915409f",
   "metadata": {},
   "outputs": [
    {
     "data": {
      "text/plain": [
       "array([False, False, False,  True,  True,  True,  True,  True,  True,\n",
       "        True])"
      ]
     },
     "execution_count": 79,
     "metadata": {},
     "output_type": "execute_result"
    }
   ],
   "source": [
    "arr > 3"
   ]
  },
  {
   "cell_type": "code",
   "execution_count": 91,
   "id": "c6629c77",
   "metadata": {},
   "outputs": [
    {
     "name": "stdout",
     "output_type": "stream",
     "text": [
      "[False False False  True  True  True  True  True  True  True]\n"
     ]
    }
   ],
   "source": [
    "mask_1 = arr > 3\n",
    "print(mask_1)"
   ]
  },
  {
   "cell_type": "code",
   "execution_count": null,
   "id": "2c421fa0",
   "metadata": {},
   "outputs": [],
   "source": [
    "[False False False  True  True  True  True  True  True  True]"
   ]
  },
  {
   "cell_type": "code",
   "execution_count": 90,
   "id": "6bc54a23",
   "metadata": {},
   "outputs": [
    {
     "data": {
      "text/plain": [
       "array([ 4,  5,  6,  7,  8,  9, 10])"
      ]
     },
     "execution_count": 90,
     "metadata": {},
     "output_type": "execute_result"
    }
   ],
   "source": [
    "arr[[False, False, False,  True,  True,  True,  True,  True,  True,  True]]"
   ]
  },
  {
   "cell_type": "code",
   "execution_count": 92,
   "id": "0ee8e1b0",
   "metadata": {},
   "outputs": [
    {
     "data": {
      "text/plain": [
       "array([ 4,  5,  6,  7,  8,  9, 10])"
      ]
     },
     "execution_count": 92,
     "metadata": {},
     "output_type": "execute_result"
    }
   ],
   "source": [
    "arr[mask_1]"
   ]
  },
  {
   "cell_type": "code",
   "execution_count": 93,
   "id": "ce9ffcd6",
   "metadata": {},
   "outputs": [
    {
     "data": {
      "text/plain": [
       "array([ 4,  5,  6,  7,  8,  9, 10])"
      ]
     },
     "execution_count": 93,
     "metadata": {},
     "output_type": "execute_result"
    }
   ],
   "source": [
    "arr[arr > 3]"
   ]
  },
  {
   "cell_type": "markdown",
   "id": "e81115c3",
   "metadata": {},
   "source": [
    "#### 여러조건\n",
    "    - and : &\n",
    "    - or : |"
   ]
  },
  {
   "cell_type": "code",
   "execution_count": 96,
   "id": "d276f2ed",
   "metadata": {},
   "outputs": [
    {
     "name": "stdout",
     "output_type": "stream",
     "text": [
      "[False False False  True  True  True False False False False]\n"
     ]
    }
   ],
   "source": [
    "mask2 = (arr > 3) & (arr < 7)\n",
    "print(mask2)"
   ]
  },
  {
   "cell_type": "code",
   "execution_count": 97,
   "id": "f08dd9c4",
   "metadata": {},
   "outputs": [
    {
     "data": {
      "text/plain": [
       "array([4, 5, 6])"
      ]
     },
     "execution_count": 97,
     "metadata": {},
     "output_type": "execute_result"
    }
   ],
   "source": [
    "arr[mask2]"
   ]
  },
  {
   "cell_type": "code",
   "execution_count": 98,
   "id": "ba4cea0d",
   "metadata": {},
   "outputs": [
    {
     "data": {
      "text/plain": [
       "array([4, 5, 6])"
      ]
     },
     "execution_count": 98,
     "metadata": {},
     "output_type": "execute_result"
    }
   ],
   "source": [
    "arr[(arr > 3) & (arr < 7)]"
   ]
  },
  {
   "cell_type": "code",
   "execution_count": null,
   "id": "159dfe4e",
   "metadata": {},
   "outputs": [],
   "source": []
  },
  {
   "cell_type": "code",
   "execution_count": null,
   "id": "212b5c48",
   "metadata": {},
   "outputs": [],
   "source": []
  },
  {
   "cell_type": "code",
   "execution_count": null,
   "id": "168fb1e1",
   "metadata": {},
   "outputs": [],
   "source": []
  },
  {
   "cell_type": "code",
   "execution_count": null,
   "id": "2ae7ec09",
   "metadata": {},
   "outputs": [],
   "source": []
  }
 ],
 "metadata": {
  "kernelspec": {
   "display_name": "Python 3 (ipykernel)",
   "language": "python",
   "name": "python3"
  },
  "language_info": {
   "codemirror_mode": {
    "name": "ipython",
    "version": 3
   },
   "file_extension": ".py",
   "mimetype": "text/x-python",
   "name": "python",
   "nbconvert_exporter": "python",
   "pygments_lexer": "ipython3",
   "version": "3.8.10"
  }
 },
 "nbformat": 4,
 "nbformat_minor": 5
}
