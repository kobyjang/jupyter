{
 "cells": [
  {
   "cell_type": "code",
   "execution_count": 1,
   "id": "94c772a5",
   "metadata": {},
   "outputs": [],
   "source": [
    "import numpy as np"
   ]
  },
  {
   "cell_type": "markdown",
   "id": "61004bce",
   "metadata": {},
   "source": [
    "#### 통계\n",
    "- mean"
   ]
  },
  {
   "cell_type": "code",
   "execution_count": 2,
   "id": "a7f5a1da",
   "metadata": {},
   "outputs": [
    {
     "name": "stdout",
     "output_type": "stream",
     "text": [
      "[[0.26062992 0.49284183 0.44792143 0.52886801 0.863245  ]\n",
      " [0.50523251 0.45558647 0.7096893  0.39900109 0.45272466]]\n"
     ]
    }
   ],
   "source": [
    "arr1 = np.random.rand(10).reshape(2, 5)\n",
    "print(arr1)"
   ]
  },
  {
   "cell_type": "code",
   "execution_count": 3,
   "id": "6a1377b5",
   "metadata": {},
   "outputs": [
    {
     "data": {
      "text/plain": [
       "0.5115740229784891"
      ]
     },
     "execution_count": 3,
     "metadata": {},
     "output_type": "execute_result"
    }
   ],
   "source": [
    "np.mean(arr1)"
   ]
  },
  {
   "cell_type": "code",
   "execution_count": 4,
   "id": "b861522a",
   "metadata": {},
   "outputs": [
    {
     "data": {
      "text/plain": [
       "0.5115740229784891"
      ]
     },
     "execution_count": 4,
     "metadata": {},
     "output_type": "execute_result"
    }
   ],
   "source": [
    "arr1.mean()"
   ]
  },
  {
   "cell_type": "markdown",
   "id": "77d84ea5",
   "metadata": {},
   "source": [
    "- max, min, argmax : 가장 큰 값의 index, argmin : 가장 작은 값의 index\n",
    "- argmax, argmin은 다차원이어도 1차원형태의 index를 반환 함"
   ]
  },
  {
   "cell_type": "code",
   "execution_count": 6,
   "id": "d0fe46ce",
   "metadata": {},
   "outputs": [
    {
     "data": {
      "text/plain": [
       "0.8632450024862983"
      ]
     },
     "execution_count": 6,
     "metadata": {},
     "output_type": "execute_result"
    }
   ],
   "source": [
    "np.max(arr1)"
   ]
  },
  {
   "cell_type": "code",
   "execution_count": 7,
   "id": "cb17c48d",
   "metadata": {},
   "outputs": [
    {
     "data": {
      "text/plain": [
       "0.8632450024862983"
      ]
     },
     "execution_count": 7,
     "metadata": {},
     "output_type": "execute_result"
    }
   ],
   "source": [
    "arr1.max()"
   ]
  },
  {
   "cell_type": "code",
   "execution_count": 8,
   "id": "e09c7348",
   "metadata": {},
   "outputs": [
    {
     "data": {
      "text/plain": [
       "4"
      ]
     },
     "execution_count": 8,
     "metadata": {},
     "output_type": "execute_result"
    }
   ],
   "source": [
    "np.argmax(arr1)"
   ]
  },
  {
   "cell_type": "code",
   "execution_count": 9,
   "id": "6c51667a",
   "metadata": {},
   "outputs": [
    {
     "data": {
      "text/plain": [
       "4"
      ]
     },
     "execution_count": 9,
     "metadata": {},
     "output_type": "execute_result"
    }
   ],
   "source": [
    "arr1.argmax()"
   ]
  },
  {
   "cell_type": "code",
   "execution_count": 10,
   "id": "9224cd9e",
   "metadata": {},
   "outputs": [
    {
     "data": {
      "text/plain": [
       "0.26062991842667593"
      ]
     },
     "execution_count": 10,
     "metadata": {},
     "output_type": "execute_result"
    }
   ],
   "source": [
    "np.min(arr1)"
   ]
  },
  {
   "cell_type": "code",
   "execution_count": 11,
   "id": "c037d510",
   "metadata": {},
   "outputs": [
    {
     "data": {
      "text/plain": [
       "0.26062991842667593"
      ]
     },
     "execution_count": 11,
     "metadata": {},
     "output_type": "execute_result"
    }
   ],
   "source": [
    "arr1.min()"
   ]
  },
  {
   "cell_type": "code",
   "execution_count": 13,
   "id": "89e162cb",
   "metadata": {},
   "outputs": [
    {
     "data": {
      "text/plain": [
       "0"
      ]
     },
     "execution_count": 13,
     "metadata": {},
     "output_type": "execute_result"
    }
   ],
   "source": [
    "# 가장 작은 값의 index\n",
    "arr1.argmin()"
   ]
  },
  {
   "cell_type": "markdown",
   "id": "ddb941b9",
   "metadata": {},
   "source": [
    "- median : 중앙값, std : 표준편차, var : 분산"
   ]
  },
  {
   "cell_type": "code",
   "execution_count": 14,
   "id": "83d8a67d",
   "metadata": {},
   "outputs": [
    {
     "data": {
      "text/plain": [
       "0.47421415221465685"
      ]
     },
     "execution_count": 14,
     "metadata": {},
     "output_type": "execute_result"
    }
   ],
   "source": [
    "# 중앙값\n",
    "np.median(arr1)"
   ]
  },
  {
   "cell_type": "code",
   "execution_count": 15,
   "id": "04cdaea0",
   "metadata": {},
   "outputs": [
    {
     "data": {
      "text/plain": [
       "0.158084612607762"
      ]
     },
     "execution_count": 15,
     "metadata": {},
     "output_type": "execute_result"
    }
   ],
   "source": [
    "# 표준편차\n",
    "np.std(arr1)"
   ]
  },
  {
   "cell_type": "code",
   "execution_count": 16,
   "id": "9c8f55f5",
   "metadata": {},
   "outputs": [
    {
     "data": {
      "text/plain": [
       "0.024990744743346185"
      ]
     },
     "execution_count": 16,
     "metadata": {},
     "output_type": "execute_result"
    }
   ],
   "source": [
    "# 분산\n",
    "np.var(arr1)"
   ]
  },
  {
   "cell_type": "markdown",
   "id": "a3345428",
   "metadata": {},
   "source": [
    "#### 합계\n",
    "- sum : 전체 합계, cumsum : 누적합계"
   ]
  },
  {
   "cell_type": "code",
   "execution_count": 17,
   "id": "bc53979e",
   "metadata": {},
   "outputs": [
    {
     "name": "stdout",
     "output_type": "stream",
     "text": [
      "[[0 1 2 3 4]\n",
      " [5 6 7 8 9]]\n"
     ]
    }
   ],
   "source": [
    "arr2 = np.arange(10).reshape(2, 5)\n",
    "print(arr2)"
   ]
  },
  {
   "cell_type": "code",
   "execution_count": 18,
   "id": "93d26b29",
   "metadata": {},
   "outputs": [
    {
     "data": {
      "text/plain": [
       "45"
      ]
     },
     "execution_count": 18,
     "metadata": {},
     "output_type": "execute_result"
    }
   ],
   "source": [
    "np.sum(arr2)"
   ]
  },
  {
   "cell_type": "code",
   "execution_count": 19,
   "id": "c28c3606",
   "metadata": {},
   "outputs": [
    {
     "data": {
      "text/plain": [
       "array([ 0,  1,  3,  6, 10, 15, 21, 28, 36, 45], dtype=int32)"
      ]
     },
     "execution_count": 19,
     "metadata": {},
     "output_type": "execute_result"
    }
   ],
   "source": [
    "np.cumsum(arr2)"
   ]
  },
  {
   "cell_type": "code",
   "execution_count": 20,
   "id": "76eb08c1",
   "metadata": {},
   "outputs": [
    {
     "name": "stdout",
     "output_type": "stream",
     "text": [
      "[0 1 2 3 4 5 6 7 8 9]\n"
     ]
    }
   ],
   "source": [
    "arr = np.arange(10)\n",
    "print(arr)"
   ]
  },
  {
   "cell_type": "code",
   "execution_count": 21,
   "id": "e4a8fc70",
   "metadata": {},
   "outputs": [
    {
     "data": {
      "text/plain": [
       "45"
      ]
     },
     "execution_count": 21,
     "metadata": {},
     "output_type": "execute_result"
    }
   ],
   "source": [
    "# sum에서 shift + tab => axis\n",
    "np.sum(arr)"
   ]
  },
  {
   "cell_type": "code",
   "execution_count": 24,
   "id": "3db6871a",
   "metadata": {},
   "outputs": [
    {
     "data": {
      "text/plain": [
       "45"
      ]
     },
     "execution_count": 24,
     "metadata": {},
     "output_type": "execute_result"
    }
   ],
   "source": [
    "np.sum(arr, axis=0)"
   ]
  },
  {
   "cell_type": "markdown",
   "id": "9b09b097",
   "metadata": {},
   "source": [
    "- 2차원"
   ]
  },
  {
   "cell_type": "code",
   "execution_count": 26,
   "id": "ebda3537",
   "metadata": {},
   "outputs": [
    {
     "name": "stdout",
     "output_type": "stream",
     "text": [
      "[[ 0  1  2  3]\n",
      " [ 4  5  6  7]\n",
      " [ 8  9 10 11]]\n"
     ]
    }
   ],
   "source": [
    "arr = np.arange(12).reshape(3, 4)\n",
    "print(arr)"
   ]
  },
  {
   "cell_type": "markdown",
   "id": "9489216f",
   "metadata": {},
   "source": [
    "##### 행방향 (row) => 방향으로 더한다. 행을 더하는 것이 아니라 행 방향으로"
   ]
  },
  {
   "cell_type": "code",
   "execution_count": 29,
   "id": "a22044b1",
   "metadata": {},
   "outputs": [
    {
     "name": "stdout",
     "output_type": "stream",
     "text": [
      "[12 15 18 21]\n"
     ]
    }
   ],
   "source": [
    "# 행방향 (row) => 방향으로 더한다. 행을 더하는 것이 아니라 행 방향으로\n",
    "print(np.sum(arr, axis=0))"
   ]
  },
  {
   "cell_type": "code",
   "execution_count": 31,
   "id": "cadd3855",
   "metadata": {},
   "outputs": [
    {
     "name": "stdout",
     "output_type": "stream",
     "text": [
      "[ 6 22 38]\n"
     ]
    }
   ],
   "source": [
    "# 열방향(column)\n",
    "print(np.sum(arr, axis=1))"
   ]
  },
  {
   "cell_type": "markdown",
   "id": "c5d91f00",
   "metadata": {},
   "source": [
    "- 3차원"
   ]
  },
  {
   "cell_type": "code",
   "execution_count": 32,
   "id": "53853655",
   "metadata": {},
   "outputs": [
    {
     "name": "stdout",
     "output_type": "stream",
     "text": [
      "[[[ 0  1  2  3]\n",
      "  [ 4  5  6  7]\n",
      "  [ 8  9 10 11]]\n",
      "\n",
      " [[12 13 14 15]\n",
      "  [16 17 18 19]\n",
      "  [20 21 22 23]]]\n"
     ]
    }
   ],
   "source": [
    "arr = np.arange(24).reshape(2, 3, 4)\n",
    "print(arr)"
   ]
  },
  {
   "cell_type": "markdown",
   "id": "922b8e7a",
   "metadata": {},
   "source": [
    "- axis => 0, 1, 2\n",
    "- shape(2, 3, 4)\n",
    "- 해당하는 위치의 shape가 사라지고 나머지 형태의 shape가 남는다.\n",
    "- 예를 들어 axis가 0이면 shape(2, 3, 4)중 첫번째 2가 사라지고 (3, 4) 형태가 남는다"
   ]
  },
  {
   "cell_type": "code",
   "execution_count": 34,
   "id": "5c48505d",
   "metadata": {},
   "outputs": [
    {
     "name": "stdout",
     "output_type": "stream",
     "text": [
      "[[12 14 16 18]\n",
      " [20 22 24 26]\n",
      " [28 30 32 34]]\n"
     ]
    }
   ],
   "source": [
    "# axis = 0\n",
    "# z축 방향\n",
    "# 0 + 12, 1 + 13, 2 + 14\n",
    "# (3, 4)가 남는다\n",
    "print(np.sum(arr, axis=0))"
   ]
  },
  {
   "cell_type": "code",
   "execution_count": 35,
   "id": "1475c856",
   "metadata": {},
   "outputs": [
    {
     "name": "stdout",
     "output_type": "stream",
     "text": [
      "[[12 15 18 21]\n",
      " [48 51 54 57]]\n"
     ]
    }
   ],
   "source": [
    "# axis = 1\n",
    "# 행(row) 방향\n",
    "# 0 + 4 + 8, 1 + 5 + 9, 12,... 16 + 20, 13 + 17 + 21, ...\n",
    "# (2, 4)가 남는다\n",
    "print(np.sum(arr, axis=1))"
   ]
  },
  {
   "cell_type": "code",
   "execution_count": 36,
   "id": "145a4ec0",
   "metadata": {},
   "outputs": [
    {
     "name": "stdout",
     "output_type": "stream",
     "text": [
      "[[ 6 22 38]\n",
      " [54 70 86]]\n"
     ]
    }
   ],
   "source": [
    "# axis = 2\n",
    "# 열(column) 방향\n",
    "# 0 + 1 + 2 + 3, 4 + 5 + 6 + 7, ,... 12 + 13, 14 + 15, ...\n",
    "# (2, 3)가 남는다\n",
    "print(np.sum(arr, axis=2))"
   ]
  },
  {
   "cell_type": "markdown",
   "id": "6cd1c501",
   "metadata": {},
   "source": [
    "#### any, all, where\n",
    " - any: 최소 하나 이상 조건을 만족하면 True, 모두 만족하지 않으면 False\n",
    " - all: 모든 원소가 조건을 만족하면 True, 하나라도 만족하지 않으면 False\n",
    " - where : 조건에 의해 값을 선택"
   ]
  },
  {
   "cell_type": "code",
   "execution_count": 37,
   "id": "0e4ed7d0",
   "metadata": {},
   "outputs": [
    {
     "name": "stdout",
     "output_type": "stream",
     "text": [
      "[ 1  2  3  4  5  6  7  8  9 10]\n"
     ]
    }
   ],
   "source": [
    "arr = np.arange(1, 11)\n",
    "print(arr)"
   ]
  },
  {
   "cell_type": "code",
   "execution_count": 50,
   "id": "83b8a4fc",
   "metadata": {},
   "outputs": [
    {
     "name": "stdout",
     "output_type": "stream",
     "text": [
      "[False False False False False  True  True  True  True  True]\n",
      "[False False False False False False False False False False]\n",
      "[ True  True  True  True  True  True  True  True  True  True]\n"
     ]
    }
   ],
   "source": [
    "print(arr > 5)\n",
    "print(arr > 10)\n",
    "print(arr < 11)"
   ]
  },
  {
   "cell_type": "code",
   "execution_count": 51,
   "id": "c240767a",
   "metadata": {},
   "outputs": [
    {
     "data": {
      "text/plain": [
       "True"
      ]
     },
     "execution_count": 51,
     "metadata": {},
     "output_type": "execute_result"
    }
   ],
   "source": [
    "np.any(arr > 5)"
   ]
  },
  {
   "cell_type": "code",
   "execution_count": 52,
   "id": "9668801a",
   "metadata": {},
   "outputs": [
    {
     "data": {
      "text/plain": [
       "False"
      ]
     },
     "execution_count": 52,
     "metadata": {},
     "output_type": "execute_result"
    }
   ],
   "source": [
    "np.any(arr > 10)"
   ]
  },
  {
   "cell_type": "code",
   "execution_count": 53,
   "id": "e3c1e6e1",
   "metadata": {},
   "outputs": [
    {
     "data": {
      "text/plain": [
       "False"
      ]
     },
     "execution_count": 53,
     "metadata": {},
     "output_type": "execute_result"
    }
   ],
   "source": [
    "np.all(arr > 5)"
   ]
  },
  {
   "cell_type": "code",
   "execution_count": 54,
   "id": "fc224372",
   "metadata": {},
   "outputs": [
    {
     "data": {
      "text/plain": [
       "False"
      ]
     },
     "execution_count": 54,
     "metadata": {},
     "output_type": "execute_result"
    }
   ],
   "source": [
    "np.all(arr > 10)"
   ]
  },
  {
   "cell_type": "code",
   "execution_count": 55,
   "id": "b7c0b481",
   "metadata": {},
   "outputs": [
    {
     "data": {
      "text/plain": [
       "True"
      ]
     },
     "execution_count": 55,
     "metadata": {},
     "output_type": "execute_result"
    }
   ],
   "source": [
    "np.all(arr < 11)"
   ]
  },
  {
   "cell_type": "markdown",
   "id": "ac41148a",
   "metadata": {},
   "source": [
    "#### np.where 참조자료 : https://m.blog.naver.com/bosongmoon/221791527433"
   ]
  },
  {
   "cell_type": "code",
   "execution_count": 56,
   "id": "44ebe041",
   "metadata": {},
   "outputs": [
    {
     "data": {
      "text/plain": [
       "(array([5, 6, 7, 8, 9], dtype=int64),)"
      ]
     },
     "execution_count": 56,
     "metadata": {},
     "output_type": "execute_result"
    }
   ],
   "source": [
    "# 조건에 맞는 index 를 반환\n",
    "np.where(arr > 5)"
   ]
  },
  {
   "cell_type": "code",
   "execution_count": 57,
   "id": "73eb5363",
   "metadata": {},
   "outputs": [
    {
     "data": {
      "text/plain": [
       "array([ 6,  7,  8,  9, 10])"
      ]
     },
     "execution_count": 57,
     "metadata": {},
     "output_type": "execute_result"
    }
   ],
   "source": [
    "# 팬시 indexing\n",
    "arr[np.where(arr > 5)]"
   ]
  },
  {
   "cell_type": "code",
   "execution_count": 58,
   "id": "5974b312",
   "metadata": {},
   "outputs": [
    {
     "data": {
      "text/plain": [
       "array([False, False, False, False, False,  True,  True,  True,  True,\n",
       "        True])"
      ]
     },
     "execution_count": 58,
     "metadata": {},
     "output_type": "execute_result"
    }
   ],
   "source": [
    "# 조건에 맞으면 True, 틀리면 False\n",
    "np.where(arr > 5, True, False)"
   ]
  },
  {
   "cell_type": "code",
   "execution_count": 47,
   "id": "33ee8bc5",
   "metadata": {},
   "outputs": [
    {
     "name": "stdout",
     "output_type": "stream",
     "text": [
      "[ 0  0  0  0  0  6  7  8  9 10]\n"
     ]
    }
   ],
   "source": [
    "print(np.where(arr > 5, arr, 0))"
   ]
  },
  {
   "cell_type": "code",
   "execution_count": 59,
   "id": "56cf0015",
   "metadata": {},
   "outputs": [
    {
     "name": "stdout",
     "output_type": "stream",
     "text": [
      "[0 0 0 0 0 0 0 0 0 0]\n"
     ]
    }
   ],
   "source": [
    "print(np.where(arr > 10, arr, 0))"
   ]
  },
  {
   "cell_type": "code",
   "execution_count": 60,
   "id": "0a6f6a09",
   "metadata": {},
   "outputs": [
    {
     "name": "stdout",
     "output_type": "stream",
     "text": [
      "[ 1  2  3  4  5  6  7  8  9 10]\n"
     ]
    }
   ],
   "source": [
    "print(np.where(arr < 11, arr, 0))"
   ]
  },
  {
   "cell_type": "code",
   "execution_count": null,
   "id": "afaefd4c",
   "metadata": {},
   "outputs": [],
   "source": []
  }
 ],
 "metadata": {
  "kernelspec": {
   "display_name": "Python 3 (ipykernel)",
   "language": "python",
   "name": "python3"
  },
  "language_info": {
   "codemirror_mode": {
    "name": "ipython",
    "version": 3
   },
   "file_extension": ".py",
   "mimetype": "text/x-python",
   "name": "python",
   "nbconvert_exporter": "python",
   "pygments_lexer": "ipython3",
   "version": "3.8.10"
  }
 },
 "nbformat": 4,
 "nbformat_minor": 5
}
