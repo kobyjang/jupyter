{
 "cells": [
  {
   "cell_type": "code",
   "execution_count": 1,
   "id": "cd115f69",
   "metadata": {},
   "outputs": [],
   "source": [
    "import numpy as np"
   ]
  },
  {
   "cell_type": "markdown",
   "id": "76eed6f9",
   "metadata": {},
   "source": [
    "#### 연산 \n",
    "- add\n",
    "- subtract\n",
    "- multiply\n",
    "- divide"
   ]
  },
  {
   "cell_type": "markdown",
   "id": "e9ad9158",
   "metadata": {},
   "source": [
    "- add"
   ]
  },
  {
   "cell_type": "code",
   "execution_count": 2,
   "id": "ebcaf456",
   "metadata": {},
   "outputs": [
    {
     "name": "stdout",
     "output_type": "stream",
     "text": [
      "[[ 1  2  3  4  5]\n",
      " [ 6  7  8  9 10]]\n",
      "[[2 8 6 8 4]\n",
      " [7 3 2 6 2]]\n"
     ]
    }
   ],
   "source": [
    "arr1 = np.arange(1, 11).reshape(2, 5)\n",
    "print(arr1)\n",
    "arr2 = np.random.randint(1, 10, size=10).reshape(2, 5)\n",
    "print(arr2)"
   ]
  },
  {
   "cell_type": "code",
   "execution_count": 3,
   "id": "b0c9e451",
   "metadata": {},
   "outputs": [
    {
     "name": "stdout",
     "output_type": "stream",
     "text": [
      "[[ 3 10  9 12  9]\n",
      " [13 10 10 15 12]]\n"
     ]
    }
   ],
   "source": [
    "print(arr1 + arr2)"
   ]
  },
  {
   "cell_type": "code",
   "execution_count": 4,
   "id": "f3bde410",
   "metadata": {},
   "outputs": [
    {
     "name": "stdout",
     "output_type": "stream",
     "text": [
      "[[ 3 10  9 12  9]\n",
      " [13 10 10 15 12]]\n"
     ]
    }
   ],
   "source": [
    "print(np.add(arr1, arr2))"
   ]
  },
  {
   "cell_type": "code",
   "execution_count": 5,
   "id": "9717cb14",
   "metadata": {
    "scrolled": true
   },
   "outputs": [
    {
     "name": "stdout",
     "output_type": "stream",
     "text": [
      "[[2 8]\n",
      " [6 8]\n",
      " [4 7]\n",
      " [3 2]\n",
      " [6 2]]\n"
     ]
    }
   ],
   "source": [
    "arr3 = arr2.reshape(5, 2)\n",
    "print(arr3)"
   ]
  },
  {
   "cell_type": "code",
   "execution_count": 6,
   "id": "9953bcb9",
   "metadata": {},
   "outputs": [
    {
     "ename": "ValueError",
     "evalue": "operands could not be broadcast together with shapes (2,5) (5,2) ",
     "output_type": "error",
     "traceback": [
      "\u001b[1;31m--------------------------------------------------------------------------\u001b[0m",
      "\u001b[1;31mValueError\u001b[0m                               Traceback (most recent call last)",
      "\u001b[1;32mC:\\Users\\Public\\Documents\\ESTsoft\\CreatorTemp/ipykernel_2932/592755465.py\u001b[0m in \u001b[0;36m<module>\u001b[1;34m\u001b[0m\n\u001b[1;32m----> 1\u001b[1;33m \u001b[0marr1\u001b[0m \u001b[1;33m+\u001b[0m \u001b[0marr3\u001b[0m\u001b[1;33m\u001b[0m\u001b[1;33m\u001b[0m\u001b[0m\n\u001b[0m",
      "\u001b[1;31mValueError\u001b[0m: operands could not be broadcast together with shapes (2,5) (5,2) "
     ]
    }
   ],
   "source": [
    "arr1 + arr3"
   ]
  },
  {
   "cell_type": "code",
   "execution_count": 7,
   "id": "ecdd0ebc",
   "metadata": {},
   "outputs": [
    {
     "data": {
      "text/plain": [
       "array([[-1, -6, -3, -4,  1],\n",
       "       [-1,  4,  6,  3,  8]])"
      ]
     },
     "execution_count": 7,
     "metadata": {},
     "output_type": "execute_result"
    }
   ],
   "source": [
    "arr1 - arr2"
   ]
  },
  {
   "cell_type": "code",
   "execution_count": 8,
   "id": "d7c9dcd2",
   "metadata": {},
   "outputs": [
    {
     "data": {
      "text/plain": [
       "array([[-1, -6, -3, -4,  1],\n",
       "       [-1,  4,  6,  3,  8]])"
      ]
     },
     "execution_count": 8,
     "metadata": {},
     "output_type": "execute_result"
    }
   ],
   "source": [
    "np.subtract(arr1, arr2)"
   ]
  },
  {
   "cell_type": "code",
   "execution_count": 9,
   "id": "a4fb8849",
   "metadata": {},
   "outputs": [
    {
     "data": {
      "text/plain": [
       "array([[ 2, 16, 18, 32, 20],\n",
       "       [42, 21, 16, 54, 20]])"
      ]
     },
     "execution_count": 9,
     "metadata": {},
     "output_type": "execute_result"
    }
   ],
   "source": [
    "arr1 * arr2"
   ]
  },
  {
   "cell_type": "code",
   "execution_count": 10,
   "id": "f393f2ba",
   "metadata": {},
   "outputs": [
    {
     "data": {
      "text/plain": [
       "array([[ 2, 16, 18, 32, 20],\n",
       "       [42, 21, 16, 54, 20]])"
      ]
     },
     "execution_count": 10,
     "metadata": {},
     "output_type": "execute_result"
    }
   ],
   "source": [
    "np.multiply(arr1, arr2)"
   ]
  },
  {
   "cell_type": "code",
   "execution_count": 12,
   "id": "55743beb",
   "metadata": {},
   "outputs": [
    {
     "data": {
      "text/plain": [
       "array([[0.5       , 0.25      , 0.5       , 0.5       , 1.25      ],\n",
       "       [0.85714286, 2.33333333, 4.        , 1.5       , 5.        ]])"
      ]
     },
     "execution_count": 12,
     "metadata": {},
     "output_type": "execute_result"
    }
   ],
   "source": [
    "arr1 / arr2"
   ]
  },
  {
   "cell_type": "code",
   "execution_count": 13,
   "id": "266c53c1",
   "metadata": {},
   "outputs": [
    {
     "data": {
      "text/plain": [
       "array([[0.5       , 0.25      , 0.5       , 0.5       , 1.25      ],\n",
       "       [0.85714286, 2.33333333, 4.        , 1.5       , 5.        ]])"
      ]
     },
     "execution_count": 13,
     "metadata": {},
     "output_type": "execute_result"
    }
   ],
   "source": [
    "np.divide(arr1, arr2)"
   ]
  },
  {
   "cell_type": "markdown",
   "id": "8a2ee646",
   "metadata": {},
   "source": [
    "#### 브로드캐스팅\n",
    "- 개요\n",
    "    - 출처: https://sacko.tistory.com/16 [데이터 분석하는 문과생, 싸코]\n",
    "    - 어떤 조건만 만족한다면 모양이 다른 배열끼리의 연산도 가능하게 해주며 모양이 부족한 부분은 확장하여 연산을 수행할 수 있도록 한다는 것\n",
    "    - ![](http://www.astroml.org/_images/fig_broadcast_visual_1.png)\n",
    "\n",
    "```\n",
    "정리하면,\n",
    "브로드캐스팅(Broadcasting)은 모양이 다른 배열들 간의 연산이 어떤 조건을 만족했을 때 가능해지도록 배열을 자동적으로 변환하는 것이라고 정의할 수 있다. 그리고 누락되었거나 길이가 1인 차원에 대해 브로드캐스팅이 수행된다.\n",
    "\n",
    "위의 세 그림은 배열 연산에서 항상 1차원 배열이 포함되어 있다. 그리고 행/열의 어떤 축이든(;0번/1번 어떤 축이든) 차원의 길이가 같은 것을 알 수 있다. 3x3 + 1x3,  3x1 + 1x3\n",
    "\n",
    "브로드캐스팅이 일어날 수 있는 조건은 다음과 같다.\n",
    "차원의 크기가 1일때 가능하다\n",
    "두 배열 간의 연산에서 최소한 하나의 배열의 차원이 1이라면(0번 축이든 1번 축이든; 1행이든 1열이든) 가능하다.\n",
    "차원의 짝이 맞을 때 가능하다\n",
    "차원에 대해 축의 길이가 동일하면 브로드캐스팅이 가능하다.\n",
    "\n",
    "\n",
    "출처: https://sacko.tistory.com/16 [데이터 분석하는 문과생, 싸코]\n",
    "```"
   ]
  },
  {
   "cell_type": "code",
   "execution_count": 16,
   "id": "ad12274a",
   "metadata": {},
   "outputs": [
    {
     "name": "stdout",
     "output_type": "stream",
     "text": [
      "[0 1 2]\n"
     ]
    }
   ],
   "source": [
    "arr1 = np.arange(3)\n",
    "print(arr1)"
   ]
  },
  {
   "cell_type": "code",
   "execution_count": 18,
   "id": "ff59c681",
   "metadata": {},
   "outputs": [
    {
     "name": "stdout",
     "output_type": "stream",
     "text": [
      "[5 6 7]\n",
      "[-5 -4 -3]\n"
     ]
    }
   ],
   "source": [
    "print(arr1 + 5)\n",
    "print(arr1 - 5)"
   ]
  },
  {
   "cell_type": "code",
   "execution_count": 19,
   "id": "6ca7198c",
   "metadata": {},
   "outputs": [
    {
     "name": "stdout",
     "output_type": "stream",
     "text": [
      "[[1 2 3]\n",
      " [4 5 6]\n",
      " [7 8 9]]\n",
      "[0 1 2]\n"
     ]
    }
   ],
   "source": [
    "# (3,3) + (3,)\n",
    "arr1 = np.arange(1, 10).reshape(3,3)\n",
    "print(arr1)\n",
    "arr2 = np.arange(3)\n",
    "print(arr2)"
   ]
  },
  {
   "cell_type": "code",
   "execution_count": 21,
   "id": "34cbeff1",
   "metadata": {},
   "outputs": [
    {
     "name": "stdout",
     "output_type": "stream",
     "text": [
      "[[ 1  3  5]\n",
      " [ 4  6  8]\n",
      " [ 7  9 11]]\n",
      "[[ 0  2  6]\n",
      " [ 0  5 12]\n",
      " [ 0  8 18]]\n"
     ]
    }
   ],
   "source": [
    "print(arr1 + arr2)\n",
    "print(arr1 * arr2)"
   ]
  },
  {
   "cell_type": "code",
   "execution_count": 22,
   "id": "c1568616",
   "metadata": {},
   "outputs": [
    {
     "name": "stdout",
     "output_type": "stream",
     "text": [
      "[[0]\n",
      " [1]\n",
      " [2]]\n",
      "[0 1 2]\n"
     ]
    }
   ],
   "source": [
    "# (3, 1) + (1, 3)\n",
    "arr1 = np.arange(3).reshape(3,1)\n",
    "print(arr1)\n",
    "arr2 = np.arange(3)\n",
    "print(arr2)"
   ]
  },
  {
   "cell_type": "code",
   "execution_count": 23,
   "id": "7d5cbca5",
   "metadata": {},
   "outputs": [
    {
     "name": "stdout",
     "output_type": "stream",
     "text": [
      "[[0 1 2]\n",
      " [1 2 3]\n",
      " [2 3 4]]\n"
     ]
    }
   ],
   "source": [
    "print(arr1 + arr2)"
   ]
  },
  {
   "cell_type": "code",
   "execution_count": null,
   "id": "7e31679e",
   "metadata": {},
   "outputs": [],
   "source": []
  },
  {
   "cell_type": "code",
   "execution_count": null,
   "id": "ac356b3f",
   "metadata": {},
   "outputs": [],
   "source": []
  }
 ],
 "metadata": {
  "kernelspec": {
   "display_name": "Python 3 (ipykernel)",
   "language": "python",
   "name": "python3"
  },
  "language_info": {
   "codemirror_mode": {
    "name": "ipython",
    "version": 3
   },
   "file_extension": ".py",
   "mimetype": "text/x-python",
   "name": "python",
   "nbconvert_exporter": "python",
   "pygments_lexer": "ipython3",
   "version": "3.8.10"
  }
 },
 "nbformat": 4,
 "nbformat_minor": 5
}
