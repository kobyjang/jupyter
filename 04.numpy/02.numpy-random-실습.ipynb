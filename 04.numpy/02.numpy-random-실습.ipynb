{
 "cells": [
  {
   "cell_type": "code",
   "execution_count": 1,
   "id": "fddbe2aa",
   "metadata": {},
   "outputs": [],
   "source": [
    "import numpy as np"
   ]
  },
  {
   "cell_type": "code",
   "execution_count": 41,
   "id": "6de12e15",
   "metadata": {},
   "outputs": [
    {
     "name": "stdout",
     "output_type": "stream",
     "text": [
      "0.429457716092024\n",
      "9\n",
      "1\n"
     ]
    }
   ],
   "source": [
    "import random\n",
    "\n",
    "# 0과 1미만 사이의 랜덤값\n",
    "print(random.random())\n",
    "\n",
    "# 범위(1이상 10미만 중에 2간격으로 random값 - 정수값 return)\n",
    "print(random.randrange(1, 10, 2))\n",
    "\n",
    "# 범위(1이상 10 이하 - 정수값 return)\n",
    "print(random.randint(1, 10))"
   ]
  },
  {
   "cell_type": "markdown",
   "id": "313400c5",
   "metadata": {},
   "source": [
    "#### rand : 0과 1사이의 랜던값(균등분포)"
   ]
  },
  {
   "cell_type": "code",
   "execution_count": 42,
   "id": "b8912584",
   "metadata": {},
   "outputs": [
    {
     "name": "stdout",
     "output_type": "stream",
     "text": [
      "[[[0.9258904  0.9248476  0.16424032 0.52246559]\n",
      "  [0.90956675 0.95524832 0.48733488 0.12199887]\n",
      "  [0.461664   0.44091613 0.23526671 0.21134719]]\n",
      "\n",
      " [[0.22758477 0.07273977 0.82753786 0.69820431]\n",
      "  [0.04587656 0.14899749 0.58651114 0.60585713]\n",
      "  [0.58363899 0.03376538 0.91424362 0.3671567 ]]]\n"
     ]
    }
   ],
   "source": [
    "arr = np.random.rand(2, 3, 4)\n",
    "print(arr)"
   ]
  },
  {
   "cell_type": "markdown",
   "id": "0deff2e7",
   "metadata": {},
   "source": [
    "#### randn : 정규분포, 가우시안 분포 난수값"
   ]
  },
  {
   "cell_type": "code",
   "execution_count": 43,
   "id": "aaf84937",
   "metadata": {},
   "outputs": [
    {
     "name": "stdout",
     "output_type": "stream",
     "text": [
      "[[[-1.40018989  1.89938079 -0.7739513   0.4980407 ]\n",
      "  [-1.94692797  0.83749396 -0.36733468 -0.06437258]\n",
      "  [-0.03729854 -0.57735173  0.26952533 -0.33139808]]\n",
      "\n",
      " [[-1.35971135 -1.29690396  0.56467938 -1.78841773]\n",
      "  [ 0.35081595 -0.35332501  0.90550873  1.93675996]\n",
      "  [ 0.35583062  0.1394439  -0.66020285  0.10796598]]]\n"
     ]
    }
   ],
   "source": [
    "arr = np.random.randn(2, 3, 4)\n",
    "print(arr)"
   ]
  },
  {
   "cell_type": "markdown",
   "id": "d6cc522b",
   "metadata": {},
   "source": [
    "#### randint : 정수 난수 값 \n",
    "- numpy.random.randint(low, high=None, size=None, dtype='I')\n",
    "- low : 범위의 가장 낮은 값, 파라미터가 1개 일 경우 0 ~ low 까지\n",
    "- high : 가장 높은 정수(선택사항)\n",
    "- size : 반환 개수, array의 shapr형태 가능 -> size(3, 5)\n",
    "- dtype : int"
   ]
  },
  {
   "cell_type": "code",
   "execution_count": 44,
   "id": "f47d3ef5",
   "metadata": {},
   "outputs": [
    {
     "name": "stdout",
     "output_type": "stream",
     "text": [
      "[2 1 1 2 0]\n"
     ]
    }
   ],
   "source": [
    "arr = np.random.randint(3, size=5)\n",
    "print(arr)"
   ]
  },
  {
   "cell_type": "code",
   "execution_count": 45,
   "id": "032d406f",
   "metadata": {},
   "outputs": [
    {
     "name": "stdout",
     "output_type": "stream",
     "text": [
      "[7 9 4 4 9]\n"
     ]
    }
   ],
   "source": [
    "arr = np.random.randint(3, 10, size=5)\n",
    "print(arr)"
   ]
  },
  {
   "cell_type": "code",
   "execution_count": 51,
   "id": "1a57d7bd",
   "metadata": {},
   "outputs": [
    {
     "name": "stdout",
     "output_type": "stream",
     "text": [
      "[[7 5 9 4 9]\n",
      " [4 4 5 5 3]\n",
      " [4 9 4 6 3]]\n"
     ]
    }
   ],
   "source": [
    "arr = np.random.randint(3, 10, size=(3, 5))\n",
    "print(arr)"
   ]
  },
  {
   "cell_type": "markdown",
   "id": "2b9222d9",
   "metadata": {},
   "source": [
    "- seed : 여러번 실행하여도 동일한 난수값"
   ]
  },
  {
   "cell_type": "code",
   "execution_count": 101,
   "id": "7e6e6dc1",
   "metadata": {},
   "outputs": [
    {
     "name": "stdout",
     "output_type": "stream",
     "text": [
      "[[-0.31178367  0.72900392  0.21782079]\n",
      " [-0.8990918  -2.48678065  0.91325152]]\n"
     ]
    }
   ],
   "source": [
    "np.random.seed(6)\n",
    "arr = np.random.randn(2, 3)\n",
    "print(arr)"
   ]
  },
  {
   "cell_type": "code",
   "execution_count": 86,
   "id": "aade062a",
   "metadata": {},
   "outputs": [],
   "source": []
  },
  {
   "cell_type": "code",
   "execution_count": 96,
   "id": "0671c163",
   "metadata": {},
   "outputs": [
    {
     "name": "stdout",
     "output_type": "stream",
     "text": [
      "[[-1.88973671 -0.41359218 -0.76602601]\n",
      " [-0.92412667 -1.42159783  0.80525599]]\n"
     ]
    }
   ],
   "source": [
    "np.random.seed(35)\n",
    "arr = np.random.randn(2, 3)\n",
    "print(arr)"
   ]
  },
  {
   "cell_type": "code",
   "execution_count": null,
   "id": "7760b7bb",
   "metadata": {},
   "outputs": [],
   "source": []
  },
  {
   "cell_type": "code",
   "execution_count": null,
   "id": "274c0b5f",
   "metadata": {},
   "outputs": [],
   "source": []
  },
  {
   "cell_type": "code",
   "execution_count": null,
   "id": "10d7f590",
   "metadata": {},
   "outputs": [],
   "source": []
  }
 ],
 "metadata": {
  "kernelspec": {
   "display_name": "Python 3 (ipykernel)",
   "language": "python",
   "name": "python3"
  },
  "language_info": {
   "codemirror_mode": {
    "name": "ipython",
    "version": 3
   },
   "file_extension": ".py",
   "mimetype": "text/x-python",
   "name": "python",
   "nbconvert_exporter": "python",
   "pygments_lexer": "ipython3",
   "version": "3.8.10"
  }
 },
 "nbformat": 4,
 "nbformat_minor": 5
}
