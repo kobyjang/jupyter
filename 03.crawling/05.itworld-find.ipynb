{
 "cells": [
  {
   "cell_type": "code",
   "execution_count": 52,
   "id": "b24953cc",
   "metadata": {},
   "outputs": [],
   "source": [
    "import requests\n",
    "from bs4 import BeautifulSoup\n",
    "\n",
    "url = 'https://www.itworld.co.kr/main/'\n",
    "\n",
    "res = requests.get(url)\n",
    "soup = BeautifulSoup(res.content, 'html.parser')\n",
    "from IPython.display import Image\n"
   ]
  },
  {
   "cell_type": "code",
   "execution_count": 53,
   "id": "2d79005f",
   "metadata": {},
   "outputs": [
    {
     "name": "stdout",
     "output_type": "stream",
     "text": [
      "1\n",
      "\n",
      "\n",
      "어도비, 크롬∙엣지 브라우저용 아크로뱃 확장 프로그램 공개\n",
      " 11시 27분\n",
      "\n",
      "\n",
      "코코넛배터리 리뷰 | 애플 기기 '배터리 상태' 확인·관리의 정석\n",
      " 11시 11분\n",
      "\n",
      "\n",
      "맥북 프로 달라지는 베젤 \"노치 생겨도 페이스 ID는 없다?\"\n",
      " 09시 56분\n",
      "\n",
      "\n",
      "애플, 홈팟 초기 개발 책임자 재영입…시리와 홈팟 제품군 대대적 변화 예고\n",
      " 09시 27분\n",
      "\n",
      "\n",
      "히포를 이용한 웹어셈블리 입문\n",
      " 09시 02분\n",
      "\n",
      "\n"
     ]
    }
   ],
   "source": [
    "li=soup.find_all('ul','default_font color_deep_gray hot_news_list_ title_h3')\n",
    "print(len(li))\n",
    "for lis in li:\n",
    "    print(lis.text)"
   ]
  },
  {
   "cell_type": "code",
   "execution_count": 54,
   "id": "cea70743",
   "metadata": {},
   "outputs": [
    {
     "name": "stdout",
     "output_type": "stream",
     "text": [
      "<li class=\"font_bold\" style=\"overflow: hidden;\">\n",
      "<div class=\"font_limit fl\" style=\"width:545px;\"><a href=\"/news/211004\">어도비, 크롬∙엣지 브라우저용 아크로뱃 확장 프로그램 공개</a></div>\n",
      "<div class=\"news_list_time font_11 color_black default_small_font fr\"><i class=\"icon-time news_list_time_icon color_light_gray font_12 default_small_font\"></i> 11시 27분</div>\n",
      "</li>\n",
      "--------\n",
      "<li class=\"font_bold\" style=\"overflow: hidden;\">\n",
      "<div class=\"font_limit fl\" style=\"width:545px;\"><a href=\"/news/210989\">코코넛배터리 리뷰 | 애플 기기 '배터리 상태' 확인·관리의 정석</a></div>\n",
      "<div class=\"news_list_time font_11 color_black default_small_font fr\"><i class=\"icon-time news_list_time_icon color_light_gray font_12 default_small_font\"></i> 11시 11분</div>\n",
      "</li>\n",
      "--------\n",
      "<li class=\"font_bold\" style=\"overflow: hidden;\">\n",
      "<div class=\"font_limit fl\" style=\"width:545px;\"><a href=\"/news/210939\">맥북 프로 달라지는 베젤 \"노치 생겨도 페이스 ID는 없다?\"</a></div>\n",
      "<div class=\"news_list_time font_11 color_black default_small_font fr\"><i class=\"icon-time news_list_time_icon color_light_gray font_12 default_small_font\"></i> 09시 56분</div>\n",
      "</li>\n",
      "--------\n",
      "<li class=\"font_bold\" style=\"overflow: hidden;\">\n",
      "<div class=\"font_limit fl\" style=\"width:545px;\"><a href=\"/news/210929\">애플, 홈팟 초기 개발 책임자 재영입…시리와 홈팟 제품군 대대적 변화 예고</a></div>\n",
      "<div class=\"news_list_time font_11 color_black default_small_font fr\"><i class=\"icon-time news_list_time_icon color_light_gray font_12 default_small_font\"></i> 09시 27분</div>\n",
      "</li>\n",
      "--------\n",
      "<li class=\"font_bold\" style=\"overflow: hidden;\">\n",
      "<div class=\"font_limit fl\" style=\"width:545px;\"><a href=\"/news/210909\">히포를 이용한 웹어셈블리 입문</a></div>\n",
      "<div class=\"news_list_time font_11 color_black default_small_font fr\"><i class=\"icon-time news_list_time_icon color_light_gray font_12 default_small_font\"></i> 09시 02분</div>\n",
      "</li>\n",
      "--------\n",
      "<li class=\"foot_head_font color_white font_14 font_bold font_Italic\">ITWorld</li>\n",
      "--------\n",
      "<li class=\"foot_head_font color_white font_14 font_bold font_Italic\">News</li>\n",
      "--------\n",
      "<li class=\"foot_head_font color_white font_14 font_bold font_Italic\">Topics</li>\n",
      "--------\n",
      "<li class=\"foot_head_font color_white font_14 font_bold font_Italic\">Business</li>\n",
      "--------\n",
      "<li class=\"foot_head_font color_white font_14 font_bold font_Italic\">Join Us On</li>\n",
      "--------\n"
     ]
    }
   ],
   "source": [
    "lis = soup.find_all('li', 'font_bold')\n",
    "for li in lis:\n",
    "    print(li)\n",
    "    print('--------')\n",
    "    "
   ]
  },
  {
   "cell_type": "code",
   "execution_count": 70,
   "id": "22f520e4",
   "metadata": {},
   "outputs": [],
   "source": [
    "list_titles= []\n",
    "list_time= []\n",
    "list_all= []"
   ]
  },
  {
   "cell_type": "code",
   "execution_count": 71,
   "id": "37bc2035",
   "metadata": {},
   "outputs": [
    {
     "name": "stdout",
     "output_type": "stream",
     "text": [
      "<div class=\"font_limit fl\" style=\"width:545px;\"><a href=\"/news/210909\">히포를 이용한 웹어셈블리 입문</a></div>\n"
     ]
    }
   ],
   "source": [
    "#titles = soup.select('ul.default_font.color_deep_gray.hot_news_list_.title_h3 > li.font_bold>div.font_limit.fl')\n",
    "#titles\n",
    "\n",
    "titles = soup.select('ul.default_font.color_deep_gray.hot_news_list_.title_h3 > li.font_bold > div.font_limit.fl')\n",
    "for title in titles:\n",
    "    list_titles.append(title.text.strip())\n",
    "print(title)"
   ]
  },
  {
   "cell_type": "code",
   "execution_count": 72,
   "id": "dde9c227",
   "metadata": {},
   "outputs": [
    {
     "name": "stdout",
     "output_type": "stream",
     "text": [
      "<div class=\"news_list_time font_11 color_black default_small_font fr\"><i class=\"icon-time news_list_time_icon color_light_gray font_12 default_small_font\"></i> 09시 02분</div>\n",
      "5\n"
     ]
    }
   ],
   "source": [
    "times = soup.select('ul.default_font.color_deep_gray.hot_news_list_.title_h3 > li.font_bold>div.news_list_time.font_11.color_black.default_small_font.fr')\n",
    "for time in times:\n",
    "    list_time.append(time.text.strip())\n",
    "print(time)\n",
    "print(len(list_titles))"
   ]
  },
  {
   "cell_type": "code",
   "execution_count": 73,
   "id": "5537f0dc",
   "metadata": {},
   "outputs": [
    {
     "name": "stdout",
     "output_type": "stream",
     "text": [
      "[['어도비, 크롬∙엣지 브라우저용 아크로뱃 확장 프로그램 공개', '11시 27분'], [\"코코넛배터리 리뷰 | 애플 기기 '배터리 상태' 확인·관리의 정석\", '11시 11분'], ['맥북 프로 달라지는 베젤 \"노치 생겨도 페이스 ID는 없다?\"', '09시 56분'], ['애플, 홈팟 초기 개발 책임자 재영입…시리와 홈팟 제품군 대대적 변화 예고', '09시 27분'], ['히포를 이용한 웹어셈블리 입문', '09시 02분']]\n"
     ]
    }
   ],
   "source": [
    "for i in range(len(list_titles)):\n",
    "    list_all.append([list_titles[i], list_time[i]])\n",
    "print(list_all)"
   ]
  },
  {
   "cell_type": "code",
   "execution_count": 74,
   "id": "dc07c026",
   "metadata": {},
   "outputs": [
    {
     "name": "stdout",
     "output_type": "stream",
     "text": [
      "['어도비, 크롬∙엣지 브라우저용 아크로뱃 확장 프로그램 공개', '11시 27분']\n",
      "[\"코코넛배터리 리뷰 | 애플 기기 '배터리 상태' 확인·관리의 정석\", '11시 11분']\n",
      "['맥북 프로 달라지는 베젤 \"노치 생겨도 페이스 ID는 없다?\"', '09시 56분']\n",
      "['애플, 홈팟 초기 개발 책임자 재영입…시리와 홈팟 제품군 대대적 변화 예고', '09시 27분']\n",
      "['히포를 이용한 웹어셈블리 입문', '09시 02분']\n"
     ]
    }
   ],
   "source": [
    "for list_i in list_all:\n",
    "    print(list_i)"
   ]
  },
  {
   "cell_type": "code",
   "execution_count": null,
   "id": "77236682",
   "metadata": {},
   "outputs": [],
   "source": []
  },
  {
   "cell_type": "code",
   "execution_count": null,
   "id": "9e7b67e8",
   "metadata": {},
   "outputs": [],
   "source": []
  }
 ],
 "metadata": {
  "kernelspec": {
   "display_name": "Python 3 (ipykernel)",
   "language": "python",
   "name": "python3"
  },
  "language_info": {
   "codemirror_mode": {
    "name": "ipython",
    "version": 3
   },
   "file_extension": ".py",
   "mimetype": "text/x-python",
   "name": "python",
   "nbconvert_exporter": "python",
   "pygments_lexer": "ipython3",
   "version": "3.9.6"
  }
 },
 "nbformat": 4,
 "nbformat_minor": 5
}
