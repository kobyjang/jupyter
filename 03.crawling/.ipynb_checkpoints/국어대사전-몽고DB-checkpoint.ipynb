{
 "cells": [
  {
   "cell_type": "code",
   "execution_count": 62,
   "id": "27950285",
   "metadata": {},
   "outputs": [],
   "source": [
    "import requests\n",
    "from bs4 import BeautifulSoup"
   ]
  },
  {
   "cell_type": "code",
   "execution_count": 63,
   "id": "5b26e956",
   "metadata": {},
   "outputs": [],
   "source": [
    "# with~ 자동으로 closed 시켜준다\n",
    "word_list= []\n",
    "with open('./word.txt','r', encoding='UTF-8') as file_data:\n",
    "    for line in file_data:\n",
    "        word_list.append(line.strip())"
   ]
  },
  {
   "cell_type": "code",
   "execution_count": 64,
   "id": "2a8578d7",
   "metadata": {
    "scrolled": true
   },
   "outputs": [],
   "source": [
    "def get_word_dic(lis, s_print=False):\n",
    "\n",
    "    result_list = []\n",
    "    \n",
    "    for li in lis:\n",
    "        result_dic = {}\n",
    "        li_a = li.find('a','t_blue1')\n",
    "        if li_a.find('sup') != None:\n",
    "            r_seq = li_a.find('sup').text.strip()#순번\n",
    "            result_dic['r_seq']= r_seq\n",
    "            li_a.find('sup').decompose()\n",
    "\n",
    "#         li.find('a','t_blue1').find('sup').decompose()#순번 삭제\n",
    "        r_word = li.find('a','t_blue1').text.strip()#검색\n",
    "        result_dic['r_word']=r_word\n",
    "\n",
    "\n",
    "        r_link = 'http://stdict.korean.go.kr'+li.find('a','t_blue1')['href']#링크 가져오는방법\n",
    "        result_dic['r_link']=r_link\n",
    "\n",
    "        r_chi = li.find('span','t_gray hanja_font').text.strip()#한자\n",
    "        result_dic['r_chi']=r_chi   \n",
    "\n",
    "        r_des = li.find('font','dataLine').text.strip()#설명\n",
    "        result_dic['r_des']=r_des   \n",
    "\n",
    "        li_dt = li.find('dt')#dt가져오기\n",
    "        li_dt.find('a','t_blue1').decompose()#a삭제\n",
    "        li_dt.find('span').decompose()#span 삭제\n",
    "        li_dt.find('span').decompose()#span 삭제\n",
    "        r_pos = li_dt.text.strip()\n",
    "        result_dic['r_pos']=r_pos\n",
    "\n",
    "        result_list.append(result_dic)\n",
    "\n",
    "    if s_print:\n",
    "        for result in result_list:\n",
    "            print(result['r_word'], end='')\n",
    "            if 'r_seq' in result.keys(): \n",
    "                print(result['r_seq'], end='')                    \n",
    "            print(result['r_chi'], end='')\n",
    "            print(result['r_des'], end='')\n",
    "            print(result['r_pos'] )\n",
    "            print('    ',result['r_link'])\n",
    "            print('--------------------------')\n",
    "    \n",
    "    return result_list"
   ]
  },
  {
   "cell_type": "code",
   "execution_count": 66,
   "id": "057b3532",
   "metadata": {},
   "outputs": [],
   "source": [
    "r_list = []\n",
    "\n",
    "for word in word_list:\n",
    "\n",
    "    url = 'https://stdict.korean.go.kr/search/searchResult.do?\\\n",
    "    pageSize=10&searchKeyword={}'.format(word)\n",
    "    res = requests.get(url)\n",
    "    soup = BeautifulSoup(res.content, 'html.parser')\n",
    "\n",
    "    ul = soup.find('ul', 'result')\n",
    "    # print(ul)\n",
    "\n",
    "    if ul != None:\n",
    "        lis = ul.find_all('li')\n",
    "        r_list = r_list + get_word_dic(lis, False)\n",
    "    else:\n",
    "        print('검색결과를 못찾았습니다.')"
   ]
  },
  {
   "cell_type": "markdown",
   "id": "2dfef742",
   "metadata": {},
   "source": [
    "# MongoDB 접속"
   ]
  },
  {
   "cell_type": "code",
   "execution_count": 67,
   "id": "b92f3cc5",
   "metadata": {
    "scrolled": false
   },
   "outputs": [],
   "source": [
    "from pymongo import MongoClient"
   ]
  },
  {
   "cell_type": "code",
   "execution_count": 68,
   "id": "81459d21",
   "metadata": {},
   "outputs": [],
   "source": [
    "client = MongoClient('localhost', 27017)"
   ]
  },
  {
   "cell_type": "code",
   "execution_count": 69,
   "id": "d9245da1",
   "metadata": {},
   "outputs": [],
   "source": [
    "db = client['kor_dic_db']"
   ]
  },
  {
   "cell_type": "code",
   "execution_count": 70,
   "id": "d5a55945",
   "metadata": {},
   "outputs": [],
   "source": [
    "kor_dic_coll = db['kor_dic_coll']"
   ]
  },
  {
   "cell_type": "code",
   "execution_count": 71,
   "id": "fed0d31f",
   "metadata": {},
   "outputs": [
    {
     "data": {
      "text/plain": [
       "<pymongo.results.InsertManyResult at 0x1aa03f98140>"
      ]
     },
     "execution_count": 71,
     "metadata": {},
     "output_type": "execute_result"
    }
   ],
   "source": [
    "kor_dic_coll.insert_many(r_list)"
   ]
  },
  {
   "cell_type": "code",
   "execution_count": 74,
   "id": "c1d6d327",
   "metadata": {},
   "outputs": [
    {
     "name": "stdout",
     "output_type": "stream",
     "text": [
      "{'r_seq': '1', 'r_word': '학원', 'r_link': 'http://stdict.korean.go.kr/search/searchView.do?word_no=362856&searchKeywordTo=3', 'r_chi': '(學員)', 'r_des': '공부하는 인원.', 'r_pos': '「명사」'}\n",
      "------------------------\n",
      "{'r_seq': '2', 'r_word': '학원', 'r_link': 'http://stdict.korean.go.kr/search/searchView.do?word_no=503671&searchKeywordTo=3', 'r_chi': '(學院)', 'r_des': '『교육』 일정한 목적ㆍ교과 과정ㆍ설비ㆍ제도 및 법규에 의하여 계속적으로 학생에게 교육을 실시하는 기관.=학교.', 'r_pos': '「명사」'}\n",
      "------------------------\n",
      "{'r_seq': '3', 'r_word': '학원', 'r_link': 'http://stdict.korean.go.kr/search/searchView.do?word_no=362857&searchKeywordTo=3', 'r_chi': '(學園)', 'r_des': '『교육』 학교 및 기타 교육 기관을 통틀어 이르는 말.', 'r_pos': '「명사」'}\n",
      "------------------------\n",
      "{'r_seq': '4', 'r_word': '학원', 'r_link': 'http://stdict.korean.go.kr/search/searchView.do?word_no=362858&searchKeywordTo=3', 'r_chi': '(學園)', 'r_des': '『문학』 1919년에 발간된 최초의 학생 잡지. 창가, 소설 따위가 발표되어 소년ㆍ소녀들에게 처음으로 문학적인 분위기에 접하는 계기를 만들어 주었다.', 'r_pos': '「명사」'}\n",
      "------------------------\n",
      "{'r_word': '학교', 'r_link': 'http://stdict.korean.go.kr/search/searchView.do?word_no=361333&searchKeywordTo=3', 'r_chi': '(學校)', 'r_des': '『교육』 일정한 목적ㆍ교과 과정ㆍ설비ㆍ제도 및 법규에 의하여 계속적으로 학생에게 교육을 실시하는 기관.≒학원.', 'r_pos': '「명사」'}\n",
      "------------------------\n",
      "{'r_seq': '1', 'r_word': '역사', 'r_link': 'http://stdict.korean.go.kr/search/searchView.do?word_no=458481&searchKeywordTo=3', 'r_chi': '(力士)', 'r_des': '뛰어나게 힘이 센 사람.', 'r_pos': '「명사」'}\n",
      "------------------------\n",
      "{'r_seq': '2', 'r_word': '역사', 'r_link': 'http://stdict.korean.go.kr/search/searchView.do?word_no=230121&searchKeywordTo=3', 'r_chi': '(役事)', 'r_des': '『건설』 토목이나 건축 따위의 공사.', 'r_pos': '「명사」'}\n",
      "------------------------\n",
      "{'r_seq': '3', 'r_word': '역사', 'r_link': 'http://stdict.korean.go.kr/search/searchView.do?word_no=458484&searchKeywordTo=3', 'r_chi': '(歷史)', 'r_des': '인류 사회의 변천과 흥망의 과정. 또는 그 기록.≒사, 춘추.', 'r_pos': '「명사」'}\n",
      "------------------------\n",
      "{'r_seq': '4', 'r_word': '역사', 'r_link': 'http://stdict.korean.go.kr/search/searchView.do?word_no=230139&searchKeywordTo=3', 'r_chi': '(歷事/歷仕)', 'r_des': '여러 대의 임금을 내리 섬김.', 'r_pos': '「명사」'}\n",
      "------------------------\n",
      "{'r_seq': '5', 'r_word': '역사', 'r_link': 'http://stdict.korean.go.kr/search/searchView.do?word_no=230141&searchKeywordTo=3', 'r_chi': '(歷辭)', 'r_des': '『역사』 조선 시대에, 새로 임명된 벼슬아치가 감독 관아를 돌아다니며 인사하던 일. 그 벼슬에 임명된 지 10일 이내에, 의정부ㆍ전조(銓曹) 등에 인사를 다녔다.=참알.', 'r_pos': '「명사」'}\n",
      "------------------------\n",
      "{'r_seq': '6', 'r_word': '역사', 'r_link': 'http://stdict.korean.go.kr/search/searchView.do?word_no=230143&searchKeywordTo=3', 'r_chi': '(繹史)', 'r_des': '『책명』 중국 청나라 때 마숙(馬驌)이 지은 역사책. 태고로부터 진(秦)나라 말기까지의 고서를 섭렵하여 뽑아낸 사료를 유형별로 모아 논단(論斷)을 붙인 것으로, 청나라 때의 경사(經史) 고정학(考訂學)에 많은 영향을 끼쳤다. 160권.', 'r_pos': '「명사」'}\n",
      "------------------------\n",
      "{'r_seq': '7', 'r_word': '역사', 'r_link': 'http://stdict.korean.go.kr/search/searchView.do?word_no=458483&searchKeywordTo=3', 'r_chi': '(譯史)', 'r_des': '『역사』 고려 시대에, 중서문하성에 속한 구실아치.', 'r_pos': '「명사」'}\n",
      "------------------------\n",
      "{'r_seq': '8', 'r_word': '역사', 'r_link': 'http://stdict.korean.go.kr/search/searchView.do?word_no=230707&searchKeywordTo=3', 'r_chi': '(譯使)', 'r_des': '통역을 맡은 사신.', 'r_pos': '「명사」'}\n",
      "------------------------\n",
      "{'r_seq': '9', 'r_word': '역사', 'r_link': 'http://stdict.korean.go.kr/search/searchView.do?word_no=230708&searchKeywordTo=3', 'r_chi': '(譯詞)', 'r_des': '외국 노래의 가사를 번역하는 일. 또는 그 가사.', 'r_pos': '「명사」'}\n",
      "------------------------\n",
      "{'r_seq': '10', 'r_word': '역사', 'r_link': 'http://stdict.korean.go.kr/search/searchView.do?word_no=230709&searchKeywordTo=3', 'r_chi': '(轢死)', 'r_des': '차에 치여 죽음.', 'r_pos': '「명사」'}\n",
      "------------------------\n",
      "{'r_seq': '1', 'r_word': '수학', 'r_link': 'http://stdict.korean.go.kr/search/searchView.do?word_no=198681&searchKeywordTo=3', 'r_chi': '(水學)', 'r_des': '물의 현상에 관하여 연구하는 학문.', 'r_pos': '「명사」'}\n",
      "------------------------\n",
      "{'r_seq': '2', 'r_word': '수학', 'r_link': 'http://stdict.korean.go.kr/search/searchView.do?word_no=198682&searchKeywordTo=3', 'r_chi': '(受學)', 'r_des': '학문을 배우거나 수업을 받음.', 'r_pos': '「명사」'}\n",
      "------------------------\n",
      "{'r_seq': '3', 'r_word': '수학', 'r_link': 'http://stdict.korean.go.kr/search/searchView.do?word_no=198683&searchKeywordTo=3', 'r_chi': '(修學)', 'r_des': '학문을 닦음.', 'r_pos': '「명사」'}\n",
      "------------------------\n",
      "{'r_seq': '4', 'r_word': '수학', 'r_link': 'http://stdict.korean.go.kr/search/searchView.do?word_no=198685&searchKeywordTo=3', 'r_chi': '(粹學)', 'r_des': '순수한 학문.', 'r_pos': '「명사」'}\n",
      "------------------------\n",
      "{'r_seq': '5', 'r_word': '수학', 'r_link': 'http://stdict.korean.go.kr/search/searchView.do?word_no=452991&searchKeywordTo=3', 'r_chi': '(數學)', 'r_des': '『수학』 수량 및 공간의 성질에 관하여 연구하는 학문. 대수학, 기하학, 해석학 및 이를 응용하는 학문을 통틀어 이르는 말이다.', 'r_pos': '「명사」'}\n",
      "------------------------\n",
      "{'r_seq': '6', 'r_word': '수학', 'r_link': 'http://stdict.korean.go.kr/search/searchView.do?word_no=198961&searchKeywordTo=3', 'r_chi': '(瘦鶴)', 'r_des': '여윈 학.', 'r_pos': '「명사」'}\n",
      "------------------------\n",
      "{'r_seq': '1', 'r_word': '소설', 'r_link': 'http://stdict.korean.go.kr/search/searchView.do?word_no=190897&searchKeywordTo=3', 'r_chi': '(小舌)', 'r_des': '하찮거나 쓸모없는 변설(辯舌).', 'r_pos': '「명사」'}\n",
      "------------------------\n",
      "{'r_seq': '2', 'r_word': '소설', 'r_link': 'http://stdict.korean.go.kr/search/searchView.do?word_no=443956&searchKeywordTo=3', 'r_chi': '(小雪)', 'r_des': '이십사절기의 하나. 입동과 대설 사이에 들며, 이때 태양의 황경(黃經)은 240도가 된다. 11월 22일이나 23일경이다.', 'r_pos': '「명사」'}\n",
      "------------------------\n",
      "{'r_seq': '3', 'r_word': '소설', 'r_link': 'http://stdict.korean.go.kr/search/searchView.do?word_no=184185&searchKeywordTo=3', 'r_chi': '(小說)', 'r_des': '『문학』 사실 또는 작가의 상상력에 바탕을 두고 허구적으로 이야기를 꾸며 나간 산문체의 문학 양식. 일정한 구조 속에서 배경과 등장인물의 행동, 사상, 심리 따위를 통하여 인간의 모습이나 사회상을 드러낸다. 분량에 따라 장편ㆍ중편ㆍ단편으로, 내용에 따라 과학 소설ㆍ역사 소설ㆍ추리 소설 따위로 구분할 수 있으며, 옛날의 설화나 서사시 따위의 전통을 이어받아 근대에 와서 발달한 문학 양식이다.≒이야기.', 'r_pos': '「명사」'}\n",
      "------------------------\n",
      "{'r_seq': '4', 'r_word': '소설', 'r_link': 'http://stdict.korean.go.kr/search/searchView.do?word_no=443957&searchKeywordTo=3', 'r_chi': '(所說)', 'r_des': '설명하는 바.', 'r_pos': '「명사」'}\n",
      "------------------------\n",
      "{'r_seq': '5', 'r_word': '소설', 'r_link': 'http://stdict.korean.go.kr/search/searchView.do?word_no=184186&searchKeywordTo=3', 'r_chi': '(昭雪)', 'r_des': '원통한 죄나 억울한 누명 따위를 밝혀 씻음.≒소석.', 'r_pos': '「명사」'}\n",
      "------------------------\n",
      "{'r_seq': '6', 'r_word': '소설', 'r_link': 'http://stdict.korean.go.kr/search/searchView.do?word_no=443958&searchKeywordTo=3', 'r_chi': '(素雪)', 'r_des': '하얀 눈.=백설.', 'r_pos': '「명사」'}\n",
      "------------------------\n",
      "{'r_seq': '7', 'r_word': '소설', 'r_link': 'http://stdict.korean.go.kr/search/searchView.do?word_no=190900&searchKeywordTo=3', 'r_chi': '(掃雪)', 'r_des': '쌓인 눈을 치움. 또는 그런 일.=제설.', 'r_pos': '「명사」'}\n",
      "------------------------\n",
      "{'r_seq': '8', 'r_word': '소설', 'r_link': 'http://stdict.korean.go.kr/search/searchView.do?word_no=443959&searchKeywordTo=3', 'r_chi': '(疏泄)', 'r_des': '『한의』 뭉쳐 있는 기운을 풀어서 소통시키는 기능.', 'r_pos': '「명사」'}\n",
      "------------------------\n",
      "{'r_seq': '9', 'r_word': '소설', 'r_link': 'http://stdict.korean.go.kr/search/searchView.do?word_no=190902&searchKeywordTo=3', 'r_chi': '(騷說)', 'r_des': '시끄럽게 떠도는 소문.', 'r_pos': '「명사」'}\n",
      "------------------------\n"
     ]
    }
   ],
   "source": [
    "for data_row in kor_dic_coll.find({}, {'_id':0}):\n",
    "    print(data_row)\n",
    "    print('------------------------')"
   ]
  },
  {
   "cell_type": "code",
   "execution_count": null,
   "id": "59bebb62",
   "metadata": {},
   "outputs": [],
   "source": []
  }
 ],
 "metadata": {
  "kernelspec": {
   "display_name": "Python 3 (ipykernel)",
   "language": "python",
   "name": "python3"
  },
  "language_info": {
   "codemirror_mode": {
    "name": "ipython",
    "version": 3
   },
   "file_extension": ".py",
   "mimetype": "text/x-python",
   "name": "python",
   "nbconvert_exporter": "python",
   "pygments_lexer": "ipython3",
   "version": "3.9.6"
  }
 },
 "nbformat": 4,
 "nbformat_minor": 5
}
