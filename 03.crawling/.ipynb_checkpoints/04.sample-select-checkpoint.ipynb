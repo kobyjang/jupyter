{
 "cells": [
  {
   "cell_type": "code",
   "execution_count": 1,
   "id": "bc6baecc",
   "metadata": {},
   "outputs": [],
   "source": [
    "import requests\n",
    "from bs4 import BeautifulSoup\n",
    "\n",
    "url = 'https://pythonscraping.com/pages/page3.html'\n",
    "\n",
    "res = requests.get(url)\n",
    "soup = BeautifulSoup(res.content, 'html.parser')\n",
    "from IPython.display import Image\n"
   ]
  },
  {
   "cell_type": "code",
   "execution_count": 6,
   "id": "aa42ff0f",
   "metadata": {},
   "outputs": [
    {
     "data": {
      "text/plain": [
       "<html>\n",
       "<head>\n",
       "<style>\n",
       "img{\n",
       "\twidth:75px;\n",
       "}\n",
       "table{\n",
       "\twidth:50%;\n",
       "}\n",
       "td{\n",
       "\tmargin:10px;\n",
       "\tpadding:10px;\n",
       "}\n",
       ".wrapper{\n",
       "\twidth:800px;\n",
       "}\n",
       ".excitingNote{\n",
       "\tfont-style:italic;\n",
       "\tfont-weight:bold;\n",
       "}\n",
       "</style>\n",
       "</head>\n",
       "<body>\n",
       "<div id=\"wrapper\">\n",
       "<img src=\"../img/gifts/logo.jpg\" style=\"float:left;\"/>\n",
       "<h1>Totally Normal Gifts</h1>\n",
       "<div id=\"content\">Here is a collection of totally normal, totally reasonable gifts that your friends are sure to love! Our collection is\n",
       "hand-curated by well-paid, free-range Tibetan monks.<p>\n",
       "We haven't figured out how to make online shopping carts yet, but you can send us a check to:<br/>\n",
       "123 Main St.<br/>\n",
       "Abuja, Nigeria\n",
       "We will then send your totally amazing gift, pronto! Please include an extra $5.00 for gift wrapping.</p></div>\n",
       "<table id=\"giftList\">\n",
       "<tr><th>\n",
       "Item Title\n",
       "</th><th>\n",
       "Description\n",
       "</th><th>\n",
       "Cost\n",
       "</th><th>\n",
       "Image\n",
       "</th></tr>\n",
       "<tr class=\"gift\" id=\"gift1\"><td>\n",
       "Vegetable Basket\n",
       "</td><td>\n",
       "This vegetable basket is the perfect gift for your health conscious (or overweight) friends!\n",
       "<span class=\"excitingNote\">Now with super-colorful bell peppers!</span>\n",
       "</td><td>\n",
       "$15.00\n",
       "</td><td>\n",
       "<img src=\"../img/gifts/img1.jpg\"/>\n",
       "</td></tr>\n",
       "<tr class=\"gift\" id=\"gift2\"><td>\n",
       "Russian Nesting Dolls\n",
       "</td><td>\n",
       "Hand-painted by trained monkeys, these exquisite dolls are priceless! And by \"priceless,\" we mean \"extremely expensive\"! <span class=\"excitingNote\">8 entire dolls per set! Octuple the presents!</span>\n",
       "</td><td>\n",
       "$10,000.52\n",
       "</td><td>\n",
       "<img src=\"../img/gifts/img2.jpg\"/>\n",
       "</td></tr>\n",
       "<tr class=\"gift\" id=\"gift3\"><td>\n",
       "Fish Painting\n",
       "</td><td>\n",
       "If something seems fishy about this painting, it's because it's a fish! <span class=\"excitingNote\">Also hand-painted by trained monkeys!</span>\n",
       "</td><td>\n",
       "$10,005.00\n",
       "</td><td>\n",
       "<img src=\"../img/gifts/img3.jpg\"/>\n",
       "</td></tr>\n",
       "<tr class=\"gift\" id=\"gift4\"><td>\n",
       "Dead Parrot\n",
       "</td><td>\n",
       "This is an ex-parrot! <span class=\"excitingNote\">Or maybe he's only resting?</span>\n",
       "</td><td>\n",
       "$0.50\n",
       "</td><td>\n",
       "<img src=\"../img/gifts/img4.jpg\"/>\n",
       "</td></tr>\n",
       "<tr class=\"gift\" id=\"gift5\"><td>\n",
       "Mystery Box\n",
       "</td><td>\n",
       "If you love suprises, this mystery box is for you! Do not place on light-colored surfaces. May cause oil staining. <span class=\"excitingNote\">Keep your friends guessing!</span>\n",
       "</td><td>\n",
       "$1.50\n",
       "</td><td>\n",
       "<img src=\"../img/gifts/img6.jpg\"/>\n",
       "</td></tr>\n",
       "</table>\n",
       "\n",
       "<div id=\"footer\">\n",
       "© Totally Normal Gifts, Inc. <br/>\n",
       "+234 (617) 863-0736\n",
       "</div>\n",
       "</div>\n",
       "</body>\n",
       "</html>"
      ]
     },
     "execution_count": 6,
     "metadata": {},
     "output_type": "execute_result"
    }
   ],
   "source": [
    "soup"
   ]
  },
  {
   "cell_type": "code",
   "execution_count": 8,
   "id": "494ed3a7",
   "metadata": {},
   "outputs": [
    {
     "name": "stdout",
     "output_type": "stream",
     "text": [
      "<class 'str'>\n",
      "../img/gifts/img1.jpg\n",
      "../img/gifts/img1.jpg\n",
      "<class 'str'>\n",
      "../img/gifts/img2.jpg\n",
      "../img/gifts/img2.jpg\n",
      "<class 'str'>\n",
      "../img/gifts/img3.jpg\n",
      "../img/gifts/img3.jpg\n",
      "<class 'str'>\n",
      "../img/gifts/img4.jpg\n",
      "../img/gifts/img4.jpg\n",
      "<class 'str'>\n",
      "../img/gifts/img6.jpg\n",
      "../img/gifts/img6.jpg\n"
     ]
    }
   ],
   "source": [
    "trs = soup.select('tr.gift')\n",
    "for tr in trs:\n",
    "    tds = tr.find_all('td')\n",
    "    print(type(tds[3].select_one('img')['src']))\n",
    "    print(tds[3].select_one('img')['src'])\n",
    "    print(tds[3].select_one('img')['src'].strip())"
   ]
  },
  {
   "cell_type": "code",
   "execution_count": 10,
   "id": "8b217f42",
   "metadata": {},
   "outputs": [
    {
     "data": {
      "text/plain": [
       "4"
      ]
     },
     "execution_count": 10,
     "metadata": {},
     "output_type": "execute_result"
    }
   ],
   "source": [
    "len(tds)"
   ]
  },
  {
   "cell_type": "code",
   "execution_count": 11,
   "id": "15a2bbb6",
   "metadata": {},
   "outputs": [
    {
     "name": "stdout",
     "output_type": "stream",
     "text": [
      "[<td>\n",
      "Vegetable Basket\n",
      "</td>, <td>\n",
      "This vegetable basket is the perfect gift for your health conscious (or overweight) friends!\n",
      "<span class=\"excitingNote\">Now with super-colorful bell peppers!</span>\n",
      "</td>, <td>\n",
      "$15.00\n",
      "</td>, <td>\n",
      "<img src=\"../img/gifts/img1.jpg\"/>\n",
      "</td>, <td>\n",
      "Russian Nesting Dolls\n",
      "</td>, <td>\n",
      "Hand-painted by trained monkeys, these exquisite dolls are priceless! And by \"priceless,\" we mean \"extremely expensive\"! <span class=\"excitingNote\">8 entire dolls per set! Octuple the presents!</span>\n",
      "</td>, <td>\n",
      "$10,000.52\n",
      "</td>, <td>\n",
      "<img src=\"../img/gifts/img2.jpg\"/>\n",
      "</td>, <td>\n",
      "Fish Painting\n",
      "</td>, <td>\n",
      "If something seems fishy about this painting, it's because it's a fish! <span class=\"excitingNote\">Also hand-painted by trained monkeys!</span>\n",
      "</td>, <td>\n",
      "$10,005.00\n",
      "</td>, <td>\n",
      "<img src=\"../img/gifts/img3.jpg\"/>\n",
      "</td>, <td>\n",
      "Dead Parrot\n",
      "</td>, <td>\n",
      "This is an ex-parrot! <span class=\"excitingNote\">Or maybe he's only resting?</span>\n",
      "</td>, <td>\n",
      "$0.50\n",
      "</td>, <td>\n",
      "<img src=\"../img/gifts/img4.jpg\"/>\n",
      "</td>, <td>\n",
      "Mystery Box\n",
      "</td>, <td>\n",
      "If you love suprises, this mystery box is for you! Do not place on light-colored surfaces. May cause oil staining. <span class=\"excitingNote\">Keep your friends guessing!</span>\n",
      "</td>, <td>\n",
      "$1.50\n",
      "</td>, <td>\n",
      "<img src=\"../img/gifts/img6.jpg\"/>\n",
      "</td>]\n"
     ]
    }
   ],
   "source": [
    "tds = soup.select('tr.gift >td')\n",
    "print(tds)"
   ]
  },
  {
   "cell_type": "code",
   "execution_count": 12,
   "id": "724f8aae",
   "metadata": {},
   "outputs": [
    {
     "name": "stdout",
     "output_type": "stream",
     "text": [
      "<td>\n",
      "Vegetable Basket\n",
      "</td>\n",
      "---------\n",
      "<td>\n",
      "This vegetable basket is the perfect gift for your health conscious (or overweight) friends!\n",
      "<span class=\"excitingNote\">Now with super-colorful bell peppers!</span>\n",
      "</td>\n",
      "---------\n",
      "<td>\n",
      "$15.00\n",
      "</td>\n",
      "---------\n",
      "<td>\n",
      "<img src=\"../img/gifts/img1.jpg\"/>\n",
      "</td>\n",
      "---------\n",
      "<td>\n",
      "Russian Nesting Dolls\n",
      "</td>\n",
      "---------\n",
      "<td>\n",
      "Hand-painted by trained monkeys, these exquisite dolls are priceless! And by \"priceless,\" we mean \"extremely expensive\"! <span class=\"excitingNote\">8 entire dolls per set! Octuple the presents!</span>\n",
      "</td>\n",
      "---------\n",
      "<td>\n",
      "$10,000.52\n",
      "</td>\n",
      "---------\n",
      "<td>\n",
      "<img src=\"../img/gifts/img2.jpg\"/>\n",
      "</td>\n",
      "---------\n",
      "<td>\n",
      "Fish Painting\n",
      "</td>\n",
      "---------\n",
      "<td>\n",
      "If something seems fishy about this painting, it's because it's a fish! <span class=\"excitingNote\">Also hand-painted by trained monkeys!</span>\n",
      "</td>\n",
      "---------\n",
      "<td>\n",
      "$10,005.00\n",
      "</td>\n",
      "---------\n",
      "<td>\n",
      "<img src=\"../img/gifts/img3.jpg\"/>\n",
      "</td>\n",
      "---------\n",
      "<td>\n",
      "Dead Parrot\n",
      "</td>\n",
      "---------\n",
      "<td>\n",
      "This is an ex-parrot! <span class=\"excitingNote\">Or maybe he's only resting?</span>\n",
      "</td>\n",
      "---------\n",
      "<td>\n",
      "$0.50\n",
      "</td>\n",
      "---------\n",
      "<td>\n",
      "<img src=\"../img/gifts/img4.jpg\"/>\n",
      "</td>\n",
      "---------\n",
      "<td>\n",
      "Mystery Box\n",
      "</td>\n",
      "---------\n",
      "<td>\n",
      "If you love suprises, this mystery box is for you! Do not place on light-colored surfaces. May cause oil staining. <span class=\"excitingNote\">Keep your friends guessing!</span>\n",
      "</td>\n",
      "---------\n",
      "<td>\n",
      "$1.50\n",
      "</td>\n",
      "---------\n",
      "<td>\n",
      "<img src=\"../img/gifts/img6.jpg\"/>\n",
      "</td>\n",
      "---------\n"
     ]
    }
   ],
   "source": [
    "for td in tds:\n",
    "    print(td)\n",
    "    print('---------')"
   ]
  },
  {
   "cell_type": "code",
   "execution_count": 16,
   "id": "4dcbd02a",
   "metadata": {},
   "outputs": [
    {
     "name": "stdout",
     "output_type": "stream",
     "text": [
      "a\n",
      "b\n",
      "c\n"
     ]
    }
   ],
   "source": [
    "## 한개씩 가져가면서 순번을 매김 \n",
    "# for i, td in enumerate(tds):\n",
    "for item in ['a','b','c']:\n",
    "    print(item)"
   ]
  },
  {
   "cell_type": "code",
   "execution_count": 21,
   "id": "5591b8b8",
   "metadata": {},
   "outputs": [
    {
     "name": "stdout",
     "output_type": "stream",
     "text": [
      "1번째 아이템은 b\n",
      "2번째 아이템은 c\n"
     ]
    }
   ],
   "source": [
    " for i, item in enumerate(['a','b','c']):\n",
    "        if i !=0:\n",
    "            print('{}번째 아이템은 {}'.format(i, item))"
   ]
  },
  {
   "cell_type": "code",
   "execution_count": 27,
   "id": "425401f1",
   "metadata": {},
   "outputs": [
    {
     "name": "stdout",
     "output_type": "stream",
     "text": [
      "제목 : Vegetable Basket\n",
      "---------------\n",
      "설명 : This vegetable basket is the perfect gift for your health conscious (or overweight) friends!\n",
      "Now with super-colorful bell peppers!\n",
      "---------------\n",
      "가격 : $15.00\n",
      "---------------\n",
      "이미지 : ../img/gifts/img1.jpg\n",
      "---------------\n",
      "제목 : Russian Nesting Dolls\n",
      "---------------\n",
      "설명 : Hand-painted by trained monkeys, these exquisite dolls are priceless! And by \"priceless,\" we mean \"extremely expensive\"! 8 entire dolls per set! Octuple the presents!\n",
      "---------------\n",
      "가격 : $10,000.52\n",
      "---------------\n",
      "이미지 : ../img/gifts/img2.jpg\n",
      "---------------\n",
      "제목 : Fish Painting\n",
      "---------------\n",
      "설명 : If something seems fishy about this painting, it's because it's a fish! Also hand-painted by trained monkeys!\n",
      "---------------\n",
      "가격 : $10,005.00\n",
      "---------------\n",
      "이미지 : ../img/gifts/img3.jpg\n",
      "---------------\n",
      "제목 : Dead Parrot\n",
      "---------------\n",
      "설명 : This is an ex-parrot! Or maybe he's only resting?\n",
      "---------------\n",
      "가격 : $0.50\n",
      "---------------\n",
      "이미지 : ../img/gifts/img4.jpg\n",
      "---------------\n",
      "제목 : Mystery Box\n",
      "---------------\n",
      "설명 : If you love suprises, this mystery box is for you! Do not place on light-colored surfaces. May cause oil staining. Keep your friends guessing!\n",
      "---------------\n",
      "가격 : $1.50\n",
      "---------------\n",
      "이미지 : ../img/gifts/img6.jpg\n",
      "---------------\n"
     ]
    }
   ],
   "source": [
    "for i, td in enumerate(tds):\n",
    "    if i % 4 == 0:\n",
    "        print('제목 : ' +td.text.strip())\n",
    "    if i % 4 == 1:\n",
    "        print('설명 : ' +td.text.strip())\n",
    "    if i % 4 == 2:\n",
    "        print('가격 : ' +td.text.strip())\n",
    "    if i % 4 == 3:\n",
    "        print('이미지 : ' +td.select_one('img')['src'].strip())\n",
    "    print('---------------')"
   ]
  },
  {
   "cell_type": "code",
   "execution_count": 38,
   "id": "f999f393",
   "metadata": {},
   "outputs": [],
   "source": [
    "list_all=[]\n",
    "list_row =[]"
   ]
  },
  {
   "cell_type": "code",
   "execution_count": 40,
   "id": "875bc342",
   "metadata": {},
   "outputs": [],
   "source": [
    "for tr in trs:\n",
    "#     print(tr)\n",
    "#     print('--------------------------------------')\n",
    "    tds = tr.find_all('td')\n",
    "    list_row.append(tds[0].text.strip())\n",
    "    list_row.append(tds[1].text.strip())  \n",
    "    list_row.append(tds[2].text.strip())\n",
    "    list_row.append(tds[3].find('img')['src'].strip())\n",
    "    \n",
    "    list_all.append(list_row)\n",
    "    list_row = []"
   ]
  },
  {
   "cell_type": "code",
   "execution_count": 41,
   "id": "82584641",
   "metadata": {},
   "outputs": [
    {
     "name": "stdout",
     "output_type": "stream",
     "text": [
      "['Vegetable Basket', 'Russian Nesting Dolls', 'Fish Painting', 'Dead Parrot', 'Mystery Box', 'Vegetable Basket', 'This vegetable basket is the perfect gift for your health conscious (or overweight) friends!\\nNow with super-colorful bell peppers!', '$15.00', '../img/gifts/img1.jpg']\n",
      "['Russian Nesting Dolls', 'Hand-painted by trained monkeys, these exquisite dolls are priceless! And by \"priceless,\" we mean \"extremely expensive\"! 8 entire dolls per set! Octuple the presents!', '$10,000.52', '../img/gifts/img2.jpg']\n",
      "['Fish Painting', \"If something seems fishy about this painting, it's because it's a fish! Also hand-painted by trained monkeys!\", '$10,005.00', '../img/gifts/img3.jpg']\n",
      "['Dead Parrot', \"This is an ex-parrot! Or maybe he's only resting?\", '$0.50', '../img/gifts/img4.jpg']\n",
      "['Mystery Box', 'If you love suprises, this mystery box is for you! Do not place on light-colored surfaces. May cause oil staining. Keep your friends guessing!', '$1.50', '../img/gifts/img6.jpg']\n"
     ]
    }
   ],
   "source": [
    "for list_i in list_all:\n",
    "    print(list_i)"
   ]
  },
  {
   "cell_type": "code",
   "execution_count": 44,
   "id": "64c47707",
   "metadata": {},
   "outputs": [],
   "source": [
    "for i, td in enumerate(tds):\n",
    "    if i % 4 == 0:\n",
    "        list_row.append(td.text.strip())\n",
    "    if i % 4 == 1:\n",
    "        list_row.append(td.text.strip())\n",
    "    if i % 4 == 2:\n",
    "        list_row.append(td.text.strip())\n",
    "    if i % 4 == 3:\n",
    "        list_row.append(td.select_one('img')['src'].strip())\n",
    "        list_all.append(list_row)\n",
    "        list_row = []"
   ]
  },
  {
   "cell_type": "code",
   "execution_count": 45,
   "id": "6fb54179",
   "metadata": {},
   "outputs": [
    {
     "name": "stdout",
     "output_type": "stream",
     "text": [
      "['Vegetable Basket', 'Russian Nesting Dolls', 'Fish Painting', 'Dead Parrot', 'Mystery Box', 'Vegetable Basket', 'This vegetable basket is the perfect gift for your health conscious (or overweight) friends!\\nNow with super-colorful bell peppers!', '$15.00', '../img/gifts/img1.jpg']\n",
      "['Russian Nesting Dolls', 'Hand-painted by trained monkeys, these exquisite dolls are priceless! And by \"priceless,\" we mean \"extremely expensive\"! 8 entire dolls per set! Octuple the presents!', '$10,000.52', '../img/gifts/img2.jpg']\n",
      "['Fish Painting', \"If something seems fishy about this painting, it's because it's a fish! Also hand-painted by trained monkeys!\", '$10,005.00', '../img/gifts/img3.jpg']\n",
      "['Dead Parrot', \"This is an ex-parrot! Or maybe he's only resting?\", '$0.50', '../img/gifts/img4.jpg']\n",
      "['Mystery Box', 'If you love suprises, this mystery box is for you! Do not place on light-colored surfaces. May cause oil staining. Keep your friends guessing!', '$1.50', '../img/gifts/img6.jpg']\n",
      "['Mystery Box', 'If you love suprises, this mystery box is for you! Do not place on light-colored surfaces. May cause oil staining. Keep your friends guessing!', '$1.50', '../img/gifts/img6.jpg', 'Mystery Box', 'If you love suprises, this mystery box is for you! Do not place on light-colored surfaces. May cause oil staining. Keep your friends guessing!', '$1.50', '../img/gifts/img6.jpg', 'Mystery Box', 'If you love suprises, this mystery box is for you! Do not place on light-colored surfaces. May cause oil staining. Keep your friends guessing!', '$1.50', '../img/gifts/img6.jpg']\n"
     ]
    }
   ],
   "source": [
    "for list_i in list_all:\n",
    "    print(list_i)"
   ]
  },
  {
   "cell_type": "code",
   "execution_count": null,
   "id": "564d0f8a",
   "metadata": {},
   "outputs": [],
   "source": []
  }
 ],
 "metadata": {
  "kernelspec": {
   "display_name": "Python 3 (ipykernel)",
   "language": "python",
   "name": "python3"
  },
  "language_info": {
   "codemirror_mode": {
    "name": "ipython",
    "version": 3
   },
   "file_extension": ".py",
   "mimetype": "text/x-python",
   "name": "python",
   "nbconvert_exporter": "python",
   "pygments_lexer": "ipython3",
   "version": "3.9.6"
  }
 },
 "nbformat": 4,
 "nbformat_minor": 5
}
