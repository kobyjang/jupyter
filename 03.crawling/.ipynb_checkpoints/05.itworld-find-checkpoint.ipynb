{
 "cells": [
  {
   "cell_type": "code",
   "execution_count": 41,
   "id": "b24953cc",
   "metadata": {},
   "outputs": [],
   "source": [
    "import requests\n",
    "from bs4 import BeautifulSoup\n",
    "\n",
    "url = 'https://www.itworld.co.kr/main/'\n",
    "\n",
    "res = requests.get(url)\n",
    "soup = BeautifulSoup(res.content, 'html.parser')\n",
    "from IPython.display import Image\n"
   ]
  },
  {
   "cell_type": "code",
   "execution_count": 43,
   "id": "2d79005f",
   "metadata": {},
   "outputs": [
    {
     "name": "stdout",
     "output_type": "stream",
     "text": [
      "1\n",
      "\n",
      "\n",
      "윈도우 11에 숨겨진 9가지 유용한 기능\n",
      " 1일 전\n",
      "\n",
      "\n",
      "IDG 블로그 | RAM에 부착된 방열판 “성능에 영향 없지만 크기는 중요하다”\n",
      " 1일 전\n",
      "\n",
      "\n",
      "RaaS로 성공한 '레빌 랜섬웨어'의 주요 동향과 이를 막는 방법 \n",
      " 1일 전\n",
      "\n",
      "\n",
      "갑자기 느려진 PC에 대처하는 방법 : CPU 및 메모리 사용량 관리\n",
      " 1일 전\n",
      "\n",
      "\n",
      "트위치 데이터 유출 사건의 교훈 \"최소 권한 관리보다 중요한 것은 없다\"\n",
      " 1일 전\n",
      "\n",
      "\n"
     ]
    }
   ],
   "source": [
    "li=soup.find_all('ul','default_font color_deep_gray hot_news_list_ title_h3')\n",
    "print(len(li))\n",
    "for lis in li:\n",
    "    print(lis.text)"
   ]
  },
  {
   "cell_type": "code",
   "execution_count": 50,
   "id": "cea70743",
   "metadata": {},
   "outputs": [
    {
     "name": "stdout",
     "output_type": "stream",
     "text": [
      "<li class=\"font_bold\" style=\"overflow: hidden;\">\n",
      "<div class=\"font_limit fl\" style=\"width:545px;\"><a href=\"/news/210904\">윈도우 11에 숨겨진 9가지 유용한 기능</a></div>\n",
      "<div class=\"news_list_time font_11 color_black default_small_font fr\"><i class=\"icon-time news_list_time_icon color_light_gray font_12 default_small_font\"></i> 1일 전</div>\n",
      "</li>\n",
      "--------\n",
      "<li class=\"font_bold\" style=\"overflow: hidden;\">\n",
      "<div class=\"font_limit fl\" style=\"width:545px;\"><a href=\"/news/210894\">IDG 블로그 | RAM에 부착된 방열판 “성능에 영향 없지만 크기는 중요하다”</a></div>\n",
      "<div class=\"news_list_time font_11 color_black default_small_font fr\"><i class=\"icon-time news_list_time_icon color_light_gray font_12 default_small_font\"></i> 1일 전</div>\n",
      "</li>\n",
      "--------\n",
      "<li class=\"font_bold\" style=\"overflow: hidden;\">\n",
      "<div class=\"font_limit fl\" style=\"width:545px;\"><a href=\"/news/210884\">RaaS로 성공한 '레빌 랜섬웨어'의 주요 동향과 이를 막는 방법 </a></div>\n",
      "<div class=\"news_list_time font_11 color_black default_small_font fr\"><i class=\"icon-time news_list_time_icon color_light_gray font_12 default_small_font\"></i> 1일 전</div>\n",
      "</li>\n",
      "--------\n",
      "<li class=\"font_bold\" style=\"overflow: hidden;\">\n",
      "<div class=\"font_limit fl\" style=\"width:545px;\"><a href=\"/news/210874\">갑자기 느려진 PC에 대처하는 방법 : CPU 및 메모리 사용량 관리</a></div>\n",
      "<div class=\"news_list_time font_11 color_black default_small_font fr\"><i class=\"icon-time news_list_time_icon color_light_gray font_12 default_small_font\"></i> 1일 전</div>\n",
      "</li>\n",
      "--------\n",
      "<li class=\"font_bold\" style=\"overflow: hidden;\">\n",
      "<div class=\"font_limit fl\" style=\"width:545px;\"><a href=\"/news/210859\">트위치 데이터 유출 사건의 교훈 \"최소 권한 관리보다 중요한 것은 없다\"</a></div>\n",
      "<div class=\"news_list_time font_11 color_black default_small_font fr\"><i class=\"icon-time news_list_time_icon color_light_gray font_12 default_small_font\"></i> 1일 전</div>\n",
      "</li>\n",
      "--------\n",
      "<li class=\"foot_head_font color_white font_14 font_bold font_Italic\">ITWorld</li>\n",
      "--------\n",
      "<li class=\"foot_head_font color_white font_14 font_bold font_Italic\">News</li>\n",
      "--------\n",
      "<li class=\"foot_head_font color_white font_14 font_bold font_Italic\">Topics</li>\n",
      "--------\n",
      "<li class=\"foot_head_font color_white font_14 font_bold font_Italic\">Business</li>\n",
      "--------\n",
      "<li class=\"foot_head_font color_white font_14 font_bold font_Italic\">Join Us On</li>\n",
      "--------\n"
     ]
    }
   ],
   "source": [
    "lis = soup.find_all('li', 'font_bold')\n",
    "for li in lis:\n",
    "    print(li)\n",
    "    print('--------')\n",
    "    "
   ]
  },
  {
   "cell_type": "code",
   "execution_count": 107,
   "id": "22f520e4",
   "metadata": {},
   "outputs": [],
   "source": [
    "list_titles= []\n",
    "list_time= []"
   ]
  },
  {
   "cell_type": "code",
   "execution_count": 100,
   "id": "37bc2035",
   "metadata": {},
   "outputs": [],
   "source": [
    "#titles = soup.select('ul.default_font.color_deep_gray.hot_news_list_.title_h3 > li.font_bold>div.font_limit.fl')\n",
    "#titles\n",
    "\n",
    "titles = soup.select('ul.default_font.color_deep_gray.hot_news_list_.title_h3 > li.font_bold>div.font_limit.fl')\n",
    "for title in titles:\n",
    "    list_titles.append(title.text.strip())"
   ]
  },
  {
   "cell_type": "code",
   "execution_count": 104,
   "id": "dde9c227",
   "metadata": {},
   "outputs": [],
   "source": [
    "times = soup.select('ul.default_font.color_deep_gray.hot_news_list_.title_h3 > li.font_bold>div.news_list_time.font_11.color_black.default_small_font.fr')\n",
    "for time in times:\n",
    "    list_time.append(time.text.strip())\n",
    " "
   ]
  },
  {
   "cell_type": "code",
   "execution_count": 105,
   "id": "5537f0dc",
   "metadata": {},
   "outputs": [],
   "source": [
    "for i in range(len(list_titles)):\n",
    "    list_all.append([list_titles[i], list_time[i]])"
   ]
  },
  {
   "cell_type": "code",
   "execution_count": 106,
   "id": "dc07c026",
   "metadata": {},
   "outputs": [
    {
     "name": "stdout",
     "output_type": "stream",
     "text": [
      "['윈도우 11에 숨겨진 9가지 유용한 기능', '1일 전']\n",
      "['IDG 블로그 | RAM에 부착된 방열판 “성능에 영향 없지만 크기는 중요하다”', '1일 전']\n",
      "[\"RaaS로 성공한 '레빌 랜섬웨어'의 주요 동향과 이를 막는 방법\", '1일 전']\n",
      "['갑자기 느려진 PC에 대처하는 방법 : CPU 및 메모리 사용량 관리', '1일 전']\n",
      "['트위치 데이터 유출 사건의 교훈 \"최소 권한 관리보다 중요한 것은 없다\"', '1일 전']\n"
     ]
    }
   ],
   "source": [
    "for list_i in list_all:\n",
    "    print(list_i)"
   ]
  },
  {
   "cell_type": "code",
   "execution_count": null,
   "id": "77236682",
   "metadata": {},
   "outputs": [],
   "source": []
  }
 ],
 "metadata": {
  "kernelspec": {
   "display_name": "Python 3 (ipykernel)",
   "language": "python",
   "name": "python3"
  },
  "language_info": {
   "codemirror_mode": {
    "name": "ipython",
    "version": 3
   },
   "file_extension": ".py",
   "mimetype": "text/x-python",
   "name": "python",
   "nbconvert_exporter": "python",
   "pygments_lexer": "ipython3",
   "version": "3.9.6"
  }
 },
 "nbformat": 4,
 "nbformat_minor": 5
}
