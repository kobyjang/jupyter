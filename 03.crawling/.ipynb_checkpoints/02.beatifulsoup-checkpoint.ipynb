{
 "cells": [
  {
   "cell_type": "code",
   "execution_count": 2,
   "id": "b5908aa5",
   "metadata": {},
   "outputs": [],
   "source": [
    "from bs4 import BeautifulSoup"
   ]
  },
  {
   "cell_type": "code",
   "execution_count": 3,
   "id": "ebf0d953",
   "metadata": {},
   "outputs": [],
   "source": [
    "html_doc = \"\"\"<html><head><title>The Dormouse's story</title></head>\n",
    "<body>\n",
    "<p class=\"title\"><b>The Dormouse's story</b></p>\n",
    "\n",
    "<p class=\"story\">Once upon a time there were three little sisters; and their names were\n",
    "    <a href=\"http://example.com/elsie\" class=\"sister\" id=\"link1\">Elsie</a>,\n",
    "    <a href=\"http://example.com/lacie\" class=\"sister\" id=\"link2\" data01=\"title_01\">Lacie</a>\n",
    "     and\n",
    "    <a href=\"http://example.com/tillie\" class=\"sister\" id=\"link3\" data02=\"title_02\">Tillie</a>;\n",
    "    and they lived at the bottom of a well.\n",
    "</p>\n",
    "\n",
    "<p class=\"story\">...</p>\n",
    "</body>\n",
    "</html>\n",
    "\"\"\"\n"
   ]
  },
  {
   "cell_type": "code",
   "execution_count": 5,
   "id": "c86d1d8d",
   "metadata": {},
   "outputs": [
    {
     "data": {
      "text/plain": [
       "<html><head><title>The Dormouse's story</title></head>\n",
       "<body>\n",
       "<p class=\"title\"><b>The Dormouse's story</b></p>\n",
       "<p class=\"story\">Once upon a time there were three little sisters; and their names were\n",
       "    <a class=\"sister\" href=\"http://example.com/elsie\" id=\"link1\">Elsie</a>,\n",
       "    <a class=\"sister\" data01=\"title_01\" href=\"http://example.com/lacie\" id=\"link2\">Lacie</a>\n",
       "     and\n",
       "    <a class=\"sister\" data02=\"title_02\" href=\"http://example.com/tillie\" id=\"link3\">Tillie</a>;\n",
       "    and they lived at the bottom of a well.\n",
       "</p>\n",
       "<p class=\"story\">...</p>\n",
       "</body>\n",
       "</html>"
      ]
     },
     "execution_count": 5,
     "metadata": {},
     "output_type": "execute_result"
    }
   ],
   "source": [
    "soup=BeautifulSoup(html_doc, 'html.parser')\n",
    "soup"
   ]
  },
  {
   "cell_type": "code",
   "execution_count": 8,
   "id": "c8c23557",
   "metadata": {},
   "outputs": [
    {
     "name": "stdout",
     "output_type": "stream",
     "text": [
      "<html>\n",
      " <head>\n",
      "  <title>\n",
      "   The Dormouse's story\n",
      "  </title>\n",
      " </head>\n",
      " <body>\n",
      "  <p class=\"title\">\n",
      "   <b>\n",
      "    The Dormouse's story\n",
      "   </b>\n",
      "  </p>\n",
      "  <p class=\"story\">\n",
      "   Once upon a time there were three little sisters; and their names were\n",
      "   <a class=\"sister\" href=\"http://example.com/elsie\" id=\"link1\">\n",
      "    Elsie\n",
      "   </a>\n",
      "   ,\n",
      "   <a class=\"sister\" data01=\"title_01\" href=\"http://example.com/lacie\" id=\"link2\">\n",
      "    Lacie\n",
      "   </a>\n",
      "   and\n",
      "   <a class=\"sister\" data02=\"title_02\" href=\"http://example.com/tillie\" id=\"link3\">\n",
      "    Tillie\n",
      "   </a>\n",
      "   ;\n",
      "    and they lived at the bottom of a well.\n",
      "  </p>\n",
      "  <p class=\"story\">\n",
      "   ...\n",
      "  </p>\n",
      " </body>\n",
      "</html>\n",
      "\n"
     ]
    }
   ],
   "source": [
    "print(soup.prettify())"
   ]
  },
  {
   "cell_type": "code",
   "execution_count": 9,
   "id": "c75fb877",
   "metadata": {},
   "outputs": [
    {
     "data": {
      "text/plain": [
       "<title>The Dormouse's story</title>"
      ]
     },
     "execution_count": 9,
     "metadata": {},
     "output_type": "execute_result"
    }
   ],
   "source": [
    "# <title>\n",
    "soup.title"
   ]
  },
  {
   "cell_type": "code",
   "execution_count": 10,
   "id": "7a2ece91",
   "metadata": {},
   "outputs": [
    {
     "data": {
      "text/plain": [
       "\"The Dormouse's story\""
      ]
     },
     "execution_count": 10,
     "metadata": {},
     "output_type": "execute_result"
    }
   ],
   "source": [
    "soup.title.string"
   ]
  },
  {
   "cell_type": "code",
   "execution_count": 11,
   "id": "b96c9733",
   "metadata": {},
   "outputs": [
    {
     "data": {
      "text/plain": [
       "\"The Dormouse's story\""
      ]
     },
     "execution_count": 11,
     "metadata": {},
     "output_type": "execute_result"
    }
   ],
   "source": [
    "soup.title.text"
   ]
  },
  {
   "cell_type": "code",
   "execution_count": 12,
   "id": "66f1e53a",
   "metadata": {},
   "outputs": [
    {
     "data": {
      "text/plain": [
       "'head'"
      ]
     },
     "execution_count": 12,
     "metadata": {},
     "output_type": "execute_result"
    }
   ],
   "source": [
    "soup.title.parent.name"
   ]
  },
  {
   "cell_type": "code",
   "execution_count": 13,
   "id": "ac49a68b",
   "metadata": {},
   "outputs": [
    {
     "data": {
      "text/plain": [
       "['title']"
      ]
     },
     "execution_count": 13,
     "metadata": {},
     "output_type": "execute_result"
    }
   ],
   "source": [
    "soup.p['class']"
   ]
  },
  {
   "cell_type": "code",
   "execution_count": 14,
   "id": "dc438ad9",
   "metadata": {},
   "outputs": [
    {
     "data": {
      "text/plain": [
       "<a class=\"sister\" href=\"http://example.com/elsie\" id=\"link1\">Elsie</a>"
      ]
     },
     "execution_count": 14,
     "metadata": {},
     "output_type": "execute_result"
    }
   ],
   "source": [
    "soup.a"
   ]
  },
  {
   "cell_type": "markdown",
   "id": "ef7bda1f",
   "metadata": {},
   "source": [
    "### find_all(), find()\n",
    "- 태그를 이용하여 검색\n",
    "\n",
    "### select().select_one()\n",
    "- css선택자를 이용하여 검색"
   ]
  },
  {
   "cell_type": "code",
   "execution_count": 15,
   "id": "c75aacde",
   "metadata": {},
   "outputs": [
    {
     "data": {
      "text/plain": [
       "<p class=\"title\"><b>The Dormouse's story</b></p>"
      ]
     },
     "execution_count": 15,
     "metadata": {},
     "output_type": "execute_result"
    }
   ],
   "source": [
    "html2 = soup.find('p')\n",
    "html2"
   ]
  },
  {
   "cell_type": "code",
   "execution_count": 17,
   "id": "b3a93c18",
   "metadata": {},
   "outputs": [
    {
     "data": {
      "text/plain": [
       "<p class=\"title\"><b>The Dormouse's story</b></p>"
      ]
     },
     "execution_count": 17,
     "metadata": {},
     "output_type": "execute_result"
    }
   ],
   "source": [
    "html2 = soup.find('p', class_='title')\n",
    "html2"
   ]
  },
  {
   "cell_type": "code",
   "execution_count": 18,
   "id": "3c216c42",
   "metadata": {},
   "outputs": [
    {
     "data": {
      "text/plain": [
       "<p class=\"story\">Once upon a time there were three little sisters; and their names were\n",
       "    <a class=\"sister\" href=\"http://example.com/elsie\" id=\"link1\">Elsie</a>,\n",
       "    <a class=\"sister\" data01=\"title_01\" href=\"http://example.com/lacie\" id=\"link2\">Lacie</a>\n",
       "     and\n",
       "    <a class=\"sister\" data02=\"title_02\" href=\"http://example.com/tillie\" id=\"link3\">Tillie</a>;\n",
       "    and they lived at the bottom of a well.\n",
       "</p>"
      ]
     },
     "execution_count": 18,
     "metadata": {},
     "output_type": "execute_result"
    }
   ],
   "source": [
    "html2 = soup.find('p', class_='story')\n",
    "html2"
   ]
  },
  {
   "cell_type": "code",
   "execution_count": 19,
   "id": "a499ea25",
   "metadata": {},
   "outputs": [
    {
     "data": {
      "text/plain": [
       "<p class=\"title\"><b>The Dormouse's story</b></p>"
      ]
     },
     "execution_count": 19,
     "metadata": {},
     "output_type": "execute_result"
    }
   ],
   "source": [
    "html2 = soup.find('p', 'title')\n",
    "html2"
   ]
  },
  {
   "cell_type": "code",
   "execution_count": 20,
   "id": "e63f5b83",
   "metadata": {},
   "outputs": [
    {
     "data": {
      "text/plain": [
       "<a class=\"sister\" href=\"http://example.com/elsie\" id=\"link1\">Elsie</a>"
      ]
     },
     "execution_count": 20,
     "metadata": {},
     "output_type": "execute_result"
    }
   ],
   "source": [
    "html2 = soup.find('a', id='link1')\n",
    "html2"
   ]
  },
  {
   "cell_type": "code",
   "execution_count": 22,
   "id": "c04f7ef8",
   "metadata": {},
   "outputs": [
    {
     "data": {
      "text/plain": [
       "<a class=\"sister\" data01=\"title_01\" href=\"http://example.com/lacie\" id=\"link2\">Lacie</a>"
      ]
     },
     "execution_count": 22,
     "metadata": {},
     "output_type": "execute_result"
    }
   ],
   "source": [
    "html2 = soup.find('a', attrs={'data01':'title_01'})\n",
    "html2"
   ]
  },
  {
   "cell_type": "code",
   "execution_count": 28,
   "id": "c76e84c3",
   "metadata": {},
   "outputs": [
    {
     "data": {
      "text/plain": [
       "<a class=\"sister\" data01=\"title_01\" href=\"http://example.com/lacie\" id=\"link2\">Lacie</a>"
      ]
     },
     "execution_count": 28,
     "metadata": {},
     "output_type": "execute_result"
    }
   ],
   "source": [
    "html2 = soup.find('a', attrs={'class':'sister', 'data01':'title_01'})\n",
    "html2"
   ]
  },
  {
   "cell_type": "code",
   "execution_count": 31,
   "id": "b42d3417",
   "metadata": {},
   "outputs": [
    {
     "data": {
      "text/plain": [
       "[<p class=\"title\"><b>The Dormouse's story</b></p>,\n",
       " <p class=\"story\">Once upon a time there were three little sisters; and their names were\n",
       "     <a class=\"sister\" href=\"http://example.com/elsie\" id=\"link1\">Elsie</a>,\n",
       "     <a class=\"sister\" data01=\"title_01\" href=\"http://example.com/lacie\" id=\"link2\">Lacie</a>\n",
       "      and\n",
       "     <a class=\"sister\" data02=\"title_02\" href=\"http://example.com/tillie\" id=\"link3\">Tillie</a>;\n",
       "     and they lived at the bottom of a well.\n",
       " </p>,\n",
       " <p class=\"story\">...</p>]"
      ]
     },
     "execution_count": 31,
     "metadata": {},
     "output_type": "execute_result"
    }
   ],
   "source": [
    "html2 = soup.find_all('p')\n",
    "html2"
   ]
  },
  {
   "cell_type": "code",
   "execution_count": 32,
   "id": "81cf206e",
   "metadata": {},
   "outputs": [
    {
     "data": {
      "text/plain": [
       "bs4.element.ResultSet"
      ]
     },
     "execution_count": 32,
     "metadata": {},
     "output_type": "execute_result"
    }
   ],
   "source": [
    "type(html2)"
   ]
  },
  {
   "cell_type": "code",
   "execution_count": 35,
   "id": "727f4128",
   "metadata": {},
   "outputs": [
    {
     "name": "stdout",
     "output_type": "stream",
     "text": [
      "<p class=\"title\"><b>The Dormouse's story</b></p>\n",
      "---------------------------------\n",
      "<p class=\"story\">Once upon a time there were three little sisters; and their names were\n",
      "    <a class=\"sister\" href=\"http://example.com/elsie\" id=\"link1\">Elsie</a>,\n",
      "    <a class=\"sister\" data01=\"title_01\" href=\"http://example.com/lacie\" id=\"link2\">Lacie</a>\n",
      "     and\n",
      "    <a class=\"sister\" data02=\"title_02\" href=\"http://example.com/tillie\" id=\"link3\">Tillie</a>;\n",
      "    and they lived at the bottom of a well.\n",
      "</p>\n",
      "---------------------------------\n",
      "<p class=\"story\">...</p>\n",
      "---------------------------------\n"
     ]
    }
   ],
   "source": [
    "for html in html2:\n",
    "    print(html)\n",
    "    print('---------------------------------')"
   ]
  },
  {
   "cell_type": "code",
   "execution_count": 36,
   "id": "f73ec61d",
   "metadata": {},
   "outputs": [
    {
     "data": {
      "text/plain": [
       "[<p class=\"title\"><b>The Dormouse's story</b></p>]"
      ]
     },
     "execution_count": 36,
     "metadata": {},
     "output_type": "execute_result"
    }
   ],
   "source": [
    "html2 = soup.find_all('p', class_='title')\n",
    "html2"
   ]
  },
  {
   "cell_type": "code",
   "execution_count": 40,
   "id": "fa3bd638",
   "metadata": {},
   "outputs": [
    {
     "name": "stdout",
     "output_type": "stream",
     "text": [
      "Once upon a time there were three little sisters; and their names were\n",
      "    Elsie,\n",
      "    Lacie\n",
      "     and\n",
      "    Tillie;\n",
      "    and they lived at the bottom of a well.\n",
      "\n",
      "...\n"
     ]
    }
   ],
   "source": [
    "for html in html2:\n",
    "    print(html.text)"
   ]
  },
  {
   "cell_type": "code",
   "execution_count": 39,
   "id": "a2f9bd12",
   "metadata": {},
   "outputs": [
    {
     "name": "stdout",
     "output_type": "stream",
     "text": [
      "Once upon a time there were three little sisters; and their names were\n",
      "    Elsie,\n",
      "    Lacie\n",
      "     and\n",
      "    Tillie;\n",
      "    and they lived at the bottom of a well.\n",
      "\n",
      "-------------------\n",
      "...\n",
      "-------------------\n"
     ]
    }
   ],
   "source": [
    "html2 =soup.find_all('p', class_='story')\n",
    "for html in html2:\n",
    "    print(html.text)\n",
    "    print('-------------------')\n",
    "    "
   ]
  },
  {
   "cell_type": "code",
   "execution_count": 42,
   "id": "97ae91d3",
   "metadata": {},
   "outputs": [
    {
     "name": "stdout",
     "output_type": "stream",
     "text": [
      "<a class=\"sister\" href=\"http://example.com/elsie\" id=\"link1\">Elsie</a>\n",
      "-------------------\n"
     ]
    }
   ],
   "source": [
    "html2 =soup.find_all('a', id='link1')\n",
    "for html in html2:\n",
    "    print(html)\n",
    "    print('-------------------')"
   ]
  },
  {
   "cell_type": "code",
   "execution_count": 45,
   "id": "e416dff3",
   "metadata": {},
   "outputs": [
    {
     "name": "stdout",
     "output_type": "stream",
     "text": [
      "<a class=\"sister\" data02=\"title_02\" href=\"http://example.com/tillie\" id=\"link3\">Tillie</a>\n",
      "-------------------\n"
     ]
    }
   ],
   "source": [
    "html2 =soup.find_all('a', attrs={'class':'sister', 'data02':'title_02'})\n",
    "for html in html2:\n",
    "    print(html)\n",
    "    print('-------------------')"
   ]
  },
  {
   "cell_type": "code",
   "execution_count": 44,
   "id": "20e0cc73",
   "metadata": {},
   "outputs": [
    {
     "data": {
      "text/plain": [
       "<p class=\"title\"><b>The Dormouse's story</b></p>"
      ]
     },
     "execution_count": 44,
     "metadata": {},
     "output_type": "execute_result"
    }
   ],
   "source": [
    "html2 = soup.select_one('p.title')\n",
    "html2"
   ]
  },
  {
   "cell_type": "code",
   "execution_count": 46,
   "id": "ff23888c",
   "metadata": {},
   "outputs": [
    {
     "data": {
      "text/plain": [
       "<p class=\"story\">Once upon a time there were three little sisters; and their names were\n",
       "    <a class=\"sister\" href=\"http://example.com/elsie\" id=\"link1\">Elsie</a>,\n",
       "    <a class=\"sister\" data01=\"title_01\" href=\"http://example.com/lacie\" id=\"link2\">Lacie</a>\n",
       "     and\n",
       "    <a class=\"sister\" data02=\"title_02\" href=\"http://example.com/tillie\" id=\"link3\">Tillie</a>;\n",
       "    and they lived at the bottom of a well.\n",
       "</p>"
      ]
     },
     "execution_count": 46,
     "metadata": {},
     "output_type": "execute_result"
    }
   ],
   "source": [
    "html2 = soup.select_one('p.story')\n",
    "html2"
   ]
  },
  {
   "cell_type": "code",
   "execution_count": 48,
   "id": "d5f4e321",
   "metadata": {},
   "outputs": [
    {
     "data": {
      "text/plain": [
       "<a class=\"sister\" href=\"http://example.com/elsie\" id=\"link1\">Elsie</a>"
      ]
     },
     "execution_count": 48,
     "metadata": {},
     "output_type": "execute_result"
    }
   ],
   "source": [
    "html2 = soup.select_one('a#link1')\n",
    "html2"
   ]
  },
  {
   "cell_type": "code",
   "execution_count": 49,
   "id": "868544c3",
   "metadata": {},
   "outputs": [
    {
     "data": {
      "text/plain": [
       "<a class=\"sister\" data01=\"title_01\" href=\"http://example.com/lacie\" id=\"link2\">Lacie</a>"
      ]
     },
     "execution_count": 49,
     "metadata": {},
     "output_type": "execute_result"
    }
   ],
   "source": [
    "## 속성값 // a에서 data01에 타이틀 \n",
    "html2 = soup.select_one('a[data01=\"title_01\"]')\n",
    "html2"
   ]
  },
  {
   "cell_type": "code",
   "execution_count": 50,
   "id": "53153d7d",
   "metadata": {},
   "outputs": [
    {
     "data": {
      "text/plain": [
       "<a class=\"sister\" data02=\"title_02\" href=\"http://example.com/tillie\" id=\"link3\">Tillie</a>"
      ]
     },
     "execution_count": 50,
     "metadata": {},
     "output_type": "execute_result"
    }
   ],
   "source": [
    "## 속성값\n",
    "html2 = soup.select_one('a[data02]')\n",
    "html2"
   ]
  },
  {
   "cell_type": "code",
   "execution_count": 51,
   "id": "efed71e7",
   "metadata": {},
   "outputs": [
    {
     "data": {
      "text/plain": [
       "<title>The Dormouse's story</title>"
      ]
     },
     "execution_count": 51,
     "metadata": {},
     "output_type": "execute_result"
    }
   ],
   "source": [
    "soup.select_one('html head title')"
   ]
  },
  {
   "cell_type": "code",
   "execution_count": 53,
   "id": "1b27fe67",
   "metadata": {},
   "outputs": [
    {
     "data": {
      "text/plain": [
       "<a class=\"sister\" data01=\"title_01\" href=\"http://example.com/lacie\" id=\"link2\">Lacie</a>"
      ]
     },
     "execution_count": 53,
     "metadata": {},
     "output_type": "execute_result"
    }
   ],
   "source": [
    "##바로 아래 꺽새가 있어야됨\n",
    "html2=soup.select_one('p.story> a#link2')\n",
    "html2"
   ]
  },
  {
   "cell_type": "code",
   "execution_count": 54,
   "id": "b99b4398",
   "metadata": {},
   "outputs": [
    {
     "data": {
      "text/plain": [
       "[<p class=\"title\"><b>The Dormouse's story</b></p>,\n",
       " <p class=\"story\">Once upon a time there were three little sisters; and their names were\n",
       "     <a class=\"sister\" href=\"http://example.com/elsie\" id=\"link1\">Elsie</a>,\n",
       "     <a class=\"sister\" data01=\"title_01\" href=\"http://example.com/lacie\" id=\"link2\">Lacie</a>\n",
       "      and\n",
       "     <a class=\"sister\" data02=\"title_02\" href=\"http://example.com/tillie\" id=\"link3\">Tillie</a>;\n",
       "     and they lived at the bottom of a well.\n",
       " </p>,\n",
       " <p class=\"story\">...</p>]"
      ]
     },
     "execution_count": 54,
     "metadata": {},
     "output_type": "execute_result"
    }
   ],
   "source": [
    "html2 = soup.select('p')\n",
    "html2"
   ]
  },
  {
   "cell_type": "code",
   "execution_count": 55,
   "id": "e33ef12e",
   "metadata": {},
   "outputs": [
    {
     "data": {
      "text/plain": [
       "[<p class=\"title\"><b>The Dormouse's story</b></p>]"
      ]
     },
     "execution_count": 55,
     "metadata": {},
     "output_type": "execute_result"
    }
   ],
   "source": [
    "html2 = soup.select('p.title')\n",
    "html2"
   ]
  },
  {
   "cell_type": "code",
   "execution_count": 56,
   "id": "4ef4056c",
   "metadata": {},
   "outputs": [
    {
     "name": "stdout",
     "output_type": "stream",
     "text": [
      "<p class=\"title\"><b>The Dormouse's story</b></p>\n"
     ]
    }
   ],
   "source": [
    "html2 = soup.select('p.title')\n",
    "for html in html2:\n",
    "    print(html)"
   ]
  },
  {
   "cell_type": "code",
   "execution_count": 57,
   "id": "e735f02b",
   "metadata": {},
   "outputs": [
    {
     "data": {
      "text/plain": [
       "<a class=\"sister\" href=\"http://example.com/elsie\" id=\"link1\">Elsie</a>"
      ]
     },
     "execution_count": 57,
     "metadata": {},
     "output_type": "execute_result"
    }
   ],
   "source": [
    "html2 = soup.select_one('a#link1')\n",
    "html2"
   ]
  },
  {
   "cell_type": "code",
   "execution_count": 58,
   "id": "c665cc91",
   "metadata": {},
   "outputs": [
    {
     "data": {
      "text/plain": [
       "'Elsie'"
      ]
     },
     "execution_count": 58,
     "metadata": {},
     "output_type": "execute_result"
    }
   ],
   "source": [
    "html2.text"
   ]
  },
  {
   "cell_type": "code",
   "execution_count": 59,
   "id": "42867a97",
   "metadata": {},
   "outputs": [
    {
     "data": {
      "text/plain": [
       "['sister']"
      ]
     },
     "execution_count": 59,
     "metadata": {},
     "output_type": "execute_result"
    }
   ],
   "source": [
    "##속성에 해당되는 값을 알고싶을때 \n",
    "html2['class']"
   ]
  },
  {
   "cell_type": "code",
   "execution_count": 60,
   "id": "eccdbc55",
   "metadata": {},
   "outputs": [
    {
     "data": {
      "text/plain": [
       "'http://example.com/elsie'"
      ]
     },
     "execution_count": 60,
     "metadata": {},
     "output_type": "execute_result"
    }
   ],
   "source": [
    "html2['href']"
   ]
  },
  {
   "cell_type": "code",
   "execution_count": 61,
   "id": "b811a1dc",
   "metadata": {},
   "outputs": [
    {
     "data": {
      "text/plain": [
       "<p class=\"title\"><b>The Dormouse's story</b></p>"
      ]
     },
     "execution_count": 61,
     "metadata": {},
     "output_type": "execute_result"
    }
   ],
   "source": [
    "html2 = soup.select('p.title')\n",
    "html3 = html2[0]\n",
    "html3"
   ]
  },
  {
   "cell_type": "code",
   "execution_count": 62,
   "id": "155ad418",
   "metadata": {},
   "outputs": [
    {
     "data": {
      "text/plain": [
       "\"The Dormouse's story\""
      ]
     },
     "execution_count": 62,
     "metadata": {},
     "output_type": "execute_result"
    }
   ],
   "source": [
    "html3.text"
   ]
  },
  {
   "cell_type": "code",
   "execution_count": 63,
   "id": "a2d5014e",
   "metadata": {},
   "outputs": [
    {
     "data": {
      "text/plain": [
       "['title']"
      ]
     },
     "execution_count": 63,
     "metadata": {},
     "output_type": "execute_result"
    }
   ],
   "source": [
    "html3['class']"
   ]
  },
  {
   "cell_type": "code",
   "execution_count": null,
   "id": "ec11fbe0",
   "metadata": {},
   "outputs": [],
   "source": []
  }
 ],
 "metadata": {
  "kernelspec": {
   "display_name": "Python 3 (ipykernel)",
   "language": "python",
   "name": "python3"
  },
  "language_info": {
   "codemirror_mode": {
    "name": "ipython",
    "version": 3
   },
   "file_extension": ".py",
   "mimetype": "text/x-python",
   "name": "python",
   "nbconvert_exporter": "python",
   "pygments_lexer": "ipython3",
   "version": "3.9.6"
  }
 },
 "nbformat": 4,
 "nbformat_minor": 5
}
