{
 "cells": [
  {
   "cell_type": "code",
   "execution_count": 1,
   "id": "df80ade8",
   "metadata": {},
   "outputs": [
    {
     "name": "stdout",
     "output_type": "stream",
     "text": [
      "hello\n"
     ]
    }
   ],
   "source": [
    "print('hello')"
   ]
  },
  {
   "cell_type": "code",
   "execution_count": 3,
   "id": "4c998640",
   "metadata": {},
   "outputs": [
    {
     "name": "stdout",
     "output_type": "stream",
     "text": [
      "3\n"
     ]
    },
    {
     "data": {
      "text/plain": [
       "-1"
      ]
     },
     "execution_count": 3,
     "metadata": {},
     "output_type": "execute_result"
    }
   ],
   "source": [
    "a=1\n",
    "b=2\n",
    "print(a + b)\n",
    "a - b"
   ]
  },
  {
   "cell_type": "code",
   "execution_count": 4,
   "id": "77c404d4",
   "metadata": {},
   "outputs": [
    {
     "data": {
      "text/plain": [
       "0.5"
      ]
     },
     "execution_count": 4,
     "metadata": {},
     "output_type": "execute_result"
    }
   ],
   "source": [
    "a / b"
   ]
  },
  {
   "cell_type": "markdown",
   "id": "22ec3062",
   "metadata": {},
   "source": [
    "제목쓰기\n",
    "1. aaa"
   ]
  },
  {
   "cell_type": "markdown",
   "id": "83321b64",
   "metadata": {},
   "source": [
    "# 제목 ->"
   ]
  },
  {
   "cell_type": "markdown",
   "id": "b11717b4",
   "metadata": {},
   "source": [
    "## 제목 ->"
   ]
  },
  {
   "cell_type": "markdown",
   "id": "e24d5f29",
   "metadata": {},
   "source": [
    "### 제목 ->"
   ]
  },
  {
   "cell_type": "markdown",
   "id": "7b0ab780",
   "metadata": {},
   "source": [
    "#### 제목 ->"
   ]
  },
  {
   "cell_type": "markdown",
   "id": "058d46ce",
   "metadata": {},
   "source": [
    "##### 제목 ->"
   ]
  },
  {
   "cell_type": "markdown",
   "id": "4a337807",
   "metadata": {},
   "source": [
    "# 제목\n",
    "- 내용1\n",
    "    - 아래 단계 내용\n",
    "* 내용2\n",
    "    - 아래 단계 내용\n",
    "# 제목\n",
    "        - 내용1\n",
    "            - 아래 단계 내용\n",
    "        + 내용2\n",
    "            - 아래 단계 내용"
   ]
  },
  {
   "cell_type": "code",
   "execution_count": null,
   "id": "3b03dc26",
   "metadata": {},
   "outputs": [],
   "source": [
    "while True:\n",
    "    score=int(input(\"점수를 입력하세요0~100 : \"))\n",
    "\n",
    "    if  score<0 or score>100:\n",
    "        score=int(input(\"점수를 입력하세요0~100 : \"))\n",
    "    \n",
    "\n",
    "    if   score>=90:\n",
    "        print(\"축하합니다 A 입니다\")\n",
    "    elif score>=80:\n",
    "        print(\"축하합니다 B 입니다\")\n",
    "    elif score>=70:\n",
    "        print(\"축하합니다 C 입니다\")\n",
    "    elif score>=60:\n",
    "        print(\"축하합니다 D 입니다\")\n",
    "    else :\n",
    "        print(\"축하합니다 F 입니다\")\n",
    "   \n"
   ]
  }
 ],
 "metadata": {
  "kernelspec": {
   "display_name": "Python 3 (ipykernel)",
   "language": "python",
   "name": "python3"
  },
  "language_info": {
   "codemirror_mode": {
    "name": "ipython",
    "version": 3
   },
   "file_extension": ".py",
   "mimetype": "text/x-python",
   "name": "python",
   "nbconvert_exporter": "python",
   "pygments_lexer": "ipython3",
   "version": "3.9.6"
  }
 },
 "nbformat": 4,
 "nbformat_minor": 5
}
