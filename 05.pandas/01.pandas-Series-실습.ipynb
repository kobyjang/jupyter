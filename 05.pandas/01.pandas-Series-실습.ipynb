{
 "cells": [
  {
   "cell_type": "markdown",
   "id": "e79f69b9",
   "metadata": {},
   "source": [
    "#### pandas란\n",
    "- 2차원(row, column)형태의 데이터를 분석하기 위한 라이브러리\n",
    "- 대용량 data 분석이 가능하며 배열 계산에 빠른 numpy를 기반으로 설계\n",
    "- pandas 개발자는 금융회사의 분석 전문가로 회사의 data 분석 툴이 마음에 들지 않아 직접 분석 툴을 개발 하고 성능이 좋아 회사의 다른 사람들에게 공유하였고 점점 사용자가 늘면서 전 세계적으로 사용하게 됨\n",
    "- 2차원 데이터 분석 툴 중에 가장 인기가 있음\n",
    "- Series, DataFrame, Index의 이해 필요\n",
    "- 별칭으로 pd를 쓰는 것이 관례임 => import pandas as pd "
   ]
  },
  {
   "cell_type": "code",
   "execution_count": 1,
   "id": "df4d3f8a",
   "metadata": {},
   "outputs": [],
   "source": [
    "import numpy as np\n",
    "import pandas as pd"
   ]
  },
  {
   "cell_type": "markdown",
   "id": "d5079f80",
   "metadata": {},
   "source": [
    "### Serise\n",
    "- Column이 하나인 1차원 형태의 Data\n",
    "- numpy의 ndarray가 보강\n",
    "- Index와 Data를 지님\n",
    "- Series가 모여 2차원 형태의 Data가 되고 이를 DataFrame이라 함"
   ]
  },
  {
   "cell_type": "markdown",
   "id": "2d4d0a2b",
   "metadata": {},
   "source": [
    "#### 생성\n",
    "- list data\n",
    "- list data + index\n",
    "- list data + index + dtype(데이타타입)\n",
    "- dictionary"
   ]
  },
  {
   "cell_type": "code",
   "execution_count": 2,
   "id": "24f6be8e",
   "metadata": {},
   "outputs": [
    {
     "data": {
      "text/plain": [
       "0    1\n",
       "1    2\n",
       "2    3\n",
       "3    4\n",
       "dtype: int64"
      ]
     },
     "execution_count": 2,
     "metadata": {},
     "output_type": "execute_result"
    }
   ],
   "source": [
    "s1 = pd.Series([1, 2, 3, 4])\n",
    "s1"
   ]
  },
  {
   "cell_type": "code",
   "execution_count": 3,
   "id": "e6adba14",
   "metadata": {},
   "outputs": [
    {
     "name": "stdout",
     "output_type": "stream",
     "text": [
      "<class 'pandas.core.series.Series'>\n"
     ]
    }
   ],
   "source": [
    "print(type(s1))"
   ]
  },
  {
   "cell_type": "code",
   "execution_count": 6,
   "id": "31373d58",
   "metadata": {},
   "outputs": [
    {
     "data": {
      "text/plain": [
       "array([1, 2, 3, 4], dtype=int64)"
      ]
     },
     "execution_count": 6,
     "metadata": {},
     "output_type": "execute_result"
    }
   ],
   "source": [
    "s1.values"
   ]
  },
  {
   "cell_type": "code",
   "execution_count": 14,
   "id": "4ba70bd4",
   "metadata": {},
   "outputs": [
    {
     "data": {
      "text/plain": [
       "numpy.ndarray"
      ]
     },
     "execution_count": 14,
     "metadata": {},
     "output_type": "execute_result"
    }
   ],
   "source": [
    "type(s1.values)"
   ]
  },
  {
   "cell_type": "code",
   "execution_count": 7,
   "id": "4a561158",
   "metadata": {},
   "outputs": [
    {
     "data": {
      "text/plain": [
       "RangeIndex(start=0, stop=4, step=1)"
      ]
     },
     "execution_count": 7,
     "metadata": {},
     "output_type": "execute_result"
    }
   ],
   "source": [
    "s1.index"
   ]
  },
  {
   "cell_type": "code",
   "execution_count": 8,
   "id": "6987a093",
   "metadata": {},
   "outputs": [
    {
     "data": {
      "text/plain": [
       "array([0, 1, 2, 3], dtype=int64)"
      ]
     },
     "execution_count": 8,
     "metadata": {},
     "output_type": "execute_result"
    }
   ],
   "source": [
    "s1.index.values"
   ]
  },
  {
   "cell_type": "code",
   "execution_count": 13,
   "id": "77a3e8d8",
   "metadata": {},
   "outputs": [
    {
     "data": {
      "text/plain": [
       "a    1\n",
       "b    2\n",
       "c    3\n",
       "d    4\n",
       "dtype: int64"
      ]
     },
     "execution_count": 13,
     "metadata": {},
     "output_type": "execute_result"
    }
   ],
   "source": [
    "s2 = pd.Series([1, 2, 3, 4], ['a', 'b', 'c', 'd'])\n",
    "s2"
   ]
  },
  {
   "cell_type": "code",
   "execution_count": 16,
   "id": "0005be31",
   "metadata": {
    "scrolled": true
   },
   "outputs": [
    {
     "data": {
      "text/plain": [
       "1      1\n",
       "2      3\n",
       "3      5\n",
       "4      7\n",
       "5      9\n",
       "6     11\n",
       "7     13\n",
       "8     15\n",
       "9     17\n",
       "10    19\n",
       "11    21\n",
       "12    23\n",
       "13    25\n",
       "14    27\n",
       "15    29\n",
       "16    31\n",
       "17    33\n",
       "18    35\n",
       "19    37\n",
       "20    39\n",
       "21    41\n",
       "22    43\n",
       "23    45\n",
       "24    47\n",
       "25    49\n",
       "26    51\n",
       "27    53\n",
       "28    55\n",
       "29    57\n",
       "30    59\n",
       "31    61\n",
       "32    63\n",
       "33    65\n",
       "34    67\n",
       "35    69\n",
       "36    71\n",
       "37    73\n",
       "38    75\n",
       "39    77\n",
       "40    79\n",
       "41    81\n",
       "42    83\n",
       "43    85\n",
       "44    87\n",
       "45    89\n",
       "46    91\n",
       "47    93\n",
       "48    95\n",
       "49    97\n",
       "50    99\n",
       "dtype: int32"
      ]
     },
     "execution_count": 16,
     "metadata": {},
     "output_type": "execute_result"
    }
   ],
   "source": [
    "s3 = pd.Series(np.arange(1, 100, 2), np.arange(1, 51))\n",
    "s3"
   ]
  },
  {
   "cell_type": "code",
   "execution_count": 19,
   "id": "b46f8442",
   "metadata": {},
   "outputs": [
    {
     "name": "stdout",
     "output_type": "stream",
     "text": [
      "0    1\n",
      "1    2\n",
      "2    3\n",
      "3    4\n",
      "4    5\n",
      "dtype: object\n",
      "0    1.0\n",
      "1    2.0\n",
      "2    3.0\n",
      "3    4.0\n",
      "4    5.0\n",
      "dtype: float64\n",
      "0    1\n",
      "1    2\n",
      "2    3\n",
      "3    4\n",
      "4    5\n",
      "dtype: int32\n"
     ]
    }
   ],
   "source": [
    "# datatype 지정\n",
    "s4 = pd.Series([1, 2, 3, 4, 5], dtype=object)\n",
    "print(s4)\n",
    "s5 = pd.Series([1, 2, 3, 4, 5], dtype=float)\n",
    "print(s5)\n",
    "s6 = pd.Series([1, 2, 3, 4, 5], dtype=int)\n",
    "print(s6)"
   ]
  },
  {
   "cell_type": "code",
   "execution_count": 20,
   "id": "6e0a0d73",
   "metadata": {},
   "outputs": [
    {
     "name": "stdout",
     "output_type": "stream",
     "text": [
      "object\n"
     ]
    },
    {
     "data": {
      "text/plain": [
       "0    1.0\n",
       "1    2.0\n",
       "2    3.0\n",
       "3    4.0\n",
       "4    5.0\n",
       "dtype: float64"
      ]
     },
     "execution_count": 20,
     "metadata": {},
     "output_type": "execute_result"
    }
   ],
   "source": [
    "print(s4.dtype)\n",
    "s4 = s4.astype('float')\n",
    "s4"
   ]
  },
  {
   "cell_type": "code",
   "execution_count": 21,
   "id": "b6e12539",
   "metadata": {},
   "outputs": [
    {
     "data": {
      "text/plain": [
       "0    1\n",
       "1    2\n",
       "2    3\n",
       "3    4\n",
       "4    5\n",
       "dtype: int32"
      ]
     },
     "execution_count": 21,
     "metadata": {},
     "output_type": "execute_result"
    }
   ],
   "source": [
    "s4 = s4.astype('int')\n",
    "s4"
   ]
  },
  {
   "cell_type": "code",
   "execution_count": 22,
   "id": "e14cbf47",
   "metadata": {},
   "outputs": [
    {
     "data": {
      "text/plain": [
       "0    1\n",
       "1    2\n",
       "2    3\n",
       "3    4\n",
       "4    5\n",
       "dtype: object"
      ]
     },
     "execution_count": 22,
     "metadata": {},
     "output_type": "execute_result"
    }
   ],
   "source": [
    "s4 = s4.astype('object')\n",
    "s4"
   ]
  },
  {
   "cell_type": "code",
   "execution_count": 24,
   "id": "a70bbd9d",
   "metadata": {},
   "outputs": [
    {
     "data": {
      "text/plain": [
       "{'kor': 90, 'eng': 95, 'mat': 87, 'sci': 88}"
      ]
     },
     "execution_count": 24,
     "metadata": {},
     "output_type": "execute_result"
    }
   ],
   "source": [
    "#dictionary\n",
    "dic_1 = {\n",
    "    'kor':90,\n",
    "    'eng':95,\n",
    "    'mat':87,\n",
    "    'sci':88\n",
    "}\n",
    "dic_1"
   ]
  },
  {
   "cell_type": "code",
   "execution_count": 25,
   "id": "e5a36959",
   "metadata": {},
   "outputs": [
    {
     "data": {
      "text/plain": [
       "kor    90\n",
       "eng    95\n",
       "mat    87\n",
       "sci    88\n",
       "dtype: int64"
      ]
     },
     "execution_count": 25,
     "metadata": {},
     "output_type": "execute_result"
    }
   ],
   "source": [
    "s7 = pd.Series(dic_1)\n",
    "s7"
   ]
  },
  {
   "cell_type": "code",
   "execution_count": 26,
   "id": "5cd790de",
   "metadata": {},
   "outputs": [
    {
     "data": {
      "text/plain": [
       "a    1\n",
       "b    2\n",
       "c    3\n",
       "d    4\n",
       "e    5\n",
       "dtype: int64"
      ]
     },
     "execution_count": 26,
     "metadata": {},
     "output_type": "execute_result"
    }
   ],
   "source": [
    "s = pd.Series([1, 2, 3, 4, 5], ['a', 'b', 'c', 'd', 'e'])\n",
    "s"
   ]
  },
  {
   "cell_type": "code",
   "execution_count": null,
   "id": "edf304f6",
   "metadata": {},
   "outputs": [],
   "source": [
    "s.index"
   ]
  },
  {
   "cell_type": "code",
   "execution_count": null,
   "id": "bfe4def4",
   "metadata": {},
   "outputs": [],
   "source": [
    "s.index.values"
   ]
  },
  {
   "cell_type": "code",
   "execution_count": null,
   "id": "d64397ae",
   "metadata": {},
   "outputs": [],
   "source": [
    "s.values"
   ]
  },
  {
   "cell_type": "code",
   "execution_count": 31,
   "id": "9bcda43f",
   "metadata": {},
   "outputs": [
    {
     "name": "stdout",
     "output_type": "stream",
     "text": [
      "2\n",
      "5\n"
     ]
    }
   ],
   "source": [
    "print(s['b'])\n",
    "print(s['e'])"
   ]
  },
  {
   "cell_type": "code",
   "execution_count": 32,
   "id": "5f8b2f96",
   "metadata": {},
   "outputs": [
    {
     "name": "stdout",
     "output_type": "stream",
     "text": [
      "100\n",
      "101\n",
      "[  1 100   3   4 101]\n"
     ]
    }
   ],
   "source": [
    "s['b'] = 100\n",
    "s['e'] = 101\n",
    "print(s['b'])\n",
    "print(s['e'])\n",
    "print(s.values)"
   ]
  },
  {
   "cell_type": "code",
   "execution_count": 35,
   "id": "8530ac29",
   "metadata": {},
   "outputs": [
    {
     "data": {
      "text/plain": [
       "가      1\n",
       "나    100\n",
       "다      3\n",
       "라      4\n",
       "마    101\n",
       "dtype: int64"
      ]
     },
     "execution_count": 35,
     "metadata": {},
     "output_type": "execute_result"
    }
   ],
   "source": [
    "# index 변경\n",
    "s.index = ['가', '나', '다', '라', '마']\n",
    "s"
   ]
  },
  {
   "cell_type": "code",
   "execution_count": 37,
   "id": "62c4ef6b",
   "metadata": {},
   "outputs": [
    {
     "data": {
      "text/plain": [
       "100"
      ]
     },
     "execution_count": 37,
     "metadata": {},
     "output_type": "execute_result"
    }
   ],
   "source": [
    "s['나']"
   ]
  },
  {
   "cell_type": "code",
   "execution_count": 39,
   "id": "e432db54",
   "metadata": {},
   "outputs": [
    {
     "data": {
      "text/plain": [
       "가    0\n",
       "나    1\n",
       "다    2\n",
       "라    3\n",
       "마    4\n",
       "dtype: int32"
      ]
     },
     "execution_count": 39,
     "metadata": {},
     "output_type": "execute_result"
    }
   ],
   "source": [
    "# 인덱스 재사용\n",
    "s1 = pd.Series(np.arange(5), s.index)\n",
    "s1"
   ]
  },
  {
   "cell_type": "code",
   "execution_count": 41,
   "id": "9d188698",
   "metadata": {},
   "outputs": [
    {
     "data": {
      "text/plain": [
       "나    1\n",
       "라    3\n",
       "dtype: int32"
      ]
     },
     "execution_count": 41,
     "metadata": {},
     "output_type": "execute_result"
    }
   ],
   "source": [
    "s1[['나', '라']]"
   ]
  },
  {
   "cell_type": "code",
   "execution_count": 42,
   "id": "93542d7a",
   "metadata": {},
   "outputs": [
    {
     "data": {
      "text/plain": [
       "나    1\n",
       "다    2\n",
       "라    3\n",
       "dtype: int32"
      ]
     },
     "execution_count": 42,
     "metadata": {},
     "output_type": "execute_result"
    }
   ],
   "source": [
    "s1['나':'라']"
   ]
  },
  {
   "cell_type": "markdown",
   "id": "3060bf7d",
   "metadata": {},
   "source": [
    "- 삭제"
   ]
  },
  {
   "cell_type": "code",
   "execution_count": 43,
   "id": "75e62617",
   "metadata": {},
   "outputs": [
    {
     "data": {
      "text/plain": [
       "가    0\n",
       "나    1\n",
       "다    2\n",
       "라    3\n",
       "마    4\n",
       "dtype: int32"
      ]
     },
     "execution_count": 43,
     "metadata": {},
     "output_type": "execute_result"
    }
   ],
   "source": [
    "s1.drop('나')\n",
    "s1"
   ]
  },
  {
   "cell_type": "code",
   "execution_count": 44,
   "id": "a4bda591",
   "metadata": {},
   "outputs": [
    {
     "data": {
      "text/plain": [
       "가    0\n",
       "다    2\n",
       "라    3\n",
       "마    4\n",
       "dtype: int32"
      ]
     },
     "execution_count": 44,
     "metadata": {},
     "output_type": "execute_result"
    }
   ],
   "source": [
    "s1.drop('나', inplace=True)\n",
    "s1"
   ]
  },
  {
   "cell_type": "code",
   "execution_count": 46,
   "id": "100da702",
   "metadata": {},
   "outputs": [
    {
     "data": {
      "text/plain": [
       "가    0\n",
       "라    3\n",
       "마    4\n",
       "dtype: int32"
      ]
     },
     "execution_count": 46,
     "metadata": {},
     "output_type": "execute_result"
    }
   ],
   "source": [
    "s1 = s1.drop('다')\n",
    "s1"
   ]
  },
  {
   "cell_type": "code",
   "execution_count": 47,
   "id": "0bd8898c",
   "metadata": {},
   "outputs": [
    {
     "data": {
      "text/plain": [
       "가    0\n",
       "라    3\n",
       "dtype: int32"
      ]
     },
     "execution_count": 47,
     "metadata": {},
     "output_type": "execute_result"
    }
   ],
   "source": [
    "# 바로 삭제\n",
    "del s1['마']\n",
    "s1"
   ]
  },
  {
   "cell_type": "code",
   "execution_count": null,
   "id": "ad6d3f2b",
   "metadata": {},
   "outputs": [],
   "source": []
  }
 ],
 "metadata": {
  "kernelspec": {
   "display_name": "Python 3 (ipykernel)",
   "language": "python",
   "name": "python3"
  },
  "language_info": {
   "codemirror_mode": {
    "name": "ipython",
    "version": 3
   },
   "file_extension": ".py",
   "mimetype": "text/x-python",
   "name": "python",
   "nbconvert_exporter": "python",
   "pygments_lexer": "ipython3",
   "version": "3.8.10"
  }
 },
 "nbformat": 4,
 "nbformat_minor": 5
}
