{
 "cells": [
  {
   "cell_type": "code",
   "execution_count": 1,
   "id": "a4abcea5",
   "metadata": {},
   "outputs": [],
   "source": [
    "import numpy as np\n",
    "import pandas as pd"
   ]
  },
  {
   "cell_type": "markdown",
   "id": "8a050c4d",
   "metadata": {},
   "source": [
    "#### 주요 속성 및 함수"
   ]
  },
  {
   "cell_type": "code",
   "execution_count": 2,
   "id": "66e7170f",
   "metadata": {},
   "outputs": [
    {
     "data": {
      "text/plain": [
       "0     1.0\n",
       "1     2.0\n",
       "2     3.0\n",
       "3     1.0\n",
       "4     2.0\n",
       "5     3.0\n",
       "6     NaN\n",
       "7     4.0\n",
       "8     5.0\n",
       "9     4.0\n",
       "10    5.0\n",
       "11    6.0\n",
       "dtype: float64"
      ]
     },
     "execution_count": 2,
     "metadata": {},
     "output_type": "execute_result"
    }
   ],
   "source": [
    "s = pd.Series([1, 2, 3, 1, 2, 3, np.NaN, 4, 5, 4, 5, 6])\n",
    "s"
   ]
  },
  {
   "cell_type": "code",
   "execution_count": 3,
   "id": "75ee2b59",
   "metadata": {},
   "outputs": [
    {
     "data": {
      "text/plain": [
       "12"
      ]
     },
     "execution_count": 3,
     "metadata": {},
     "output_type": "execute_result"
    }
   ],
   "source": [
    "# 개수(NaN포함) \n",
    "s.size"
   ]
  },
  {
   "cell_type": "code",
   "execution_count": 4,
   "id": "21450a26",
   "metadata": {},
   "outputs": [
    {
     "data": {
      "text/plain": [
       "12"
      ]
     },
     "execution_count": 4,
     "metadata": {},
     "output_type": "execute_result"
    }
   ],
   "source": [
    "len(s)"
   ]
  },
  {
   "cell_type": "code",
   "execution_count": 5,
   "id": "0a6aadae",
   "metadata": {},
   "outputs": [
    {
     "data": {
      "text/plain": [
       "(12,)"
      ]
     },
     "execution_count": 5,
     "metadata": {},
     "output_type": "execute_result"
    }
   ],
   "source": [
    "s.shape"
   ]
  },
  {
   "cell_type": "code",
   "execution_count": 6,
   "id": "5331aeba",
   "metadata": {},
   "outputs": [
    {
     "data": {
      "text/plain": [
       "array([ 1.,  2.,  3., nan,  4.,  5.,  6.])"
      ]
     },
     "execution_count": 6,
     "metadata": {},
     "output_type": "execute_result"
    }
   ],
   "source": [
    "# unique : 유일 값만 반환\n",
    "s.unique()"
   ]
  },
  {
   "cell_type": "code",
   "execution_count": 7,
   "id": "2146acb9",
   "metadata": {},
   "outputs": [
    {
     "data": {
      "text/plain": [
       "11"
      ]
     },
     "execution_count": 7,
     "metadata": {},
     "output_type": "execute_result"
    }
   ],
   "source": [
    "# count : 개수(NaN 제외)\n",
    "s.count()"
   ]
  },
  {
   "cell_type": "code",
   "execution_count": 8,
   "id": "fef3c4c9",
   "metadata": {},
   "outputs": [
    {
     "data": {
      "text/plain": [
       "3.272727272727273"
      ]
     },
     "execution_count": 8,
     "metadata": {},
     "output_type": "execute_result"
    }
   ],
   "source": [
    "# mean : 평균(NaN 제외)\n",
    "# (1 + 2 + 3 + 1 + 2 + 3 + 4 + 5 + 4 + 5 + 6)/11\n",
    "s.mean()"
   ]
  },
  {
   "cell_type": "code",
   "execution_count": 9,
   "id": "bb678c84",
   "metadata": {},
   "outputs": [
    {
     "data": {
      "text/plain": [
       "nan"
      ]
     },
     "execution_count": 9,
     "metadata": {},
     "output_type": "execute_result"
    }
   ],
   "source": [
    "# ndarray는 nan 반환\n",
    "arr = np.array([1, 2, 3, 1, 2, 3, np.NaN, 4, 5, 4, 5, 6])\n",
    "arr.mean()"
   ]
  },
  {
   "cell_type": "code",
   "execution_count": 10,
   "id": "0651e071",
   "metadata": {},
   "outputs": [
    {
     "data": {
      "text/plain": [
       "1.0    2\n",
       "2.0    2\n",
       "3.0    2\n",
       "4.0    2\n",
       "5.0    2\n",
       "6.0    1\n",
       "dtype: int64"
      ]
     },
     "execution_count": 10,
     "metadata": {},
     "output_type": "execute_result"
    }
   ],
   "source": [
    "# value_counts() : 각 값의 중복 횟수(NaN 제외)\n",
    "s.value_counts()"
   ]
  },
  {
   "cell_type": "code",
   "execution_count": 11,
   "id": "3ae15f27",
   "metadata": {},
   "outputs": [
    {
     "data": {
      "text/plain": [
       "0    1.0\n",
       "1    2.0\n",
       "2    3.0\n",
       "3    1.0\n",
       "4    2.0\n",
       "dtype: float64"
      ]
     },
     "execution_count": 11,
     "metadata": {},
     "output_type": "execute_result"
    }
   ],
   "source": [
    "s.head()"
   ]
  },
  {
   "cell_type": "code",
   "execution_count": 12,
   "id": "52a60b75",
   "metadata": {},
   "outputs": [
    {
     "data": {
      "text/plain": [
       "0    1.0\n",
       "1    2.0\n",
       "2    3.0\n",
       "dtype: float64"
      ]
     },
     "execution_count": 12,
     "metadata": {},
     "output_type": "execute_result"
    }
   ],
   "source": [
    "s.head(3)"
   ]
  },
  {
   "cell_type": "code",
   "execution_count": 13,
   "id": "e3a40b46",
   "metadata": {},
   "outputs": [
    {
     "data": {
      "text/plain": [
       "7     4.0\n",
       "8     5.0\n",
       "9     4.0\n",
       "10    5.0\n",
       "11    6.0\n",
       "dtype: float64"
      ]
     },
     "execution_count": 13,
     "metadata": {},
     "output_type": "execute_result"
    }
   ],
   "source": [
    "s.tail()"
   ]
  },
  {
   "cell_type": "code",
   "execution_count": 14,
   "id": "d563c646",
   "metadata": {},
   "outputs": [
    {
     "data": {
      "text/plain": [
       "9     4.0\n",
       "10    5.0\n",
       "11    6.0\n",
       "dtype: float64"
      ]
     },
     "execution_count": 14,
     "metadata": {},
     "output_type": "execute_result"
    }
   ],
   "source": [
    "s.tail(3)"
   ]
  },
  {
   "cell_type": "markdown",
   "id": "1aae3e91",
   "metadata": {},
   "source": [
    "#### 연산\n",
    "- index : index 값이 같은 것만 연산, 그렇지 않으면 NaN"
   ]
  },
  {
   "cell_type": "code",
   "execution_count": null,
   "id": "c0b0c3ea",
   "metadata": {},
   "outputs": [],
   "source": [
    "s1 = pd.Series([1, 2, 3, 4, 5], ['a', 'b', 'c', 'd', 'e'])\n",
    "s2 = pd.Series([6, 7, 8, 9, 10], ['c', 'd', 'e', 'f', 'g'])\n",
    "print(s1)\n",
    "print(' ')\n",
    "print(s2)"
   ]
  },
  {
   "cell_type": "code",
   "execution_count": 16,
   "id": "27405e2f",
   "metadata": {},
   "outputs": [
    {
     "data": {
      "text/plain": [
       "a     NaN\n",
       "b     NaN\n",
       "c     9.0\n",
       "d    11.0\n",
       "e    13.0\n",
       "f     NaN\n",
       "g     NaN\n",
       "dtype: float64"
      ]
     },
     "execution_count": 16,
     "metadata": {},
     "output_type": "execute_result"
    }
   ],
   "source": [
    "# index가 동일한 값만 연산\n",
    "s1 + s2"
   ]
  },
  {
   "cell_type": "markdown",
   "id": "035e5c27",
   "metadata": {},
   "source": [
    "- 스칼라"
   ]
  },
  {
   "cell_type": "code",
   "execution_count": 17,
   "id": "18a84ac1",
   "metadata": {},
   "outputs": [
    {
     "data": {
      "text/plain": [
       "a     6\n",
       "b     7\n",
       "c     8\n",
       "d     9\n",
       "e    10\n",
       "dtype: int64"
      ]
     },
     "execution_count": 17,
     "metadata": {},
     "output_type": "execute_result"
    }
   ],
   "source": [
    "s1 + 5"
   ]
  },
  {
   "cell_type": "code",
   "execution_count": 18,
   "id": "ba6172e6",
   "metadata": {},
   "outputs": [
    {
     "data": {
      "text/plain": [
       "a   -4\n",
       "b   -3\n",
       "c   -2\n",
       "d   -1\n",
       "e    0\n",
       "dtype: int64"
      ]
     },
     "execution_count": 18,
     "metadata": {},
     "output_type": "execute_result"
    }
   ],
   "source": [
    "s1 - 5"
   ]
  },
  {
   "cell_type": "code",
   "execution_count": null,
   "id": "ec9c207b",
   "metadata": {},
   "outputs": [],
   "source": []
  }
 ],
 "metadata": {
  "kernelspec": {
   "display_name": "Python 3 (ipykernel)",
   "language": "python",
   "name": "python3"
  },
  "language_info": {
   "codemirror_mode": {
    "name": "ipython",
    "version": 3
   },
   "file_extension": ".py",
   "mimetype": "text/x-python",
   "name": "python",
   "nbconvert_exporter": "python",
   "pygments_lexer": "ipython3",
   "version": "3.8.10"
  }
 },
 "nbformat": 4,
 "nbformat_minor": 5
}
