{
 "cells": [
  {
   "cell_type": "code",
   "execution_count": 1,
   "id": "89ac76b9",
   "metadata": {},
   "outputs": [],
   "source": [
    "#import pymongo\n",
    "from pymongo import MongoClient"
   ]
  },
  {
   "cell_type": "code",
   "execution_count": 2,
   "id": "b99f9954",
   "metadata": {},
   "outputs": [],
   "source": [
    "#client = MongoClient('localhost', 27017)\n",
    "client = MongoClient('mongodb://localhost:27017')"
   ]
  },
  {
   "cell_type": "code",
   "execution_count": 3,
   "id": "49556b8b",
   "metadata": {},
   "outputs": [],
   "source": [
    "db = client.test_database\n",
    "db = client['test_database']"
   ]
  },
  {
   "cell_type": "code",
   "execution_count": 4,
   "id": "4b6c9a0e",
   "metadata": {},
   "outputs": [],
   "source": [
    "collection = db['test_collection']"
   ]
  },
  {
   "cell_type": "markdown",
   "id": "b09c37d5",
   "metadata": {},
   "source": [
    "+ insert_ont: 한 건 입력"
   ]
  },
  {
   "cell_type": "code",
   "execution_count": 7,
   "id": "558e97f7",
   "metadata": {},
   "outputs": [],
   "source": [
    "data_dic = {'name':'홍길동', 'age':17}"
   ]
  },
  {
   "cell_type": "code",
   "execution_count": 8,
   "id": "f8070044",
   "metadata": {},
   "outputs": [],
   "source": [
    "re_data_dic = collection.insert_one(data_dic)"
   ]
  },
  {
   "cell_type": "code",
   "execution_count": 9,
   "id": "c55c86d2",
   "metadata": {},
   "outputs": [
    {
     "name": "stdout",
     "output_type": "stream",
     "text": [
      "<pymongo.results.InsertOneResult object at 0x000002029146CA80>\n"
     ]
    },
    {
     "data": {
      "text/plain": [
       "ObjectId('6168ea9bea63b3e84943bcdb')"
      ]
     },
     "execution_count": 9,
     "metadata": {},
     "output_type": "execute_result"
    }
   ],
   "source": [
    "print(re_data_dic)\n",
    "re_data_dic.inserted_id"
   ]
  },
  {
   "cell_type": "code",
   "execution_count": 10,
   "id": "7987a4bf",
   "metadata": {},
   "outputs": [],
   "source": [
    "data_dic2 = {'name':'김길동', 'age':15}"
   ]
  },
  {
   "cell_type": "code",
   "execution_count": 11,
   "id": "7fea189f",
   "metadata": {},
   "outputs": [],
   "source": [
    "re2= collection.insert_one(data_dic2)"
   ]
  },
  {
   "cell_type": "code",
   "execution_count": 12,
   "id": "a564f249",
   "metadata": {},
   "outputs": [],
   "source": [
    "data_list = [\n",
    "    {'name':'이길동', 'age':25},\n",
    "    {'name':'박길동', 'age':31},\n",
    "    {'name':'정길동', 'age':35}\n",
    "]"
   ]
  },
  {
   "cell_type": "code",
   "execution_count": 13,
   "id": "72dda62a",
   "metadata": {},
   "outputs": [],
   "source": [
    "re_3 = collection.insert_many(data_list)"
   ]
  },
  {
   "cell_type": "code",
   "execution_count": 14,
   "id": "c4a45907",
   "metadata": {},
   "outputs": [
    {
     "data": {
      "text/plain": [
       "[ObjectId('6168ed8eea63b3e84943bcdd'),\n",
       " ObjectId('6168ed8eea63b3e84943bcde'),\n",
       " ObjectId('6168ed8eea63b3e84943bcdf')]"
      ]
     },
     "execution_count": 14,
     "metadata": {},
     "output_type": "execute_result"
    }
   ],
   "source": [
    "re_3.inserted_ids"
   ]
  },
  {
   "cell_type": "markdown",
   "id": "df8a50ca",
   "metadata": {},
   "source": [
    "find_one,find"
   ]
  },
  {
   "cell_type": "code",
   "execution_count": 15,
   "id": "015b753a",
   "metadata": {},
   "outputs": [
    {
     "data": {
      "text/plain": [
       "{'_id': ObjectId('6168ea9bea63b3e84943bcdb'), 'name': '홍길동', 'age': 17}"
      ]
     },
     "execution_count": 15,
     "metadata": {},
     "output_type": "execute_result"
    }
   ],
   "source": [
    "sr1 = collection.find_one()\n",
    "sr1"
   ]
  },
  {
   "cell_type": "code",
   "execution_count": 16,
   "id": "55fb01b2",
   "metadata": {},
   "outputs": [
    {
     "data": {
      "text/plain": [
       "<pymongo.cursor.Cursor at 0x202918f6430>"
      ]
     },
     "execution_count": 16,
     "metadata": {},
     "output_type": "execute_result"
    }
   ],
   "source": [
    "sr2 = collection.find()\n",
    "sr2"
   ]
  },
  {
   "cell_type": "code",
   "execution_count": 17,
   "id": "9bf7a819",
   "metadata": {},
   "outputs": [
    {
     "name": "stdout",
     "output_type": "stream",
     "text": [
      "{'_id': ObjectId('6168ea9bea63b3e84943bcdb'), 'name': '홍길동', 'age': 17}\n",
      "{'_id': ObjectId('6168ed2bea63b3e84943bcdc'), 'name': '김길동', 'age': 15}\n",
      "{'_id': ObjectId('6168ed8eea63b3e84943bcdd'), 'name': '이길동', 'age': 25}\n",
      "{'_id': ObjectId('6168ed8eea63b3e84943bcde'), 'name': '박길동', 'age': 31}\n",
      "{'_id': ObjectId('6168ed8eea63b3e84943bcdf'), 'name': '정길동', 'age': 35}\n"
     ]
    }
   ],
   "source": [
    "for sr2_item in sr2:\n",
    "    print(sr2_item)"
   ]
  },
  {
   "cell_type": "markdown",
   "id": "d74132f1",
   "metadata": {},
   "source": [
    "참조자료 : https://sikaleo.tistory.com/51\n",
    "+ 조건"
   ]
  },
  {
   "cell_type": "code",
   "execution_count": 21,
   "id": "1c89e233",
   "metadata": {},
   "outputs": [
    {
     "name": "stdout",
     "output_type": "stream",
     "text": [
      "{'_id': ObjectId('6168ea9bea63b3e84943bcdb'), 'name': '홍길동', 'age': 17}\n"
     ]
    }
   ],
   "source": [
    "# where name='홍길동'\n",
    "srs = collection.find({'name':'홍길동'})\n",
    "for sr in srs:\n",
    "    print(sr)"
   ]
  },
  {
   "cell_type": "code",
   "execution_count": 22,
   "id": "92f8a87f",
   "metadata": {},
   "outputs": [],
   "source": [
    "#where name='홍길동' and age=17\n",
    "srs = collection.find({'name':'홍길동','age':16})\n",
    "for sr in srs:\n",
    "    print(sr)"
   ]
  },
  {
   "cell_type": "code",
   "execution_count": 24,
   "id": "a06a7a47",
   "metadata": {},
   "outputs": [
    {
     "name": "stdout",
     "output_type": "stream",
     "text": [
      "{'_id': ObjectId('6168ea9bea63b3e84943bcdb'), 'name': '홍길동', 'age': 17}\n",
      "{'_id': ObjectId('6168ed8eea63b3e84943bcdd'), 'name': '이길동', 'age': 25}\n",
      "{'_id': ObjectId('6168ed8eea63b3e84943bcde'), 'name': '박길동', 'age': 31}\n",
      "{'_id': ObjectId('6168ed8eea63b3e84943bcdf'), 'name': '정길동', 'age': 35}\n"
     ]
    }
   ],
   "source": [
    "#where and age>=17\n",
    "srs = collection.find({'age':{'$gte':17}})\n",
    "for sr in srs:\n",
    "    print(sr)"
   ]
  },
  {
   "cell_type": "code",
   "execution_count": 25,
   "id": "0367e85a",
   "metadata": {},
   "outputs": [
    {
     "name": "stdout",
     "output_type": "stream",
     "text": [
      "{'name': '홍길동'}\n",
      "{'name': '이길동'}\n",
      "{'name': '박길동'}\n",
      "{'name': '정길동'}\n"
     ]
    }
   ],
   "source": [
    "#select name from collection where and age>=17\n",
    "srs = collection.find({'age':{'$gte':17}},{'name':1, '_id':0})\n",
    "for sr in srs:\n",
    "    print(sr)"
   ]
  },
  {
   "cell_type": "markdown",
   "id": "408ad76e",
   "metadata": {},
   "source": [
    "- update_one,update_many"
   ]
  },
  {
   "cell_type": "code",
   "execution_count": 27,
   "id": "71dc14ca",
   "metadata": {},
   "outputs": [
    {
     "data": {
      "text/plain": [
       "<pymongo.results.UpdateResult at 0x2029190ef80>"
      ]
     },
     "execution_count": 27,
     "metadata": {},
     "output_type": "execute_result"
    }
   ],
   "source": [
    "collection.update_one({'name':'홍길동'},{'$set':{'age':18}})"
   ]
  },
  {
   "cell_type": "code",
   "execution_count": 32,
   "id": "29bdd447",
   "metadata": {},
   "outputs": [
    {
     "name": "stdout",
     "output_type": "stream",
     "text": [
      "{'_id': ObjectId('6168ea9bea63b3e84943bcdb'), 'name': '홍길동', 'age': 18}\n"
     ]
    }
   ],
   "source": [
    "srs= collection.find({'name':'홍길동'})\n",
    "for sr in srs:\n",
    "    print(sr)"
   ]
  },
  {
   "cell_type": "markdown",
   "id": "b3a2204e",
   "metadata": {},
   "source": [
    "#나이가 30보다 많은 사람의 나이를 31로 update 하세요"
   ]
  },
  {
   "cell_type": "code",
   "execution_count": 33,
   "id": "ab20ce90",
   "metadata": {},
   "outputs": [
    {
     "data": {
      "text/plain": [
       "<pymongo.results.UpdateResult at 0x202914fce00>"
      ]
     },
     "execution_count": 33,
     "metadata": {},
     "output_type": "execute_result"
    }
   ],
   "source": [
    "collection.update_many({'age':{'$gte':30}},{'$set':{'age':31}})"
   ]
  },
  {
   "cell_type": "code",
   "execution_count": 39,
   "id": "9876d36c",
   "metadata": {},
   "outputs": [
    {
     "name": "stdout",
     "output_type": "stream",
     "text": [
      "{'name': '박길동', 'age': 31}\n",
      "{'name': '정길동', 'age': 31}\n"
     ]
    }
   ],
   "source": [
    "srs = collection.find({'age':{'$gte':30}},{'name':1, '_id':0 ,'age':1})\n",
    "for sr in srs:\n",
    "    print(sr)"
   ]
  },
  {
   "cell_type": "markdown",
   "id": "dac2b5af",
   "metadata": {},
   "source": [
    "delete,delete_many"
   ]
  },
  {
   "cell_type": "code",
   "execution_count": 40,
   "id": "73410988",
   "metadata": {},
   "outputs": [
    {
     "data": {
      "text/plain": [
       "<pymongo.results.DeleteResult at 0x2029190e980>"
      ]
     },
     "execution_count": 40,
     "metadata": {},
     "output_type": "execute_result"
    }
   ],
   "source": [
    "collection.delete_one({'name':'홍길동'})"
   ]
  },
  {
   "cell_type": "code",
   "execution_count": 41,
   "id": "eef0c60a",
   "metadata": {},
   "outputs": [
    {
     "name": "stdout",
     "output_type": "stream",
     "text": [
      "{'_id': ObjectId('6168ed2bea63b3e84943bcdc'), 'name': '김길동', 'age': 15}\n",
      "{'_id': ObjectId('6168ed8eea63b3e84943bcdd'), 'name': '이길동', 'age': 25}\n",
      "{'_id': ObjectId('6168ed8eea63b3e84943bcde'), 'name': '박길동', 'age': 31}\n",
      "{'_id': ObjectId('6168ed8eea63b3e84943bcdf'), 'name': '정길동', 'age': 31}\n"
     ]
    }
   ],
   "source": [
    "srs=collection.find()\n",
    "for sr in srs:\n",
    "    print(sr)"
   ]
  },
  {
   "cell_type": "code",
   "execution_count": 43,
   "id": "0c941946",
   "metadata": {},
   "outputs": [
    {
     "data": {
      "text/plain": [
       "<pymongo.results.DeleteResult at 0x2029190e400>"
      ]
     },
     "execution_count": 43,
     "metadata": {},
     "output_type": "execute_result"
    }
   ],
   "source": [
    "collection.delete_many({'age':{'$gte':31}})"
   ]
  },
  {
   "cell_type": "code",
   "execution_count": 44,
   "id": "dcd44790",
   "metadata": {},
   "outputs": [
    {
     "name": "stdout",
     "output_type": "stream",
     "text": [
      "{'_id': ObjectId('6168ed2bea63b3e84943bcdc'), 'name': '김길동', 'age': 15}\n",
      "{'_id': ObjectId('6168ed8eea63b3e84943bcdd'), 'name': '이길동', 'age': 25}\n"
     ]
    }
   ],
   "source": [
    "srs=collection.find()\n",
    "for sr in srs:\n",
    "    print(sr)"
   ]
  },
  {
   "cell_type": "code",
   "execution_count": null,
   "id": "7c520ccf",
   "metadata": {},
   "outputs": [],
   "source": []
  }
 ],
 "metadata": {
  "kernelspec": {
   "display_name": "Python 3 (ipykernel)",
   "language": "python",
   "name": "python3"
  },
  "language_info": {
   "codemirror_mode": {
    "name": "ipython",
    "version": 3
   },
   "file_extension": ".py",
   "mimetype": "text/x-python",
   "name": "python",
   "nbconvert_exporter": "python",
   "pygments_lexer": "ipython3",
   "version": "3.9.6"
  }
 },
 "nbformat": 4,
 "nbformat_minor": 5
}
