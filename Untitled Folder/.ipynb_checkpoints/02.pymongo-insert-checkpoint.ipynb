{
 "cells": [
  {
   "cell_type": "code",
   "execution_count": 1,
   "id": "ae02e828",
   "metadata": {},
   "outputs": [],
   "source": [
    "#import pymongo\n",
    "from pymongo import MongoClient"
   ]
  },
  {
   "cell_type": "code",
   "execution_count": 2,
   "id": "f2bcb303",
   "metadata": {},
   "outputs": [],
   "source": [
    "#client = MongoClient('localhost', 27017)\n",
    "client = MongoClient('mongodb://localhost:27017')"
   ]
  },
  {
   "cell_type": "code",
   "execution_count": 3,
   "id": "79ed4d92",
   "metadata": {},
   "outputs": [],
   "source": [
    "db = client.test_database\n",
    "db = client['test_database']"
   ]
  },
  {
   "cell_type": "code",
   "execution_count": 4,
   "id": "44f61b02",
   "metadata": {},
   "outputs": [],
   "source": [
    "collection = db['test_collection']"
   ]
  },
  {
   "cell_type": "markdown",
   "id": "55261ecb",
   "metadata": {},
   "source": [
    "+ insert_ont: 한 건 입력"
   ]
  },
  {
   "cell_type": "code",
   "execution_count": 7,
   "id": "eba92816",
   "metadata": {},
   "outputs": [],
   "source": [
    "data_dic = {'name':'홍길동', 'age':17}"
   ]
  },
  {
   "cell_type": "code",
   "execution_count": 8,
   "id": "89cbb560",
   "metadata": {},
   "outputs": [],
   "source": [
    "re_data_dic = collection.insert_one(data_dic)"
   ]
  },
  {
   "cell_type": "code",
   "execution_count": 9,
   "id": "294ad987",
   "metadata": {},
   "outputs": [
    {
     "name": "stdout",
     "output_type": "stream",
     "text": [
      "<pymongo.results.InsertOneResult object at 0x000002029146CA80>\n"
     ]
    },
    {
     "data": {
      "text/plain": [
       "ObjectId('6168ea9bea63b3e84943bcdb')"
      ]
     },
     "execution_count": 9,
     "metadata": {},
     "output_type": "execute_result"
    }
   ],
   "source": [
    "print(re_data_dic)\n",
    "re_data_dic.inserted_id"
   ]
  },
  {
   "cell_type": "code",
   "execution_count": 10,
   "id": "70505de3",
   "metadata": {},
   "outputs": [],
   "source": [
    "data_dic2 = {'name':'김길동', 'age':15}"
   ]
  },
  {
   "cell_type": "code",
   "execution_count": 11,
   "id": "3b9e87c8",
   "metadata": {},
   "outputs": [],
   "source": [
    "re2= collection.insert_one(data_dic2)"
   ]
  },
  {
   "cell_type": "code",
   "execution_count": 12,
   "id": "29280f91",
   "metadata": {},
   "outputs": [],
   "source": [
    "data_list = [\n",
    "    {'name':'이길동', 'age':25},\n",
    "    {'name':'박길동', 'age':31},\n",
    "    {'name':'정길동', 'age':35}\n",
    "]"
   ]
  },
  {
   "cell_type": "code",
   "execution_count": 13,
   "id": "6aa8901a",
   "metadata": {},
   "outputs": [],
   "source": [
    "re_3 = collection.insert_many(data_list)"
   ]
  },
  {
   "cell_type": "code",
   "execution_count": 14,
   "id": "0f61c98d",
   "metadata": {},
   "outputs": [
    {
     "data": {
      "text/plain": [
       "[ObjectId('6168ed8eea63b3e84943bcdd'),\n",
       " ObjectId('6168ed8eea63b3e84943bcde'),\n",
       " ObjectId('6168ed8eea63b3e84943bcdf')]"
      ]
     },
     "execution_count": 14,
     "metadata": {},
     "output_type": "execute_result"
    }
   ],
   "source": [
    "re_3.inserted_ids"
   ]
  },
  {
   "cell_type": "markdown",
   "id": "58af20c2",
   "metadata": {},
   "source": [
    "find_one,find"
   ]
  },
  {
   "cell_type": "code",
   "execution_count": 15,
   "id": "c9725ad7",
   "metadata": {},
   "outputs": [
    {
     "data": {
      "text/plain": [
       "{'_id': ObjectId('6168ea9bea63b3e84943bcdb'), 'name': '홍길동', 'age': 17}"
      ]
     },
     "execution_count": 15,
     "metadata": {},
     "output_type": "execute_result"
    }
   ],
   "source": [
    "sr1 = collection.find_one()\n",
    "sr1"
   ]
  },
  {
   "cell_type": "code",
   "execution_count": 16,
   "id": "59d7adbe",
   "metadata": {},
   "outputs": [
    {
     "data": {
      "text/plain": [
       "<pymongo.cursor.Cursor at 0x202918f6430>"
      ]
     },
     "execution_count": 16,
     "metadata": {},
     "output_type": "execute_result"
    }
   ],
   "source": [
    "sr2 = collection.find()\n",
    "sr2"
   ]
  },
  {
   "cell_type": "code",
   "execution_count": 17,
   "id": "14b4d551",
   "metadata": {},
   "outputs": [
    {
     "name": "stdout",
     "output_type": "stream",
     "text": [
      "{'_id': ObjectId('6168ea9bea63b3e84943bcdb'), 'name': '홍길동', 'age': 17}\n",
      "{'_id': ObjectId('6168ed2bea63b3e84943bcdc'), 'name': '김길동', 'age': 15}\n",
      "{'_id': ObjectId('6168ed8eea63b3e84943bcdd'), 'name': '이길동', 'age': 25}\n",
      "{'_id': ObjectId('6168ed8eea63b3e84943bcde'), 'name': '박길동', 'age': 31}\n",
      "{'_id': ObjectId('6168ed8eea63b3e84943bcdf'), 'name': '정길동', 'age': 35}\n"
     ]
    }
   ],
   "source": [
    "for sr2_item in sr2:\n",
    "    print(sr2_item)"
   ]
  },
  {
   "cell_type": "markdown",
   "id": "4aae7be6",
   "metadata": {},
   "source": [
    "참조자료 : https://sikaleo.tistory.com/51\n",
    "+ 조건"
   ]
  },
  {
   "cell_type": "code",
   "execution_count": 21,
   "id": "7fddf5e9",
   "metadata": {},
   "outputs": [
    {
     "name": "stdout",
     "output_type": "stream",
     "text": [
      "{'_id': ObjectId('6168ea9bea63b3e84943bcdb'), 'name': '홍길동', 'age': 17}\n"
     ]
    }
   ],
   "source": [
    "# where name='홍길동'\n",
    "srs = collection.find({'name':'홍길동'})\n",
    "for sr in srs:\n",
    "    print(sr)"
   ]
  },
  {
   "cell_type": "code",
   "execution_count": 22,
   "id": "8f0821fb",
   "metadata": {},
   "outputs": [],
   "source": [
    "#where name='홍길동' and age=17\n",
    "srs = collection.find({'name':'홍길동','age':16})\n",
    "for sr in srs:\n",
    "    print(sr)"
   ]
  },
  {
   "cell_type": "code",
   "execution_count": 24,
   "id": "374a9fe6",
   "metadata": {},
   "outputs": [
    {
     "name": "stdout",
     "output_type": "stream",
     "text": [
      "{'_id': ObjectId('6168ea9bea63b3e84943bcdb'), 'name': '홍길동', 'age': 17}\n",
      "{'_id': ObjectId('6168ed8eea63b3e84943bcdd'), 'name': '이길동', 'age': 25}\n",
      "{'_id': ObjectId('6168ed8eea63b3e84943bcde'), 'name': '박길동', 'age': 31}\n",
      "{'_id': ObjectId('6168ed8eea63b3e84943bcdf'), 'name': '정길동', 'age': 35}\n"
     ]
    }
   ],
   "source": [
    "#where and age>=17\n",
    "srs = collection.find({'age':{'$gte':17}})\n",
    "for sr in srs:\n",
    "    print(sr)"
   ]
  },
  {
   "cell_type": "code",
   "execution_count": 25,
   "id": "2f9fa5d2",
   "metadata": {},
   "outputs": [
    {
     "name": "stdout",
     "output_type": "stream",
     "text": [
      "{'name': '홍길동'}\n",
      "{'name': '이길동'}\n",
      "{'name': '박길동'}\n",
      "{'name': '정길동'}\n"
     ]
    }
   ],
   "source": [
    "#select name from collection where and age>=17\n",
    "srs = collection.find({'age':{'$gte':17}},{'name':1, '_id':0})\n",
    "for sr in srs:\n",
    "    print(sr)"
   ]
  },
  {
   "cell_type": "markdown",
   "id": "6cc8f9b1",
   "metadata": {},
   "source": [
    "- update_one,update_many"
   ]
  },
  {
   "cell_type": "code",
   "execution_count": 27,
   "id": "3d592028",
   "metadata": {},
   "outputs": [
    {
     "data": {
      "text/plain": [
       "<pymongo.results.UpdateResult at 0x2029190ef80>"
      ]
     },
     "execution_count": 27,
     "metadata": {},
     "output_type": "execute_result"
    }
   ],
   "source": [
    "collection.update_one({'name':'홍길동'},{'$set':{'age':18}})"
   ]
  },
  {
   "cell_type": "code",
   "execution_count": 32,
   "id": "21a907d3",
   "metadata": {},
   "outputs": [
    {
     "name": "stdout",
     "output_type": "stream",
     "text": [
      "{'_id': ObjectId('6168ea9bea63b3e84943bcdb'), 'name': '홍길동', 'age': 18}\n"
     ]
    }
   ],
   "source": [
    "srs= collection.find({'name':'홍길동'})\n",
    "for sr in srs:\n",
    "    print(sr)"
   ]
  },
  {
   "cell_type": "markdown",
   "id": "b5dbb9c3",
   "metadata": {},
   "source": [
    "#나이가 30보다 많은 사람의 나이를 31로 update 하세요"
   ]
  },
  {
   "cell_type": "code",
   "execution_count": 33,
   "id": "481dc88f",
   "metadata": {},
   "outputs": [
    {
     "data": {
      "text/plain": [
       "<pymongo.results.UpdateResult at 0x202914fce00>"
      ]
     },
     "execution_count": 33,
     "metadata": {},
     "output_type": "execute_result"
    }
   ],
   "source": [
    "collection.update_many({'age':{'$gte':30}},{'$set':{'age':31}})"
   ]
  },
  {
   "cell_type": "code",
   "execution_count": 39,
   "id": "b9450bc8",
   "metadata": {},
   "outputs": [
    {
     "name": "stdout",
     "output_type": "stream",
     "text": [
      "{'name': '박길동', 'age': 31}\n",
      "{'name': '정길동', 'age': 31}\n"
     ]
    }
   ],
   "source": [
    "srs = collection.find({'age':{'$gte':30}},{'name':1, '_id':0 ,'age':1})\n",
    "for sr in srs:\n",
    "    print(sr)"
   ]
  },
  {
   "cell_type": "markdown",
   "id": "ade66233",
   "metadata": {},
   "source": [
    "delete,delete_many"
   ]
  },
  {
   "cell_type": "code",
   "execution_count": 40,
   "id": "c66fbea7",
   "metadata": {},
   "outputs": [
    {
     "data": {
      "text/plain": [
       "<pymongo.results.DeleteResult at 0x2029190e980>"
      ]
     },
     "execution_count": 40,
     "metadata": {},
     "output_type": "execute_result"
    }
   ],
   "source": [
    "collection.delete_one({'name':'홍길동'})"
   ]
  },
  {
   "cell_type": "code",
   "execution_count": 41,
   "id": "6e5f9ac2",
   "metadata": {},
   "outputs": [
    {
     "name": "stdout",
     "output_type": "stream",
     "text": [
      "{'_id': ObjectId('6168ed2bea63b3e84943bcdc'), 'name': '김길동', 'age': 15}\n",
      "{'_id': ObjectId('6168ed8eea63b3e84943bcdd'), 'name': '이길동', 'age': 25}\n",
      "{'_id': ObjectId('6168ed8eea63b3e84943bcde'), 'name': '박길동', 'age': 31}\n",
      "{'_id': ObjectId('6168ed8eea63b3e84943bcdf'), 'name': '정길동', 'age': 31}\n"
     ]
    }
   ],
   "source": [
    "srs=collection.find()\n",
    "for sr in srs:\n",
    "    print(sr)"
   ]
  },
  {
   "cell_type": "code",
   "execution_count": 43,
   "id": "28b1400b",
   "metadata": {},
   "outputs": [
    {
     "data": {
      "text/plain": [
       "<pymongo.results.DeleteResult at 0x2029190e400>"
      ]
     },
     "execution_count": 43,
     "metadata": {},
     "output_type": "execute_result"
    }
   ],
   "source": [
    "collection.delete_many({'age':{'$gte':31}})"
   ]
  },
  {
   "cell_type": "code",
   "execution_count": 44,
   "id": "2ef0cd0f",
   "metadata": {},
   "outputs": [
    {
     "name": "stdout",
     "output_type": "stream",
     "text": [
      "{'_id': ObjectId('6168ed2bea63b3e84943bcdc'), 'name': '김길동', 'age': 15}\n",
      "{'_id': ObjectId('6168ed8eea63b3e84943bcdd'), 'name': '이길동', 'age': 25}\n"
     ]
    }
   ],
   "source": [
    "srs=collection.find()\n",
    "for sr in srs:\n",
    "    print(sr)"
   ]
  },
  {
   "cell_type": "code",
   "execution_count": null,
   "id": "f819c38c",
   "metadata": {},
   "outputs": [],
   "source": []
  }
 ],
 "metadata": {
  "kernelspec": {
   "display_name": "Python 3 (ipykernel)",
   "language": "python",
   "name": "python3"
  },
  "language_info": {
   "codemirror_mode": {
    "name": "ipython",
    "version": 3
   },
   "file_extension": ".py",
   "mimetype": "text/x-python",
   "name": "python",
   "nbconvert_exporter": "python",
   "pygments_lexer": "ipython3",
   "version": "3.9.6"
  }
 },
 "nbformat": 4,
 "nbformat_minor": 5
}
